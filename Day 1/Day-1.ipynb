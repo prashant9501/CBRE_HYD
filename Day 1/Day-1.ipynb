{
 "cells": [
  {
   "cell_type": "markdown",
   "id": "d43fb847-573c-4472-99f2-7ba1aed476b3",
   "metadata": {},
   "source": [
    "# Importing the libraries"
   ]
  },
  {
   "cell_type": "code",
   "execution_count": 119,
   "id": "928938df-d66e-4273-a436-43dce8918475",
   "metadata": {},
   "outputs": [],
   "source": [
    "import tensorflow as tf\n",
    "from sklearn.datasets import load_iris\n",
    "from sklearn.model_selection import train_test_split\n",
    "from tensorflow.keras.models import Sequential  # Sequential class\n",
    "from tensorflow.keras.layers import Dense, Dropout\n",
    "from tensorflow.keras.utils import to_categorical\n",
    "from tensorflow.keras import metrics"
   ]
  },
  {
   "cell_type": "markdown",
   "id": "2103476d-8e18-4608-9100-e4dedd324b55",
   "metadata": {},
   "source": [
    "# Iris Dataset"
   ]
  },
  {
   "cell_type": "code",
   "execution_count": 11,
   "id": "5e185ec3-77ca-418b-89b1-53ecbe4ac48f",
   "metadata": {},
   "outputs": [
    {
     "data": {
      "text/plain": [
       "dict_keys(['data', 'target', 'frame', 'target_names', 'DESCR', 'feature_names', 'filename', 'data_module'])"
      ]
     },
     "execution_count": 11,
     "metadata": {},
     "output_type": "execute_result"
    }
   ],
   "source": [
    "# Load the Iris Dataset\n",
    "iris = load_iris()\n",
    "iris.keys()"
   ]
  },
  {
   "cell_type": "code",
   "execution_count": 12,
   "id": "4b82d13d-8ec7-4aa6-b212-5d52397ee7cc",
   "metadata": {},
   "outputs": [
    {
     "name": "stdout",
     "output_type": "stream",
     "text": [
      ".. _iris_dataset:\n",
      "\n",
      "Iris plants dataset\n",
      "--------------------\n",
      "\n",
      "**Data Set Characteristics:**\n",
      "\n",
      "    :Number of Instances: 150 (50 in each of three classes)\n",
      "    :Number of Attributes: 4 numeric, predictive attributes and the class\n",
      "    :Attribute Information:\n",
      "        - sepal length in cm\n",
      "        - sepal width in cm\n",
      "        - petal length in cm\n",
      "        - petal width in cm\n",
      "        - class:\n",
      "                - Iris-Setosa\n",
      "                - Iris-Versicolour\n",
      "                - Iris-Virginica\n",
      "                \n",
      "    :Summary Statistics:\n",
      "\n",
      "    ============== ==== ==== ======= ===== ====================\n",
      "                    Min  Max   Mean    SD   Class Correlation\n",
      "    ============== ==== ==== ======= ===== ====================\n",
      "    sepal length:   4.3  7.9   5.84   0.83    0.7826\n",
      "    sepal width:    2.0  4.4   3.05   0.43   -0.4194\n",
      "    petal length:   1.0  6.9   3.76   1.76    0.9490  (high!)\n",
      "    petal width:    0.1  2.5   1.20   0.76    0.9565  (high!)\n",
      "    ============== ==== ==== ======= ===== ====================\n",
      "\n",
      "    :Missing Attribute Values: None\n",
      "    :Class Distribution: 33.3% for each of 3 classes.\n",
      "    :Creator: R.A. Fisher\n",
      "    :Donor: Michael Marshall (MARSHALL%PLU@io.arc.nasa.gov)\n",
      "    :Date: July, 1988\n",
      "\n",
      "The famous Iris database, first used by Sir R.A. Fisher. The dataset is taken\n",
      "from Fisher's paper. Note that it's the same as in R, but not as in the UCI\n",
      "Machine Learning Repository, which has two wrong data points.\n",
      "\n",
      "This is perhaps the best known database to be found in the\n",
      "pattern recognition literature.  Fisher's paper is a classic in the field and\n",
      "is referenced frequently to this day.  (See Duda & Hart, for example.)  The\n",
      "data set contains 3 classes of 50 instances each, where each class refers to a\n",
      "type of iris plant.  One class is linearly separable from the other 2; the\n",
      "latter are NOT linearly separable from each other.\n",
      "\n",
      "|details-start|\n",
      "**References**\n",
      "|details-split|\n",
      "\n",
      "- Fisher, R.A. \"The use of multiple measurements in taxonomic problems\"\n",
      "  Annual Eugenics, 7, Part II, 179-188 (1936); also in \"Contributions to\n",
      "  Mathematical Statistics\" (John Wiley, NY, 1950).\n",
      "- Duda, R.O., & Hart, P.E. (1973) Pattern Classification and Scene Analysis.\n",
      "  (Q327.D83) John Wiley & Sons.  ISBN 0-471-22361-1.  See page 218.\n",
      "- Dasarathy, B.V. (1980) \"Nosing Around the Neighborhood: A New System\n",
      "  Structure and Classification Rule for Recognition in Partially Exposed\n",
      "  Environments\".  IEEE Transactions on Pattern Analysis and Machine\n",
      "  Intelligence, Vol. PAMI-2, No. 1, 67-71.\n",
      "- Gates, G.W. (1972) \"The Reduced Nearest Neighbor Rule\".  IEEE Transactions\n",
      "  on Information Theory, May 1972, 431-433.\n",
      "- See also: 1988 MLC Proceedings, 54-64.  Cheeseman et al\"s AUTOCLASS II\n",
      "  conceptual clustering system finds 3 classes in the data.\n",
      "- Many, many more ...\n",
      "\n",
      "|details-end|\n"
     ]
    }
   ],
   "source": [
    "print(iris['DESCR'])"
   ]
  },
  {
   "cell_type": "code",
   "execution_count": 13,
   "id": "5e105dd8-db43-4b34-9516-a9ead9406682",
   "metadata": {},
   "outputs": [
    {
     "name": "stdout",
     "output_type": "stream",
     "text": [
      "['setosa' 'versicolor' 'virginica']\n"
     ]
    }
   ],
   "source": [
    "print(iris['target_names'])"
   ]
  },
  {
   "cell_type": "code",
   "execution_count": 14,
   "id": "c8d9bbf8-fc83-42f5-a5ac-7c137bcaeecf",
   "metadata": {},
   "outputs": [
    {
     "name": "stdout",
     "output_type": "stream",
     "text": [
      "['sepal length (cm)', 'sepal width (cm)', 'petal length (cm)', 'petal width (cm)']\n"
     ]
    }
   ],
   "source": [
    "print(iris['feature_names'])"
   ]
  },
  {
   "cell_type": "code",
   "execution_count": 18,
   "id": "7e601b16-b45c-45f0-8581-95bc8c4fc584",
   "metadata": {},
   "outputs": [],
   "source": [
    "X = iris['data']   # feature matrix\n",
    "y = iris['target'] # target labels"
   ]
  },
  {
   "cell_type": "code",
   "execution_count": 19,
   "id": "fc81891a-5e70-4f60-b705-1ba85f8d0c31",
   "metadata": {},
   "outputs": [
    {
     "data": {
      "text/plain": [
       "((150, 4), (150,))"
      ]
     },
     "execution_count": 19,
     "metadata": {},
     "output_type": "execute_result"
    }
   ],
   "source": [
    "X.shape, y.shape"
   ]
  },
  {
   "cell_type": "code",
   "execution_count": 20,
   "id": "f7a7bc3c-7866-49cb-af53-1821eb1bc083",
   "metadata": {},
   "outputs": [
    {
     "data": {
      "text/plain": [
       "array([[5.1, 3.5, 1.4, 0.2],\n",
       "       [4.9, 3. , 1.4, 0.2],\n",
       "       [4.7, 3.2, 1.3, 0.2],\n",
       "       [4.6, 3.1, 1.5, 0.2],\n",
       "       [5. , 3.6, 1.4, 0.2]])"
      ]
     },
     "execution_count": 20,
     "metadata": {},
     "output_type": "execute_result"
    }
   ],
   "source": [
    "X[:5]  # print the 1st 5 rows in X"
   ]
  },
  {
   "cell_type": "code",
   "execution_count": 23,
   "id": "559b49a2-5805-4169-82fa-13af9362a5e6",
   "metadata": {},
   "outputs": [
    {
     "data": {
      "text/plain": [
       "(array([0, 0, 0, 0, 0]), array([1, 1, 1, 1]), array([2, 2, 2, 2, 2]))"
      ]
     },
     "execution_count": 23,
     "metadata": {},
     "output_type": "execute_result"
    }
   ],
   "source": [
    "y[5:10], y[51:55], y[105:110]"
   ]
  },
  {
   "cell_type": "code",
   "execution_count": 25,
   "id": "3ab63aa7-657c-46c7-b8a9-44ce4fd788c2",
   "metadata": {},
   "outputs": [],
   "source": [
    "# Covert the labels into Ont-Hot Encodings\n",
    "y = to_categorical(y, num_classes=3)"
   ]
  },
  {
   "cell_type": "code",
   "execution_count": 27,
   "id": "f747d128-7e3b-4222-9f90-da6782c7de9a",
   "metadata": {},
   "outputs": [
    {
     "data": {
      "text/plain": [
       "array([[0., 1., 0.],\n",
       "       [0., 1., 0.],\n",
       "       [0., 1., 0.],\n",
       "       [0., 1., 0.]], dtype=float32)"
      ]
     },
     "execution_count": 27,
     "metadata": {},
     "output_type": "execute_result"
    }
   ],
   "source": [
    "y[51:55]  # print the 1st 5 labels"
   ]
  },
  {
   "cell_type": "code",
   "execution_count": 28,
   "id": "14103150-c824-4d1d-8349-973e36f7ef1c",
   "metadata": {},
   "outputs": [],
   "source": [
    "X_train, X_test, y_train, y_test = train_test_split(X, y, test_size=0.25, random_state=42)"
   ]
  },
  {
   "cell_type": "code",
   "execution_count": 29,
   "id": "2bf45321-f2db-4ea6-b344-6b8eef7187e5",
   "metadata": {},
   "outputs": [
    {
     "data": {
      "text/plain": [
       "((112, 4), (112, 3))"
      ]
     },
     "execution_count": 29,
     "metadata": {},
     "output_type": "execute_result"
    }
   ],
   "source": [
    "X_train.shape, y_train.shape"
   ]
  },
  {
   "cell_type": "code",
   "execution_count": 30,
   "id": "4cb6e584-32ad-4788-8985-022875f4dfc7",
   "metadata": {},
   "outputs": [
    {
     "data": {
      "text/plain": [
       "(4,)"
      ]
     },
     "execution_count": 30,
     "metadata": {},
     "output_type": "execute_result"
    }
   ],
   "source": [
    "(X_train.shape[1], )"
   ]
  },
  {
   "cell_type": "markdown",
   "id": "beecdb28-16bb-4646-9e7d-24b739229c13",
   "metadata": {},
   "source": [
    "## Model Building"
   ]
  },
  {
   "cell_type": "code",
   "execution_count": 41,
   "id": "2b070b6a-0ae0-4260-84cb-81366c2cb996",
   "metadata": {},
   "outputs": [],
   "source": [
    "from keras import backend as K\n",
    "K.clear_session()"
   ]
  },
  {
   "cell_type": "code",
   "execution_count": 42,
   "id": "bf48d070-9018-41f2-b74a-a4e13233854c",
   "metadata": {},
   "outputs": [],
   "source": [
    "# Define the model\n",
    "model = Sequential()  # create an instance of the Sequential class\n",
    "\n",
    "# This is the first Hidden Laeyr\n",
    "model.add(Dense(4, input_shape=(X_train.shape[1], ), activation='relu')) \n",
    "\n",
    "# This is my output layer\n",
    "model.add(Dense(3, activation='softmax')) "
   ]
  },
  {
   "cell_type": "code",
   "execution_count": 43,
   "id": "2be1af37-39a2-4807-b282-7a0fe5f84a4b",
   "metadata": {},
   "outputs": [
    {
     "name": "stdout",
     "output_type": "stream",
     "text": [
      "Model: \"sequential\"\n",
      "_________________________________________________________________\n",
      " Layer (type)                Output Shape              Param #   \n",
      "=================================================================\n",
      " dense (Dense)               (None, 4)                 20        \n",
      "                                                                 \n",
      " dense_1 (Dense)             (None, 3)                 15        \n",
      "                                                                 \n",
      "=================================================================\n",
      "Total params: 35 (140.00 Byte)\n",
      "Trainable params: 35 (140.00 Byte)\n",
      "Non-trainable params: 0 (0.00 Byte)\n",
      "_________________________________________________________________\n"
     ]
    }
   ],
   "source": [
    "model.summary()"
   ]
  },
  {
   "cell_type": "code",
   "execution_count": 65,
   "id": "08519014-11a4-4fd6-9e7d-b20ed6438849",
   "metadata": {},
   "outputs": [],
   "source": [
    "model.compile(optimizer = \"adam\", loss=\"categorical_crossentropy\", metrics=[\"accuracy\"] ) "
   ]
  },
  {
   "cell_type": "code",
   "execution_count": 66,
   "id": "b453304a-c128-4b27-8e90-d21bcdc87948",
   "metadata": {},
   "outputs": [
    {
     "name": "stdout",
     "output_type": "stream",
     "text": [
      "Epoch 1/100\n",
      "12/12 [==============================] - 1s 3ms/step - loss: 0.1333 - accuracy: 0.9732\n",
      "Epoch 2/100\n",
      "12/12 [==============================] - 0s 3ms/step - loss: 0.1304 - accuracy: 0.9732\n",
      "Epoch 3/100\n",
      "12/12 [==============================] - 0s 3ms/step - loss: 0.1291 - accuracy: 0.9732\n",
      "Epoch 4/100\n",
      "12/12 [==============================] - 0s 3ms/step - loss: 0.1289 - accuracy: 0.9732\n",
      "Epoch 5/100\n",
      "12/12 [==============================] - 0s 3ms/step - loss: 0.1280 - accuracy: 0.9732\n",
      "Epoch 6/100\n",
      "12/12 [==============================] - 0s 3ms/step - loss: 0.1282 - accuracy: 0.9732\n",
      "Epoch 7/100\n",
      "12/12 [==============================] - 0s 3ms/step - loss: 0.1314 - accuracy: 0.9643\n",
      "Epoch 8/100\n",
      "12/12 [==============================] - 0s 3ms/step - loss: 0.1265 - accuracy: 0.9643\n",
      "Epoch 9/100\n",
      "12/12 [==============================] - 0s 3ms/step - loss: 0.1238 - accuracy: 0.9732\n",
      "Epoch 10/100\n",
      "12/12 [==============================] - 0s 3ms/step - loss: 0.1269 - accuracy: 0.9732\n",
      "Epoch 11/100\n",
      "12/12 [==============================] - 0s 3ms/step - loss: 0.1264 - accuracy: 0.9821\n",
      "Epoch 12/100\n",
      "12/12 [==============================] - 0s 3ms/step - loss: 0.1241 - accuracy: 0.9732\n",
      "Epoch 13/100\n",
      "12/12 [==============================] - 0s 3ms/step - loss: 0.1231 - accuracy: 0.9732\n",
      "Epoch 14/100\n",
      "12/12 [==============================] - 0s 3ms/step - loss: 0.1228 - accuracy: 0.9732\n",
      "Epoch 15/100\n",
      "12/12 [==============================] - 0s 3ms/step - loss: 0.1316 - accuracy: 0.9554\n",
      "Epoch 16/100\n",
      "12/12 [==============================] - 0s 3ms/step - loss: 0.1227 - accuracy: 0.9732\n",
      "Epoch 17/100\n",
      "12/12 [==============================] - 0s 3ms/step - loss: 0.1203 - accuracy: 0.9732\n",
      "Epoch 18/100\n",
      "12/12 [==============================] - 0s 3ms/step - loss: 0.1206 - accuracy: 0.9732\n",
      "Epoch 19/100\n",
      "12/12 [==============================] - 0s 3ms/step - loss: 0.1191 - accuracy: 0.9732\n",
      "Epoch 20/100\n",
      "12/12 [==============================] - 0s 3ms/step - loss: 0.1191 - accuracy: 0.9732\n",
      "Epoch 21/100\n",
      "12/12 [==============================] - 0s 3ms/step - loss: 0.1194 - accuracy: 0.9732\n",
      "Epoch 22/100\n",
      "12/12 [==============================] - 0s 3ms/step - loss: 0.1177 - accuracy: 0.9732\n",
      "Epoch 23/100\n",
      "12/12 [==============================] - 0s 3ms/step - loss: 0.1171 - accuracy: 0.9732\n",
      "Epoch 24/100\n",
      "12/12 [==============================] - 0s 3ms/step - loss: 0.1167 - accuracy: 0.9732\n",
      "Epoch 25/100\n",
      "12/12 [==============================] - 0s 3ms/step - loss: 0.1164 - accuracy: 0.9732\n",
      "Epoch 26/100\n",
      "12/12 [==============================] - 0s 3ms/step - loss: 0.1161 - accuracy: 0.9732\n",
      "Epoch 27/100\n",
      "12/12 [==============================] - 0s 4ms/step - loss: 0.1161 - accuracy: 0.9732\n",
      "Epoch 28/100\n",
      "12/12 [==============================] - 0s 2ms/step - loss: 0.1147 - accuracy: 0.9732\n",
      "Epoch 29/100\n",
      "12/12 [==============================] - 0s 3ms/step - loss: 0.1171 - accuracy: 0.9732\n",
      "Epoch 30/100\n",
      "12/12 [==============================] - 0s 3ms/step - loss: 0.1174 - accuracy: 0.9732\n",
      "Epoch 31/100\n",
      "12/12 [==============================] - 0s 3ms/step - loss: 0.1144 - accuracy: 0.9732\n",
      "Epoch 32/100\n",
      "12/12 [==============================] - 0s 3ms/step - loss: 0.1129 - accuracy: 0.9732\n",
      "Epoch 33/100\n",
      "12/12 [==============================] - 0s 3ms/step - loss: 0.1131 - accuracy: 0.9732\n",
      "Epoch 34/100\n",
      "12/12 [==============================] - 0s 2ms/step - loss: 0.1124 - accuracy: 0.9732\n",
      "Epoch 35/100\n",
      "12/12 [==============================] - 0s 2ms/step - loss: 0.1122 - accuracy: 0.9732\n",
      "Epoch 36/100\n",
      "12/12 [==============================] - 0s 3ms/step - loss: 0.1117 - accuracy: 0.9732\n",
      "Epoch 37/100\n",
      "12/12 [==============================] - 0s 3ms/step - loss: 0.1111 - accuracy: 0.9732\n",
      "Epoch 38/100\n",
      "12/12 [==============================] - 0s 2ms/step - loss: 0.1111 - accuracy: 0.9732\n",
      "Epoch 39/100\n",
      "12/12 [==============================] - 0s 3ms/step - loss: 0.1122 - accuracy: 0.9643\n",
      "Epoch 40/100\n",
      "12/12 [==============================] - 0s 3ms/step - loss: 0.1080 - accuracy: 0.9732\n",
      "Epoch 41/100\n",
      "12/12 [==============================] - 0s 3ms/step - loss: 0.1106 - accuracy: 0.9821\n",
      "Epoch 42/100\n",
      "12/12 [==============================] - 0s 3ms/step - loss: 0.1090 - accuracy: 0.9732\n",
      "Epoch 43/100\n",
      "12/12 [==============================] - 0s 3ms/step - loss: 0.1094 - accuracy: 0.9732\n",
      "Epoch 44/100\n",
      "12/12 [==============================] - 0s 3ms/step - loss: 0.1092 - accuracy: 0.9732\n",
      "Epoch 45/100\n",
      "12/12 [==============================] - 0s 2ms/step - loss: 0.1090 - accuracy: 0.9732\n",
      "Epoch 46/100\n",
      "12/12 [==============================] - 0s 3ms/step - loss: 0.1103 - accuracy: 0.9643\n",
      "Epoch 47/100\n",
      "12/12 [==============================] - 0s 3ms/step - loss: 0.1083 - accuracy: 0.9643\n",
      "Epoch 48/100\n",
      "12/12 [==============================] - 0s 3ms/step - loss: 0.1072 - accuracy: 0.9732\n",
      "Epoch 49/100\n",
      "12/12 [==============================] - 0s 3ms/step - loss: 0.1078 - accuracy: 0.9821\n",
      "Epoch 50/100\n",
      "12/12 [==============================] - 0s 2ms/step - loss: 0.1068 - accuracy: 0.9732\n",
      "Epoch 51/100\n",
      "12/12 [==============================] - 0s 2ms/step - loss: 0.1060 - accuracy: 0.9732\n",
      "Epoch 52/100\n",
      "12/12 [==============================] - 0s 2ms/step - loss: 0.1055 - accuracy: 0.9732\n",
      "Epoch 53/100\n",
      "12/12 [==============================] - 0s 2ms/step - loss: 0.1052 - accuracy: 0.9732\n",
      "Epoch 54/100\n",
      "12/12 [==============================] - 0s 2ms/step - loss: 0.1047 - accuracy: 0.9732\n",
      "Epoch 55/100\n",
      "12/12 [==============================] - 0s 3ms/step - loss: 0.1062 - accuracy: 0.9732\n",
      "Epoch 56/100\n",
      "12/12 [==============================] - 0s 3ms/step - loss: 0.1059 - accuracy: 0.9732\n",
      "Epoch 57/100\n",
      "12/12 [==============================] - 0s 3ms/step - loss: 0.1048 - accuracy: 0.9732\n",
      "Epoch 58/100\n",
      "12/12 [==============================] - 0s 2ms/step - loss: 0.1035 - accuracy: 0.9732\n",
      "Epoch 59/100\n",
      "12/12 [==============================] - 0s 3ms/step - loss: 0.1030 - accuracy: 0.9732\n",
      "Epoch 60/100\n",
      "12/12 [==============================] - 0s 3ms/step - loss: 0.1032 - accuracy: 0.9732\n",
      "Epoch 61/100\n",
      "12/12 [==============================] - 0s 2ms/step - loss: 0.1035 - accuracy: 0.9732\n",
      "Epoch 62/100\n",
      "12/12 [==============================] - 0s 2ms/step - loss: 0.1020 - accuracy: 0.9732\n",
      "Epoch 63/100\n",
      "12/12 [==============================] - 0s 3ms/step - loss: 0.1040 - accuracy: 0.9732\n",
      "Epoch 64/100\n",
      "12/12 [==============================] - 0s 2ms/step - loss: 0.1018 - accuracy: 0.9732\n",
      "Epoch 65/100\n",
      "12/12 [==============================] - 0s 3ms/step - loss: 0.1022 - accuracy: 0.9732\n",
      "Epoch 66/100\n",
      "12/12 [==============================] - 0s 2ms/step - loss: 0.1019 - accuracy: 0.9732\n",
      "Epoch 67/100\n",
      "12/12 [==============================] - 0s 2ms/step - loss: 0.1013 - accuracy: 0.9732\n",
      "Epoch 68/100\n",
      "12/12 [==============================] - 0s 3ms/step - loss: 0.1020 - accuracy: 0.9732\n",
      "Epoch 69/100\n",
      "12/12 [==============================] - 0s 3ms/step - loss: 0.1011 - accuracy: 0.9732\n",
      "Epoch 70/100\n",
      "12/12 [==============================] - 0s 2ms/step - loss: 0.1002 - accuracy: 0.9732\n",
      "Epoch 71/100\n",
      "12/12 [==============================] - 0s 3ms/step - loss: 0.1002 - accuracy: 0.9732\n",
      "Epoch 72/100\n",
      "12/12 [==============================] - 0s 2ms/step - loss: 0.1001 - accuracy: 0.9732\n",
      "Epoch 73/100\n",
      "12/12 [==============================] - 0s 2ms/step - loss: 0.0993 - accuracy: 0.9732\n",
      "Epoch 74/100\n",
      "12/12 [==============================] - 0s 2ms/step - loss: 0.1002 - accuracy: 0.9732\n",
      "Epoch 75/100\n",
      "12/12 [==============================] - 0s 2ms/step - loss: 0.1006 - accuracy: 0.9732\n",
      "Epoch 76/100\n",
      "12/12 [==============================] - 0s 2ms/step - loss: 0.0998 - accuracy: 0.9732\n",
      "Epoch 77/100\n",
      "12/12 [==============================] - 0s 2ms/step - loss: 0.0984 - accuracy: 0.9732\n",
      "Epoch 78/100\n",
      "12/12 [==============================] - 0s 2ms/step - loss: 0.0981 - accuracy: 0.9732\n",
      "Epoch 79/100\n",
      "12/12 [==============================] - 0s 2ms/step - loss: 0.0983 - accuracy: 0.9732\n",
      "Epoch 80/100\n",
      "12/12 [==============================] - 0s 2ms/step - loss: 0.0970 - accuracy: 0.9732\n",
      "Epoch 81/100\n",
      "12/12 [==============================] - 0s 2ms/step - loss: 0.0977 - accuracy: 0.9732\n",
      "Epoch 82/100\n",
      "12/12 [==============================] - 0s 2ms/step - loss: 0.0979 - accuracy: 0.9732\n",
      "Epoch 83/100\n",
      "12/12 [==============================] - 0s 2ms/step - loss: 0.0969 - accuracy: 0.9732\n",
      "Epoch 84/100\n",
      "12/12 [==============================] - 0s 2ms/step - loss: 0.0965 - accuracy: 0.9732\n",
      "Epoch 85/100\n",
      "12/12 [==============================] - 0s 2ms/step - loss: 0.0980 - accuracy: 0.9643\n",
      "Epoch 86/100\n",
      "12/12 [==============================] - 0s 2ms/step - loss: 0.0986 - accuracy: 0.9732\n",
      "Epoch 87/100\n",
      "12/12 [==============================] - 0s 2ms/step - loss: 0.0962 - accuracy: 0.9732\n",
      "Epoch 88/100\n",
      "12/12 [==============================] - 0s 2ms/step - loss: 0.0968 - accuracy: 0.9732\n",
      "Epoch 89/100\n",
      "12/12 [==============================] - 0s 2ms/step - loss: 0.0959 - accuracy: 0.9732\n",
      "Epoch 90/100\n",
      "12/12 [==============================] - 0s 3ms/step - loss: 0.0950 - accuracy: 0.9732\n",
      "Epoch 91/100\n",
      "12/12 [==============================] - 0s 3ms/step - loss: 0.0947 - accuracy: 0.9732\n",
      "Epoch 92/100\n",
      "12/12 [==============================] - 0s 3ms/step - loss: 0.0952 - accuracy: 0.9821\n",
      "Epoch 93/100\n",
      "12/12 [==============================] - 0s 3ms/step - loss: 0.0983 - accuracy: 0.9732\n",
      "Epoch 94/100\n",
      "12/12 [==============================] - 0s 2ms/step - loss: 0.0940 - accuracy: 0.9732\n",
      "Epoch 95/100\n",
      "12/12 [==============================] - 0s 2ms/step - loss: 0.0946 - accuracy: 0.9732\n",
      "Epoch 96/100\n",
      "12/12 [==============================] - 0s 2ms/step - loss: 0.0945 - accuracy: 0.9732\n",
      "Epoch 97/100\n",
      "12/12 [==============================] - 0s 3ms/step - loss: 0.0936 - accuracy: 0.9732\n",
      "Epoch 98/100\n",
      "12/12 [==============================] - 0s 2ms/step - loss: 0.0938 - accuracy: 0.9732\n",
      "Epoch 99/100\n",
      "12/12 [==============================] - 0s 2ms/step - loss: 0.0935 - accuracy: 0.9732\n",
      "Epoch 100/100\n",
      "12/12 [==============================] - 0s 2ms/step - loss: 0.0929 - accuracy: 0.9732\n"
     ]
    }
   ],
   "source": [
    "history = model.fit(X_train, y_train, epochs=100, batch_size=10)"
   ]
  },
  {
   "cell_type": "code",
   "execution_count": 37,
   "id": "641996fa-32c0-4f10-96b0-c51b696c523d",
   "metadata": {},
   "outputs": [
    {
     "name": "stdout",
     "output_type": "stream",
     "text": [
      "2/2 [==============================] - 0s 7ms/step - loss: 0.5412 - accuracy: 0.9211\n"
     ]
    },
    {
     "data": {
      "text/plain": [
       "(0.5411736369132996, 0.9210526347160339)"
      ]
     },
     "execution_count": 37,
     "metadata": {},
     "output_type": "execute_result"
    }
   ],
   "source": [
    "loss, accuracy = model.evaluate(X_test, y_test)\n",
    "loss, accuracy "
   ]
  },
  {
   "cell_type": "code",
   "execution_count": 67,
   "id": "25483a4d-72f6-4d50-b17d-06a2532f585c",
   "metadata": {},
   "outputs": [
    {
     "name": "stdout",
     "output_type": "stream",
     "text": [
      "Epoch 1/100\n",
      "12/12 [==============================] - 1s 25ms/step - loss: 0.0951 - accuracy: 0.9732 - val_loss: 0.0964 - val_accuracy: 0.9737\n",
      "Epoch 2/100\n",
      "12/12 [==============================] - 0s 7ms/step - loss: 0.0915 - accuracy: 0.9732 - val_loss: 0.0949 - val_accuracy: 0.9737\n",
      "Epoch 3/100\n",
      "12/12 [==============================] - 0s 7ms/step - loss: 0.0947 - accuracy: 0.9732 - val_loss: 0.0950 - val_accuracy: 0.9737\n",
      "Epoch 4/100\n",
      "12/12 [==============================] - 0s 7ms/step - loss: 0.0922 - accuracy: 0.9732 - val_loss: 0.0947 - val_accuracy: 0.9737\n",
      "Epoch 5/100\n",
      "12/12 [==============================] - 0s 8ms/step - loss: 0.0959 - accuracy: 0.9732 - val_loss: 0.0978 - val_accuracy: 0.9474\n",
      "Epoch 6/100\n",
      "12/12 [==============================] - 0s 7ms/step - loss: 0.0924 - accuracy: 0.9732 - val_loss: 0.0954 - val_accuracy: 0.9737\n",
      "Epoch 7/100\n",
      "12/12 [==============================] - 0s 7ms/step - loss: 0.0926 - accuracy: 0.9732 - val_loss: 0.0942 - val_accuracy: 0.9737\n",
      "Epoch 8/100\n",
      "12/12 [==============================] - 0s 8ms/step - loss: 0.0933 - accuracy: 0.9732 - val_loss: 0.0939 - val_accuracy: 0.9737\n",
      "Epoch 9/100\n",
      "12/12 [==============================] - 0s 8ms/step - loss: 0.0917 - accuracy: 0.9732 - val_loss: 0.0943 - val_accuracy: 0.9737\n",
      "Epoch 10/100\n",
      "12/12 [==============================] - 0s 8ms/step - loss: 0.0923 - accuracy: 0.9821 - val_loss: 0.0937 - val_accuracy: 0.9737\n",
      "Epoch 11/100\n",
      "12/12 [==============================] - 0s 8ms/step - loss: 0.0913 - accuracy: 0.9732 - val_loss: 0.0943 - val_accuracy: 0.9737\n",
      "Epoch 12/100\n",
      "12/12 [==============================] - 0s 8ms/step - loss: 0.0908 - accuracy: 0.9732 - val_loss: 0.0940 - val_accuracy: 0.9737\n",
      "Epoch 13/100\n",
      "12/12 [==============================] - 0s 7ms/step - loss: 0.0905 - accuracy: 0.9732 - val_loss: 0.0941 - val_accuracy: 0.9737\n",
      "Epoch 14/100\n",
      "12/12 [==============================] - 0s 7ms/step - loss: 0.0900 - accuracy: 0.9732 - val_loss: 0.0938 - val_accuracy: 0.9737\n",
      "Epoch 15/100\n",
      "12/12 [==============================] - 0s 7ms/step - loss: 0.0908 - accuracy: 0.9732 - val_loss: 0.0931 - val_accuracy: 0.9737\n",
      "Epoch 16/100\n",
      "12/12 [==============================] - 0s 7ms/step - loss: 0.0904 - accuracy: 0.9732 - val_loss: 0.0932 - val_accuracy: 0.9737\n",
      "Epoch 17/100\n",
      "12/12 [==============================] - 0s 7ms/step - loss: 0.0892 - accuracy: 0.9732 - val_loss: 0.0927 - val_accuracy: 0.9737\n",
      "Epoch 18/100\n",
      "12/12 [==============================] - 0s 7ms/step - loss: 0.0894 - accuracy: 0.9732 - val_loss: 0.0926 - val_accuracy: 0.9737\n",
      "Epoch 19/100\n",
      "12/12 [==============================] - 0s 7ms/step - loss: 0.0908 - accuracy: 0.9821 - val_loss: 0.0931 - val_accuracy: 0.9737\n",
      "Epoch 20/100\n",
      "12/12 [==============================] - 0s 8ms/step - loss: 0.0908 - accuracy: 0.9732 - val_loss: 0.0923 - val_accuracy: 0.9737\n",
      "Epoch 21/100\n",
      "12/12 [==============================] - 0s 7ms/step - loss: 0.0897 - accuracy: 0.9732 - val_loss: 0.0922 - val_accuracy: 0.9737\n",
      "Epoch 22/100\n",
      "12/12 [==============================] - 0s 7ms/step - loss: 0.0897 - accuracy: 0.9732 - val_loss: 0.0921 - val_accuracy: 0.9737\n",
      "Epoch 23/100\n",
      "12/12 [==============================] - 0s 7ms/step - loss: 0.0891 - accuracy: 0.9732 - val_loss: 0.0929 - val_accuracy: 0.9737\n",
      "Epoch 24/100\n",
      "12/12 [==============================] - 0s 7ms/step - loss: 0.0887 - accuracy: 0.9732 - val_loss: 0.0918 - val_accuracy: 0.9737\n",
      "Epoch 25/100\n",
      "12/12 [==============================] - 0s 7ms/step - loss: 0.0889 - accuracy: 0.9732 - val_loss: 0.0918 - val_accuracy: 0.9737\n",
      "Epoch 26/100\n",
      "12/12 [==============================] - 0s 8ms/step - loss: 0.0876 - accuracy: 0.9732 - val_loss: 0.0918 - val_accuracy: 0.9737\n",
      "Epoch 27/100\n",
      "12/12 [==============================] - 0s 8ms/step - loss: 0.0900 - accuracy: 0.9732 - val_loss: 0.0915 - val_accuracy: 0.9737\n",
      "Epoch 28/100\n",
      "12/12 [==============================] - 0s 7ms/step - loss: 0.0879 - accuracy: 0.9732 - val_loss: 0.0914 - val_accuracy: 0.9737\n",
      "Epoch 29/100\n",
      "12/12 [==============================] - 0s 8ms/step - loss: 0.0878 - accuracy: 0.9732 - val_loss: 0.0915 - val_accuracy: 0.9737\n",
      "Epoch 30/100\n",
      "12/12 [==============================] - 0s 9ms/step - loss: 0.0868 - accuracy: 0.9732 - val_loss: 0.0911 - val_accuracy: 0.9737\n",
      "Epoch 31/100\n",
      "12/12 [==============================] - 0s 8ms/step - loss: 0.0873 - accuracy: 0.9732 - val_loss: 0.0909 - val_accuracy: 0.9737\n",
      "Epoch 32/100\n",
      "12/12 [==============================] - 0s 9ms/step - loss: 0.0872 - accuracy: 0.9732 - val_loss: 0.0913 - val_accuracy: 0.9737\n",
      "Epoch 33/100\n",
      "12/12 [==============================] - 0s 7ms/step - loss: 0.0871 - accuracy: 0.9732 - val_loss: 0.0913 - val_accuracy: 0.9737\n",
      "Epoch 34/100\n",
      "12/12 [==============================] - 0s 9ms/step - loss: 0.0865 - accuracy: 0.9732 - val_loss: 0.0908 - val_accuracy: 0.9737\n",
      "Epoch 35/100\n",
      "12/12 [==============================] - 0s 7ms/step - loss: 0.0882 - accuracy: 0.9821 - val_loss: 0.0905 - val_accuracy: 0.9737\n",
      "Epoch 36/100\n",
      "12/12 [==============================] - 0s 8ms/step - loss: 0.0873 - accuracy: 0.9732 - val_loss: 0.0908 - val_accuracy: 0.9737\n",
      "Epoch 37/100\n",
      "12/12 [==============================] - 0s 8ms/step - loss: 0.0859 - accuracy: 0.9732 - val_loss: 0.0903 - val_accuracy: 0.9737\n",
      "Epoch 38/100\n",
      "12/12 [==============================] - 0s 8ms/step - loss: 0.0860 - accuracy: 0.9732 - val_loss: 0.0903 - val_accuracy: 0.9737\n",
      "Epoch 39/100\n",
      "12/12 [==============================] - 0s 8ms/step - loss: 0.0864 - accuracy: 0.9732 - val_loss: 0.0900 - val_accuracy: 0.9737\n",
      "Epoch 40/100\n",
      "12/12 [==============================] - 0s 9ms/step - loss: 0.0860 - accuracy: 0.9732 - val_loss: 0.0901 - val_accuracy: 0.9737\n",
      "Epoch 41/100\n",
      "12/12 [==============================] - 0s 7ms/step - loss: 0.0857 - accuracy: 0.9732 - val_loss: 0.0905 - val_accuracy: 0.9737\n",
      "Epoch 42/100\n",
      "12/12 [==============================] - 0s 8ms/step - loss: 0.0852 - accuracy: 0.9732 - val_loss: 0.0901 - val_accuracy: 0.9737\n",
      "Epoch 43/100\n",
      "12/12 [==============================] - 0s 9ms/step - loss: 0.0857 - accuracy: 0.9732 - val_loss: 0.0900 - val_accuracy: 0.9737\n",
      "Epoch 44/100\n",
      "12/12 [==============================] - 0s 6ms/step - loss: 0.0850 - accuracy: 0.9732 - val_loss: 0.0895 - val_accuracy: 0.9737\n",
      "Epoch 45/100\n",
      "12/12 [==============================] - 0s 7ms/step - loss: 0.0854 - accuracy: 0.9732 - val_loss: 0.0894 - val_accuracy: 0.9737\n",
      "Epoch 46/100\n",
      "12/12 [==============================] - 0s 9ms/step - loss: 0.0855 - accuracy: 0.9732 - val_loss: 0.0895 - val_accuracy: 0.9737\n",
      "Epoch 47/100\n",
      "12/12 [==============================] - 0s 8ms/step - loss: 0.0845 - accuracy: 0.9732 - val_loss: 0.0897 - val_accuracy: 0.9737\n",
      "Epoch 48/100\n",
      "12/12 [==============================] - 0s 8ms/step - loss: 0.0846 - accuracy: 0.9732 - val_loss: 0.0897 - val_accuracy: 0.9737\n",
      "Epoch 49/100\n",
      "12/12 [==============================] - 0s 8ms/step - loss: 0.0845 - accuracy: 0.9732 - val_loss: 0.0898 - val_accuracy: 0.9737\n",
      "Epoch 50/100\n",
      "12/12 [==============================] - 0s 6ms/step - loss: 0.0847 - accuracy: 0.9732 - val_loss: 0.0913 - val_accuracy: 0.9474\n",
      "Epoch 51/100\n",
      "12/12 [==============================] - 0s 7ms/step - loss: 0.0845 - accuracy: 0.9732 - val_loss: 0.0895 - val_accuracy: 0.9737\n",
      "Epoch 52/100\n",
      "12/12 [==============================] - 0s 8ms/step - loss: 0.0837 - accuracy: 0.9732 - val_loss: 0.0887 - val_accuracy: 0.9737\n",
      "Epoch 53/100\n",
      "12/12 [==============================] - 0s 7ms/step - loss: 0.0846 - accuracy: 0.9732 - val_loss: 0.0886 - val_accuracy: 0.9737\n",
      "Epoch 54/100\n",
      "12/12 [==============================] - 0s 8ms/step - loss: 0.0850 - accuracy: 0.9732 - val_loss: 0.0886 - val_accuracy: 0.9737\n",
      "Epoch 55/100\n",
      "12/12 [==============================] - 0s 8ms/step - loss: 0.0841 - accuracy: 0.9732 - val_loss: 0.0884 - val_accuracy: 0.9737\n",
      "Epoch 56/100\n",
      "12/12 [==============================] - 0s 8ms/step - loss: 0.0840 - accuracy: 0.9732 - val_loss: 0.0884 - val_accuracy: 0.9737\n",
      "Epoch 57/100\n",
      "12/12 [==============================] - 0s 9ms/step - loss: 0.0842 - accuracy: 0.9732 - val_loss: 0.0908 - val_accuracy: 0.9474\n",
      "Epoch 58/100\n",
      "12/12 [==============================] - 0s 15ms/step - loss: 0.0911 - accuracy: 0.9554 - val_loss: 0.0959 - val_accuracy: 0.9474\n",
      "Epoch 59/100\n",
      "12/12 [==============================] - 0s 12ms/step - loss: 0.0850 - accuracy: 0.9643 - val_loss: 0.0897 - val_accuracy: 0.9737\n",
      "Epoch 60/100\n",
      "12/12 [==============================] - 0s 14ms/step - loss: 0.0823 - accuracy: 0.9732 - val_loss: 0.0878 - val_accuracy: 0.9737\n",
      "Epoch 61/100\n",
      "12/12 [==============================] - 0s 14ms/step - loss: 0.0841 - accuracy: 0.9732 - val_loss: 0.0881 - val_accuracy: 0.9737\n",
      "Epoch 62/100\n",
      "12/12 [==============================] - 0s 11ms/step - loss: 0.0827 - accuracy: 0.9732 - val_loss: 0.0882 - val_accuracy: 0.9737\n",
      "Epoch 63/100\n",
      "12/12 [==============================] - 0s 13ms/step - loss: 0.0826 - accuracy: 0.9732 - val_loss: 0.0880 - val_accuracy: 0.9737\n",
      "Epoch 64/100\n",
      "12/12 [==============================] - 0s 13ms/step - loss: 0.0833 - accuracy: 0.9732 - val_loss: 0.0875 - val_accuracy: 0.9737\n",
      "Epoch 65/100\n",
      "12/12 [==============================] - 0s 11ms/step - loss: 0.0824 - accuracy: 0.9732 - val_loss: 0.0876 - val_accuracy: 0.9737\n",
      "Epoch 66/100\n",
      "12/12 [==============================] - 0s 12ms/step - loss: 0.0821 - accuracy: 0.9732 - val_loss: 0.0882 - val_accuracy: 0.9737\n",
      "Epoch 67/100\n",
      "12/12 [==============================] - 0s 15ms/step - loss: 0.0824 - accuracy: 0.9732 - val_loss: 0.0873 - val_accuracy: 0.9737\n",
      "Epoch 68/100\n",
      "12/12 [==============================] - 0s 17ms/step - loss: 0.0830 - accuracy: 0.9732 - val_loss: 0.0878 - val_accuracy: 0.9737\n",
      "Epoch 69/100\n",
      "12/12 [==============================] - 0s 15ms/step - loss: 0.0821 - accuracy: 0.9732 - val_loss: 0.0872 - val_accuracy: 0.9737\n",
      "Epoch 70/100\n",
      "12/12 [==============================] - 0s 16ms/step - loss: 0.0821 - accuracy: 0.9732 - val_loss: 0.0869 - val_accuracy: 0.9737\n",
      "Epoch 71/100\n",
      "12/12 [==============================] - 0s 12ms/step - loss: 0.0846 - accuracy: 0.9732 - val_loss: 0.0869 - val_accuracy: 0.9737\n",
      "Epoch 72/100\n",
      "12/12 [==============================] - 0s 12ms/step - loss: 0.0834 - accuracy: 0.9732 - val_loss: 0.0874 - val_accuracy: 0.9737\n",
      "Epoch 73/100\n",
      "12/12 [==============================] - 0s 14ms/step - loss: 0.0810 - accuracy: 0.9732 - val_loss: 0.0868 - val_accuracy: 0.9737\n",
      "Epoch 74/100\n",
      "12/12 [==============================] - 0s 12ms/step - loss: 0.0827 - accuracy: 0.9732 - val_loss: 0.0866 - val_accuracy: 0.9737\n",
      "Epoch 75/100\n",
      "12/12 [==============================] - 0s 11ms/step - loss: 0.0815 - accuracy: 0.9732 - val_loss: 0.0866 - val_accuracy: 0.9737\n",
      "Epoch 76/100\n",
      "12/12 [==============================] - 0s 16ms/step - loss: 0.0805 - accuracy: 0.9732 - val_loss: 0.0878 - val_accuracy: 0.9737\n",
      "Epoch 77/100\n",
      "12/12 [==============================] - 0s 10ms/step - loss: 0.0813 - accuracy: 0.9732 - val_loss: 0.0878 - val_accuracy: 0.9737\n",
      "Epoch 78/100\n",
      "12/12 [==============================] - 0s 10ms/step - loss: 0.0809 - accuracy: 0.9732 - val_loss: 0.0871 - val_accuracy: 0.9737\n",
      "Epoch 79/100\n",
      "12/12 [==============================] - 0s 8ms/step - loss: 0.0802 - accuracy: 0.9732 - val_loss: 0.0862 - val_accuracy: 0.9737\n",
      "Epoch 80/100\n",
      "12/12 [==============================] - 0s 10ms/step - loss: 0.0830 - accuracy: 0.9732 - val_loss: 0.0862 - val_accuracy: 0.9737\n",
      "Epoch 81/100\n",
      "12/12 [==============================] - 0s 8ms/step - loss: 0.0813 - accuracy: 0.9732 - val_loss: 0.0868 - val_accuracy: 0.9737\n",
      "Epoch 82/100\n",
      "12/12 [==============================] - 0s 6ms/step - loss: 0.0802 - accuracy: 0.9732 - val_loss: 0.0868 - val_accuracy: 0.9737\n",
      "Epoch 83/100\n",
      "12/12 [==============================] - 0s 6ms/step - loss: 0.0801 - accuracy: 0.9732 - val_loss: 0.0863 - val_accuracy: 0.9737\n",
      "Epoch 84/100\n",
      "12/12 [==============================] - 0s 6ms/step - loss: 0.0805 - accuracy: 0.9732 - val_loss: 0.0863 - val_accuracy: 0.9737\n",
      "Epoch 85/100\n",
      "12/12 [==============================] - 0s 6ms/step - loss: 0.0791 - accuracy: 0.9732 - val_loss: 0.0858 - val_accuracy: 0.9737\n",
      "Epoch 86/100\n",
      "12/12 [==============================] - 0s 7ms/step - loss: 0.0833 - accuracy: 0.9821 - val_loss: 0.0858 - val_accuracy: 0.9737\n",
      "Epoch 87/100\n",
      "12/12 [==============================] - 0s 9ms/step - loss: 0.0787 - accuracy: 0.9732 - val_loss: 0.0876 - val_accuracy: 0.9737\n",
      "Epoch 88/100\n",
      "12/12 [==============================] - 0s 8ms/step - loss: 0.0806 - accuracy: 0.9732 - val_loss: 0.0881 - val_accuracy: 0.9737\n",
      "Epoch 89/100\n",
      "12/12 [==============================] - 0s 5ms/step - loss: 0.0816 - accuracy: 0.9732 - val_loss: 0.0877 - val_accuracy: 0.9737\n",
      "Epoch 90/100\n",
      "12/12 [==============================] - 0s 6ms/step - loss: 0.0806 - accuracy: 0.9732 - val_loss: 0.0856 - val_accuracy: 0.9737\n",
      "Epoch 91/100\n",
      "12/12 [==============================] - 0s 6ms/step - loss: 0.0796 - accuracy: 0.9732 - val_loss: 0.0856 - val_accuracy: 0.9737\n",
      "Epoch 92/100\n",
      "12/12 [==============================] - 0s 6ms/step - loss: 0.0793 - accuracy: 0.9732 - val_loss: 0.0858 - val_accuracy: 0.9737\n",
      "Epoch 93/100\n",
      "12/12 [==============================] - 0s 6ms/step - loss: 0.0812 - accuracy: 0.9732 - val_loss: 0.0888 - val_accuracy: 0.9474\n",
      "Epoch 94/100\n",
      "12/12 [==============================] - 0s 6ms/step - loss: 0.0803 - accuracy: 0.9732 - val_loss: 0.0873 - val_accuracy: 0.9737\n",
      "Epoch 95/100\n",
      "12/12 [==============================] - 0s 6ms/step - loss: 0.0803 - accuracy: 0.9732 - val_loss: 0.0851 - val_accuracy: 0.9737\n",
      "Epoch 96/100\n",
      "12/12 [==============================] - 0s 9ms/step - loss: 0.0796 - accuracy: 0.9732 - val_loss: 0.0854 - val_accuracy: 0.9737\n",
      "Epoch 97/100\n",
      "12/12 [==============================] - 0s 7ms/step - loss: 0.0789 - accuracy: 0.9732 - val_loss: 0.0854 - val_accuracy: 0.9737\n",
      "Epoch 98/100\n",
      "12/12 [==============================] - 0s 6ms/step - loss: 0.0795 - accuracy: 0.9732 - val_loss: 0.0858 - val_accuracy: 0.9737\n",
      "Epoch 99/100\n",
      "12/12 [==============================] - 0s 6ms/step - loss: 0.0789 - accuracy: 0.9732 - val_loss: 0.0849 - val_accuracy: 0.9737\n",
      "Epoch 100/100\n",
      "12/12 [==============================] - 0s 7ms/step - loss: 0.0788 - accuracy: 0.9732 - val_loss: 0.0852 - val_accuracy: 0.9737\n"
     ]
    }
   ],
   "source": [
    "model.compile(optimizer = \"adam\", loss=\"categorical_crossentropy\", metrics=[\"accuracy\"] )\n",
    "history = model.fit(X_train, y_train, epochs=100, batch_size=10, validation_data=(X_test, y_test))"
   ]
  },
  {
   "cell_type": "code",
   "execution_count": 68,
   "id": "ad63c265-f647-4b77-a652-9dc396805b01",
   "metadata": {},
   "outputs": [
    {
     "data": {
      "text/plain": [
       "dict_keys(['loss', 'accuracy', 'val_loss', 'val_accuracy'])"
      ]
     },
     "execution_count": 68,
     "metadata": {},
     "output_type": "execute_result"
    }
   ],
   "source": [
    "history.history.keys()"
   ]
  },
  {
   "cell_type": "code",
   "execution_count": null,
   "id": "85b691c3-06e9-479f-94eb-c8e200332f6c",
   "metadata": {},
   "outputs": [],
   "source": []
  },
  {
   "cell_type": "code",
   "execution_count": 69,
   "id": "7a1d8fe4-ff07-4348-abb2-ae8a8c32b5e6",
   "metadata": {},
   "outputs": [],
   "source": [
    "# %%capture\n",
    "# !pip install matplotlib"
   ]
  },
  {
   "cell_type": "markdown",
   "id": "c0cd1031-4f1b-4262-a7b8-7716a490422a",
   "metadata": {},
   "source": [
    "## Model Trianing Plots"
   ]
  },
  {
   "cell_type": "code",
   "execution_count": 70,
   "id": "0c425086-f31b-47eb-a839-1627dd7ac888",
   "metadata": {},
   "outputs": [
    {
     "data": {
      "image/png": "[encoded data removed]",
      "text/plain": [
       "<Figure size 640x480 with 1 Axes>"
      ]
     },
     "metadata": {},
     "output_type": "display_data"
    }
   ],
   "source": [
    "import matplotlib.pyplot as plt\n",
    "\n",
    "plt.plot(history.history[\"loss\"], label = \"Train Loss\")\n",
    "plt.plot(history.history[\"val_loss\"], label = \"Val Loss\")\n",
    "plt.xlabel(\"Epochs\")\n",
    "plt.ylabel(\"Loss values\")\n",
    "plt.legend()\n",
    "plt.grid(\"on\")\n",
    "plt.show()"
   ]
  },
  {
   "cell_type": "code",
   "execution_count": 71,
   "id": "38fcfdac-cef9-4f22-84b6-dcd542e6e2da",
   "metadata": {},
   "outputs": [
    {
     "data": {
      "image/png": "[encoded data removed]",
      "text/plain": [
       "<Figure size 640x480 with 1 Axes>"
      ]
     },
     "metadata": {},
     "output_type": "display_data"
    }
   ],
   "source": [
    "plt.plot(history.history[\"accuracy\"], label = \"Train Accuracy\")\n",
    "plt.plot(history.history[\"val_accuracy\"], label = \"Val Accuracy\")\n",
    "plt.xlabel(\"Epochs\")\n",
    "plt.ylabel(\"Accuracy values\")\n",
    "plt.legend()\n",
    "plt.grid(\"on\")\n",
    "plt.show()"
   ]
  },
  {
   "cell_type": "code",
   "execution_count": null,
   "id": "eb3cdff0-7d97-4f1d-b0d1-361849d4f943",
   "metadata": {},
   "outputs": [],
   "source": []
  },
  {
   "cell_type": "code",
   "execution_count": null,
   "id": "e7e58397-c656-489a-921f-e87a94ea01ca",
   "metadata": {},
   "outputs": [],
   "source": []
  },
  {
   "cell_type": "markdown",
   "id": "35258dae-f504-4aa0-b499-55660b8b5f48",
   "metadata": {},
   "source": [
    "# Churn PRediction Dataset"
   ]
  },
  {
   "cell_type": "code",
   "execution_count": 56,
   "id": "df30fa99-5ef6-46bf-8557-55203369bcbf",
   "metadata": {},
   "outputs": [],
   "source": [
    "import pandas as pd"
   ]
  },
  {
   "cell_type": "code",
   "execution_count": 57,
   "id": "fc68456d-c5a0-4821-9726-b8f079965db4",
   "metadata": {},
   "outputs": [],
   "source": [
    "df = pd.read_pickle(\"cleaned_churn_dataset.pkl\")"
   ]
  },
  {
   "cell_type": "code",
   "execution_count": 58,
   "id": "12dfeabb-769e-40e5-a703-c6f151ac4a7c",
   "metadata": {},
   "outputs": [
    {
     "data": {
      "text/html": [
       "<div>\n",
       "<style scoped>\n",
       "    .dataframe tbody tr th:only-of-type {\n",
       "        vertical-align: middle;\n",
       "    }\n",
       "\n",
       "    .dataframe tbody tr th {\n",
       "        vertical-align: top;\n",
       "    }\n",
       "\n",
       "    .dataframe thead th {\n",
       "        text-align: right;\n",
       "    }\n",
       "</style>\n",
       "<table border=\"1\" class=\"dataframe\">\n",
       "  <thead>\n",
       "    <tr style=\"text-align: right;\">\n",
       "      <th></th>\n",
       "      <th>vintage</th>\n",
       "      <th>age</th>\n",
       "      <th>gender</th>\n",
       "      <th>dependents</th>\n",
       "      <th>current_balance</th>\n",
       "      <th>previous_month_end_balance</th>\n",
       "      <th>average_monthly_balance_prevQ</th>\n",
       "      <th>average_monthly_balance_prevQ2</th>\n",
       "      <th>current_month_credit</th>\n",
       "      <th>previous_month_credit</th>\n",
       "      <th>...</th>\n",
       "      <th>previous_month_balance</th>\n",
       "      <th>churn</th>\n",
       "      <th>occupation_company</th>\n",
       "      <th>occupation_retired</th>\n",
       "      <th>occupation_salaried</th>\n",
       "      <th>occupation_self_employed</th>\n",
       "      <th>occupation_student</th>\n",
       "      <th>customer_nw_category_1</th>\n",
       "      <th>customer_nw_category_2</th>\n",
       "      <th>customer_nw_category_3</th>\n",
       "    </tr>\n",
       "  </thead>\n",
       "  <tbody>\n",
       "    <tr>\n",
       "      <th>0</th>\n",
       "      <td>2401</td>\n",
       "      <td>66</td>\n",
       "      <td>0</td>\n",
       "      <td>0</td>\n",
       "      <td>1458.71</td>\n",
       "      <td>1458.71</td>\n",
       "      <td>1458.71</td>\n",
       "      <td>1449.07</td>\n",
       "      <td>0.20</td>\n",
       "      <td>0.20</td>\n",
       "      <td>...</td>\n",
       "      <td>1458.71</td>\n",
       "      <td>0.0</td>\n",
       "      <td>0</td>\n",
       "      <td>0</td>\n",
       "      <td>0</td>\n",
       "      <td>1</td>\n",
       "      <td>0</td>\n",
       "      <td>0</td>\n",
       "      <td>1</td>\n",
       "      <td>0</td>\n",
       "    </tr>\n",
       "    <tr>\n",
       "      <th>1</th>\n",
       "      <td>2648</td>\n",
       "      <td>35</td>\n",
       "      <td>0</td>\n",
       "      <td>0</td>\n",
       "      <td>5390.37</td>\n",
       "      <td>8704.66</td>\n",
       "      <td>7799.26</td>\n",
       "      <td>12419.41</td>\n",
       "      <td>0.56</td>\n",
       "      <td>0.56</td>\n",
       "      <td>...</td>\n",
       "      <td>8787.61</td>\n",
       "      <td>0.0</td>\n",
       "      <td>0</td>\n",
       "      <td>0</td>\n",
       "      <td>0</td>\n",
       "      <td>1</td>\n",
       "      <td>0</td>\n",
       "      <td>0</td>\n",
       "      <td>1</td>\n",
       "      <td>0</td>\n",
       "    </tr>\n",
       "    <tr>\n",
       "      <th>2</th>\n",
       "      <td>2494</td>\n",
       "      <td>31</td>\n",
       "      <td>0</td>\n",
       "      <td>0</td>\n",
       "      <td>3913.16</td>\n",
       "      <td>5815.29</td>\n",
       "      <td>4910.17</td>\n",
       "      <td>2815.94</td>\n",
       "      <td>0.61</td>\n",
       "      <td>0.61</td>\n",
       "      <td>...</td>\n",
       "      <td>5070.14</td>\n",
       "      <td>0.0</td>\n",
       "      <td>0</td>\n",
       "      <td>0</td>\n",
       "      <td>1</td>\n",
       "      <td>0</td>\n",
       "      <td>0</td>\n",
       "      <td>0</td>\n",
       "      <td>1</td>\n",
       "      <td>0</td>\n",
       "    </tr>\n",
       "    <tr>\n",
       "      <th>3</th>\n",
       "      <td>2629</td>\n",
       "      <td>90</td>\n",
       "      <td>0</td>\n",
       "      <td>1</td>\n",
       "      <td>2291.91</td>\n",
       "      <td>2291.91</td>\n",
       "      <td>2084.54</td>\n",
       "      <td>1006.54</td>\n",
       "      <td>0.47</td>\n",
       "      <td>0.47</td>\n",
       "      <td>...</td>\n",
       "      <td>1669.79</td>\n",
       "      <td>1.0</td>\n",
       "      <td>0</td>\n",
       "      <td>0</td>\n",
       "      <td>0</td>\n",
       "      <td>1</td>\n",
       "      <td>0</td>\n",
       "      <td>0</td>\n",
       "      <td>1</td>\n",
       "      <td>0</td>\n",
       "    </tr>\n",
       "    <tr>\n",
       "      <th>4</th>\n",
       "      <td>1879</td>\n",
       "      <td>42</td>\n",
       "      <td>0</td>\n",
       "      <td>2</td>\n",
       "      <td>927.72</td>\n",
       "      <td>1401.72</td>\n",
       "      <td>1643.31</td>\n",
       "      <td>1871.12</td>\n",
       "      <td>0.33</td>\n",
       "      <td>714.61</td>\n",
       "      <td>...</td>\n",
       "      <td>1677.16</td>\n",
       "      <td>1.0</td>\n",
       "      <td>0</td>\n",
       "      <td>0</td>\n",
       "      <td>0</td>\n",
       "      <td>1</td>\n",
       "      <td>0</td>\n",
       "      <td>0</td>\n",
       "      <td>0</td>\n",
       "      <td>1</td>\n",
       "    </tr>\n",
       "  </tbody>\n",
       "</table>\n",
       "<p>5 rows × 23 columns</p>\n",
       "</div>"
      ],
      "text/plain": [
       "   vintage  age gender  dependents  current_balance  \\\n",
       "0     2401   66      0           0          1458.71   \n",
       "1     2648   35      0           0          5390.37   \n",
       "2     2494   31      0           0          3913.16   \n",
       "3     2629   90      0           1          2291.91   \n",
       "4     1879   42      0           2           927.72   \n",
       "\n",
       "   previous_month_end_balance  average_monthly_balance_prevQ  \\\n",
       "0                     1458.71                        1458.71   \n",
       "1                     8704.66                        7799.26   \n",
       "2                     5815.29                        4910.17   \n",
       "3                     2291.91                        2084.54   \n",
       "4                     1401.72                        1643.31   \n",
       "\n",
       "   average_monthly_balance_prevQ2  current_month_credit  \\\n",
       "0                         1449.07                  0.20   \n",
       "1                        12419.41                  0.56   \n",
       "2                         2815.94                  0.61   \n",
       "3                         1006.54                  0.47   \n",
       "4                         1871.12                  0.33   \n",
       "\n",
       "   previous_month_credit  ...  previous_month_balance  churn  \\\n",
       "0                   0.20  ...                 1458.71    0.0   \n",
       "1                   0.56  ...                 8787.61    0.0   \n",
       "2                   0.61  ...                 5070.14    0.0   \n",
       "3                   0.47  ...                 1669.79    1.0   \n",
       "4                 714.61  ...                 1677.16    1.0   \n",
       "\n",
       "   occupation_company  occupation_retired occupation_salaried  \\\n",
       "0                   0                   0                   0   \n",
       "1                   0                   0                   0   \n",
       "2                   0                   0                   1   \n",
       "3                   0                   0                   0   \n",
       "4                   0                   0                   0   \n",
       "\n",
       "   occupation_self_employed  occupation_student  customer_nw_category_1  \\\n",
       "0                         1                   0                       0   \n",
       "1                         1                   0                       0   \n",
       "2                         0                   0                       0   \n",
       "3                         1                   0                       0   \n",
       "4                         1                   0                       0   \n",
       "\n",
       "   customer_nw_category_2  customer_nw_category_3  \n",
       "0                       1                       0  \n",
       "1                       1                       0  \n",
       "2                       1                       0  \n",
       "3                       1                       0  \n",
       "4                       0                       1  \n",
       "\n",
       "[5 rows x 23 columns]"
      ]
     },
     "execution_count": 58,
     "metadata": {},
     "output_type": "execute_result"
    }
   ],
   "source": [
    "df.head()"
   ]
  },
  {
   "cell_type": "code",
   "execution_count": 73,
   "id": "c57fa21f-62d6-469d-9998-c3f29586e928",
   "metadata": {},
   "outputs": [],
   "source": [
    "X = df.drop(\"churn\", axis=1)\n",
    "y = df[\"churn\"]"
   ]
  },
  {
   "cell_type": "code",
   "execution_count": 75,
   "id": "5a0c5bff-142a-46e2-8137-48b7c8fcb1af",
   "metadata": {},
   "outputs": [
    {
     "data": {
      "text/plain": [
       "((15929, 22), (15929,))"
      ]
     },
     "execution_count": 75,
     "metadata": {},
     "output_type": "execute_result"
    }
   ],
   "source": [
    "X.shape, y.shape"
   ]
  },
  {
   "cell_type": "code",
   "execution_count": 83,
   "id": "e97822bf-0b42-47b8-b6b1-e24e1214848e",
   "metadata": {},
   "outputs": [
    {
     "data": {
      "text/plain": [
       "churn\n",
       "0.0    0.81248\n",
       "1.0    0.18752\n",
       "Name: proportion, dtype: float64"
      ]
     },
     "execution_count": 83,
     "metadata": {},
     "output_type": "execute_result"
    }
   ],
   "source": [
    "df[\"churn\"].value_counts(normalize=True)"
   ]
  },
  {
   "cell_type": "markdown",
   "id": "761176df-80e3-4906-b4f0-9b749a865bc7",
   "metadata": {},
   "source": [
    "## Model Building"
   ]
  },
  {
   "cell_type": "code",
   "execution_count": 127,
   "id": "72ccd1e4-fd8a-44ee-98c7-7d25f1a6ac5b",
   "metadata": {},
   "outputs": [],
   "source": [
    "from keras import backend as K\n",
    "K.clear_session()\n",
    "\n",
    "model = Sequential()  # create an instance of the Sequential class\n",
    "\n",
    "model.add(Dense(256, input_shape=(X.shape[1], ), activation='relu', kernel_regularizer=\"l1\")) \n",
    "model.add(Dropout(0.2))\n",
    "\n",
    "model.add(Dense(128, activation='relu', kernel_regularizer=\"l1\"))  \n",
    "model.add(Dropout(0.2))\n",
    "\n",
    "model.add(Dense(128, activation='relu', kernel_regularizer=\"l1\")) \n",
    "\n",
    "# This is my output layer\n",
    "model.add(Dense(1, activation='sigmoid')) "
   ]
  },
  {
   "cell_type": "code",
   "execution_count": 128,
   "id": "dbd2dafd-a838-4ccd-8a70-7dacd6a96d7a",
   "metadata": {},
   "outputs": [
    {
     "name": "stdout",
     "output_type": "stream",
     "text": [
      "Model: \"sequential\"\n",
      "_________________________________________________________________\n",
      " Layer (type)                Output Shape              Param #   \n",
      "=================================================================\n",
      " dense (Dense)               (None, 256)               5888      \n",
      "                                                                 \n",
      " dropout (Dropout)           (None, 256)               0         \n",
      "                                                                 \n",
      " dense_1 (Dense)             (None, 128)               32896     \n",
      "                                                                 \n",
      " dropout_1 (Dropout)         (None, 128)               0         \n",
      "                                                                 \n",
      " dense_2 (Dense)             (None, 128)               16512     \n",
      "                                                                 \n",
      " dense_3 (Dense)             (None, 1)                 129       \n",
      "                                                                 \n",
      "=================================================================\n",
      "Total params: 55425 (216.50 KB)\n",
      "Trainable params: 55425 (216.50 KB)\n",
      "Non-trainable params: 0 (0.00 Byte)\n",
      "_________________________________________________________________\n"
     ]
    }
   ],
   "source": [
    "model.summary()"
   ]
  },
  {
   "cell_type": "code",
   "execution_count": 129,
   "id": "b6315294-6c85-4d82-ab06-c496adc826e7",
   "metadata": {},
   "outputs": [
    {
     "name": "stdout",
     "output_type": "stream",
     "text": [
      "Epoch 1/60\n",
      "128/128 [==============================] - 5s 10ms/step - loss: 122.8190 - auc: 0.6263 - val_loss: 74.5128 - val_auc: 0.6194\n",
      "Epoch 2/60\n",
      "128/128 [==============================] - 1s 8ms/step - loss: 80.4153 - auc: 0.6210 - val_loss: 61.2406 - val_auc: 0.6441\n",
      "Epoch 3/60\n",
      "128/128 [==============================] - 1s 6ms/step - loss: 67.3718 - auc: 0.6340 - val_loss: 56.6655 - val_auc: 0.6163\n",
      "Epoch 4/60\n",
      "128/128 [==============================] - 1s 6ms/step - loss: 55.4015 - auc: 0.6122 - val_loss: 37.1067 - val_auc: 0.6657\n",
      "Epoch 5/60\n",
      "128/128 [==============================] - 1s 6ms/step - loss: 47.8237 - auc: 0.5959 - val_loss: 37.6819 - val_auc: 0.5061\n",
      "Epoch 6/60\n",
      "128/128 [==============================] - 1s 6ms/step - loss: 39.3678 - auc: 0.5536 - val_loss: 32.6179 - val_auc: 0.5250\n",
      "Epoch 7/60\n",
      "128/128 [==============================] - 1s 7ms/step - loss: 34.5909 - auc: 0.5527 - val_loss: 30.7852 - val_auc: 0.5123\n",
      "Epoch 8/60\n",
      "128/128 [==============================] - 1s 7ms/step - loss: 30.8409 - auc: 0.5350 - val_loss: 29.7329 - val_auc: 0.5177\n",
      "Epoch 9/60\n",
      "128/128 [==============================] - 1s 7ms/step - loss: 29.3372 - auc: 0.5437 - val_loss: 28.2296 - val_auc: 0.4962\n",
      "Epoch 10/60\n",
      "128/128 [==============================] - 1s 10ms/step - loss: 28.5426 - auc: 0.5385 - val_loss: 27.6814 - val_auc: 0.5045\n",
      "Epoch 11/60\n",
      "128/128 [==============================] - 2s 15ms/step - loss: 27.3717 - auc: 0.5294 - val_loss: 26.8514 - val_auc: 0.5056\n",
      "Epoch 12/60\n",
      "128/128 [==============================] - 2s 15ms/step - loss: 26.6475 - auc: 0.5192 - val_loss: 26.2021 - val_auc: 0.5056\n",
      "Epoch 13/60\n",
      "128/128 [==============================] - 2s 14ms/step - loss: 26.1091 - auc: 0.5135 - val_loss: 25.5747 - val_auc: 0.5064\n",
      "Epoch 14/60\n",
      "128/128 [==============================] - 2s 12ms/step - loss: 25.3969 - auc: 0.5146 - val_loss: 24.9257 - val_auc: 0.5016\n",
      "Epoch 15/60\n",
      "128/128 [==============================] - 1s 9ms/step - loss: 24.7338 - auc: 0.5061 - val_loss: 24.2812 - val_auc: 0.5024\n",
      "Epoch 16/60\n",
      "128/128 [==============================] - 1s 9ms/step - loss: 24.1487 - auc: 0.5207 - val_loss: 23.6660 - val_auc: 0.5008\n",
      "Epoch 17/60\n",
      "128/128 [==============================] - 1s 11ms/step - loss: 23.3713 - auc: 0.5099 - val_loss: 23.0194 - val_auc: 0.5008\n",
      "Epoch 18/60\n",
      "128/128 [==============================] - 1s 6ms/step - loss: 22.7247 - auc: 0.5157 - val_loss: 22.3859 - val_auc: 0.5006\n",
      "Epoch 19/60\n",
      "128/128 [==============================] - 1s 6ms/step - loss: 22.2173 - auc: 0.5117 - val_loss: 21.7690 - val_auc: 0.5008\n",
      "Epoch 20/60\n",
      "128/128 [==============================] - 1s 6ms/step - loss: 21.5100 - auc: 0.5097 - val_loss: 21.1506 - val_auc: 0.5008\n",
      "Epoch 21/60\n",
      "128/128 [==============================] - 1s 5ms/step - loss: 20.8389 - auc: 0.5130 - val_loss: 20.5145 - val_auc: 0.5016\n",
      "Epoch 22/60\n",
      "128/128 [==============================] - 1s 6ms/step - loss: 20.2379 - auc: 0.5024 - val_loss: 19.9171 - val_auc: 0.5036\n",
      "Epoch 23/60\n",
      "128/128 [==============================] - 1s 6ms/step - loss: 19.6309 - auc: 0.5072 - val_loss: 19.3086 - val_auc: 0.5008\n",
      "Epoch 24/60\n",
      "128/128 [==============================] - 1s 11ms/step - loss: 19.0150 - auc: 0.5195 - val_loss: 18.7024 - val_auc: 0.5008\n",
      "Epoch 25/60\n",
      "128/128 [==============================] - 2s 19ms/step - loss: 18.4068 - auc: 0.5158 - val_loss: 18.1220 - val_auc: 0.5002\n",
      "Epoch 26/60\n",
      "128/128 [==============================] - 1s 9ms/step - loss: 17.8378 - auc: 0.5037 - val_loss: 17.4902 - val_auc: 0.5008\n",
      "Epoch 27/60\n",
      "128/128 [==============================] - 1s 8ms/step - loss: 17.2566 - auc: 0.5009 - val_loss: 16.9268 - val_auc: 0.5008\n",
      "Epoch 28/60\n",
      "128/128 [==============================] - 1s 8ms/step - loss: 16.6329 - auc: 0.5082 - val_loss: 16.3265 - val_auc: 0.5008\n",
      "Epoch 29/60\n",
      "128/128 [==============================] - 1s 10ms/step - loss: 16.1104 - auc: 0.5007 - val_loss: 15.8010 - val_auc: 0.5008\n",
      "Epoch 30/60\n",
      "128/128 [==============================] - 1s 9ms/step - loss: 15.5439 - auc: 0.5092 - val_loss: 15.1947 - val_auc: 0.5014\n",
      "Epoch 31/60\n",
      "128/128 [==============================] - 1s 10ms/step - loss: 15.0046 - auc: 0.5187 - val_loss: 14.7180 - val_auc: 0.5008\n",
      "Epoch 32/60\n",
      "128/128 [==============================] - 2s 15ms/step - loss: 14.4059 - auc: 0.4998 - val_loss: 14.1239 - val_auc: 0.5008\n",
      "Epoch 33/60\n",
      "128/128 [==============================] - 1s 8ms/step - loss: 13.8687 - auc: 0.5011 - val_loss: 13.5847 - val_auc: 0.5008\n",
      "Epoch 34/60\n",
      "128/128 [==============================] - 1s 7ms/step - loss: 13.2867 - auc: 0.5196 - val_loss: 13.0041 - val_auc: 0.5205\n",
      "Epoch 35/60\n",
      "128/128 [==============================] - 2s 13ms/step - loss: 12.7650 - auc: 0.5117 - val_loss: 12.5023 - val_auc: 0.5008\n",
      "Epoch 36/60\n",
      "128/128 [==============================] - 2s 15ms/step - loss: 12.2705 - auc: 0.5161 - val_loss: 11.9993 - val_auc: 0.4603\n",
      "Epoch 37/60\n",
      "128/128 [==============================] - 3s 20ms/step - loss: 11.7491 - auc: 0.5040 - val_loss: 11.4740 - val_auc: 0.5008\n",
      "Epoch 38/60\n",
      "128/128 [==============================] - 1s 11ms/step - loss: 11.2712 - auc: 0.5184 - val_loss: 11.0337 - val_auc: 0.4989\n",
      "Epoch 39/60\n",
      "128/128 [==============================] - 1s 6ms/step - loss: 10.7954 - auc: 0.5011 - val_loss: 10.5138 - val_auc: 0.5190\n",
      "Epoch 40/60\n",
      "128/128 [==============================] - 1s 7ms/step - loss: 10.2937 - auc: 0.5167 - val_loss: 10.0300 - val_auc: 0.5016\n",
      "Epoch 41/60\n",
      "128/128 [==============================] - 1s 7ms/step - loss: 9.7628 - auc: 0.5146 - val_loss: 9.5017 - val_auc: 0.5030\n",
      "Epoch 42/60\n",
      "128/128 [==============================] - 1s 7ms/step - loss: 9.3062 - auc: 0.5282 - val_loss: 9.0603 - val_auc: 0.4992\n",
      "Epoch 43/60\n",
      "128/128 [==============================] - 1s 6ms/step - loss: 8.8278 - auc: 0.5179 - val_loss: 8.6232 - val_auc: 0.5154\n",
      "Epoch 44/60\n",
      "128/128 [==============================] - 1s 8ms/step - loss: 8.3985 - auc: 0.5411 - val_loss: 8.2374 - val_auc: 0.5206\n",
      "Epoch 45/60\n",
      "128/128 [==============================] - 1s 11ms/step - loss: 8.0175 - auc: 0.5173 - val_loss: 7.7511 - val_auc: 0.5008\n",
      "Epoch 46/60\n",
      "128/128 [==============================] - 1s 8ms/step - loss: 7.6776 - auc: 0.5221 - val_loss: 7.5337 - val_auc: 0.5354\n",
      "Epoch 47/60\n",
      "128/128 [==============================] - 1s 7ms/step - loss: 7.3292 - auc: 0.5130 - val_loss: 7.0713 - val_auc: 0.5461\n",
      "Epoch 48/60\n",
      "128/128 [==============================] - 1s 7ms/step - loss: 6.8752 - auc: 0.5149 - val_loss: 6.7077 - val_auc: 0.5016\n",
      "Epoch 49/60\n",
      "128/128 [==============================] - 2s 16ms/step - loss: 6.5402 - auc: 0.5169 - val_loss: 6.3234 - val_auc: 0.4272\n",
      "Epoch 50/60\n",
      "128/128 [==============================] - 2s 14ms/step - loss: 6.1616 - auc: 0.5219 - val_loss: 5.9575 - val_auc: 0.6679\n",
      "Epoch 51/60\n",
      "128/128 [==============================] - 2s 15ms/step - loss: 5.8251 - auc: 0.5148 - val_loss: 5.7521 - val_auc: 0.5087\n",
      "Epoch 52/60\n",
      "128/128 [==============================] - 1s 11ms/step - loss: 5.5678 - auc: 0.5225 - val_loss: 5.3811 - val_auc: 0.5026\n",
      "Epoch 53/60\n",
      "128/128 [==============================] - 1s 8ms/step - loss: 5.2441 - auc: 0.5105 - val_loss: 5.1109 - val_auc: 0.4952\n",
      "Epoch 54/60\n",
      "128/128 [==============================] - 1s 5ms/step - loss: 4.9204 - auc: 0.5312 - val_loss: 4.7208 - val_auc: 0.5036\n",
      "Epoch 55/60\n",
      "128/128 [==============================] - 1s 5ms/step - loss: 4.6147 - auc: 0.5642 - val_loss: 4.4841 - val_auc: 0.6988\n",
      "Epoch 56/60\n",
      "128/128 [==============================] - 1s 8ms/step - loss: 4.4162 - auc: 0.5172 - val_loss: 4.3130 - val_auc: 0.5756\n",
      "Epoch 57/60\n",
      "128/128 [==============================] - 1s 7ms/step - loss: 4.2164 - auc: 0.5339 - val_loss: 4.0992 - val_auc: 0.5056\n",
      "Epoch 58/60\n",
      "128/128 [==============================] - 1s 7ms/step - loss: 3.8943 - auc: 0.5033 - val_loss: 3.7650 - val_auc: 0.5004\n",
      "Epoch 59/60\n",
      "128/128 [==============================] - 1s 6ms/step - loss: 3.5954 - auc: 0.5415 - val_loss: 3.5222 - val_auc: 0.4086\n",
      "Epoch 60/60\n",
      "128/128 [==============================] - 1s 5ms/step - loss: 3.5320 - auc: 0.5459 - val_loss: 3.4447 - val_auc: 0.7362\n"
     ]
    }
   ],
   "source": [
    "model.compile(optimizer = \"adam\", loss=\"binary_crossentropy\", metrics=metrics.AUC() )\n",
    "history = model.fit(X, y, epochs=60, batch_size=100, validation_split=0.2)"
   ]
  },
  {
   "cell_type": "markdown",
   "id": "188f8936-c308-4b2a-8c05-8efbf5b967b0",
   "metadata": {},
   "source": [
    "## Model Plots"
   ]
  },
  {
   "cell_type": "code",
   "execution_count": 130,
   "id": "0424f166-e1fb-46b5-a060-26bc933f41f4",
   "metadata": {},
   "outputs": [
    {
     "data": {
      "image/png": "[encoded data removed]",
      "text/plain": [
       "<Figure size 640x480 with 1 Axes>"
      ]
     },
     "metadata": {},
     "output_type": "display_data"
    }
   ],
   "source": [
    "import matplotlib.pyplot as plt\n",
    "\n",
    "plt.plot(history.history[\"loss\"], label = \"Train Loss\")\n",
    "plt.plot(history.history[\"val_loss\"], label = \"Val Loss\")\n",
    "plt.xlabel(\"Epochs\")\n",
    "plt.ylabel(\"Loss values\")\n",
    "plt.legend()\n",
    "plt.grid(\"on\")\n",
    "plt.show()"
   ]
  },
  {
   "cell_type": "code",
   "execution_count": 131,
   "id": "1bfd1a05-6816-4888-b557-a36444632490",
   "metadata": {},
   "outputs": [
    {
     "data": {
      "image/png": "[encoded data removed]",
      "text/plain": [
       "<Figure size 640x480 with 1 Axes>"
      ]
     },
     "metadata": {},
     "output_type": "display_data"
    }
   ],
   "source": [
    "plt.plot(history.history[\"auc\"], label = \"Train Accuracy\")\n",
    "plt.plot(history.history[\"val_auc\"], label = \"Val Accuracy\")\n",
    "plt.xlabel(\"Epochs\")\n",
    "plt.ylabel(\"Accuracy values\")\n",
    "plt.legend()\n",
    "plt.grid(\"on\")\n",
    "plt.show()"
   ]
  },
  {
   "cell_type": "code",
   "execution_count": 115,
   "id": "0f6dd331-3e96-4656-9372-658b3b3735fc",
   "metadata": {},
   "outputs": [
    {
     "data": {
      "text/plain": [
       "dict_keys(['loss', 'auc', 'val_loss', 'val_auc'])"
      ]
     },
     "execution_count": 115,
     "metadata": {},
     "output_type": "execute_result"
    }
   ],
   "source": [
    "history.history.keys()"
   ]
  },
  {
   "cell_type": "code",
   "execution_count": null,
   "id": "ab29058c-339c-457f-94b8-3365e6d6d2cd",
   "metadata": {},
   "outputs": [],
   "source": []
  },
  {
   "cell_type": "code",
   "execution_count": 132,
   "id": "9f0fbf2a-b9d9-4e0d-927d-12c55eb1cf19",
   "metadata": {},
   "outputs": [
    {
     "name": "stdout",
     "output_type": "stream",
     "text": [
      "Collecting keras-tuner\n",
      "  Downloading keras_tuner-1.4.6-py3-none-any.whl.metadata (5.4 kB)\n",
      "Requirement already satisfied: keras in c:\\users\\prashant\\anaconda3\\envs\\dl10\\lib\\site-packages (from keras-tuner) (2.15.0)\n",
      "Requirement already satisfied: packaging in c:\\users\\prashant\\anaconda3\\envs\\dl10\\lib\\site-packages (from keras-tuner) (23.2)\n",
      "Requirement already satisfied: requests in c:\\users\\prashant\\anaconda3\\envs\\dl10\\lib\\site-packages (from keras-tuner) (2.31.0)\n",
      "Collecting kt-legacy (from keras-tuner)\n",
      "  Downloading kt_legacy-1.0.5-py3-none-any.whl (9.6 kB)\n",
      "Requirement already satisfied: charset-normalizer<4,>=2 in c:\\users\\prashant\\anaconda3\\envs\\dl10\\lib\\site-packages (from requests->keras-tuner) (3.3.2)\n",
      "Requirement already satisfied: idna<4,>=2.5 in c:\\users\\prashant\\anaconda3\\envs\\dl10\\lib\\site-packages (from requests->keras-tuner) (3.6)\n",
      "Requirement already satisfied: urllib3<3,>=1.21.1 in c:\\users\\prashant\\anaconda3\\envs\\dl10\\lib\\site-packages (from requests->keras-tuner) (2.1.0)\n",
      "Requirement already satisfied: certifi>=2017.4.17 in c:\\users\\prashant\\anaconda3\\envs\\dl10\\lib\\site-packages (from requests->keras-tuner) (2023.11.17)\n",
      "Downloading keras_tuner-1.4.6-py3-none-any.whl (128 kB)\n",
      "   ---------------------------------------- 0.0/128.9 kB ? eta -:--:--\n",
      "   --- ------------------------------------ 10.2/128.9 kB ? eta -:--:--\n",
      "   ------------------ -------------------- 61.4/128.9 kB 656.4 kB/s eta 0:00:01\n",
      "   --------------------------- ----------- 92.2/128.9 kB 655.4 kB/s eta 0:00:01\n",
      "   --------------------------------- ---- 112.6/128.9 kB 656.4 kB/s eta 0:00:01\n",
      "   --------------------------------- ---- 112.6/128.9 kB 656.4 kB/s eta 0:00:01\n",
      "   --------------------------------- ---- 112.6/128.9 kB 656.4 kB/s eta 0:00:01\n",
      "   --------------------------------- ---- 112.6/128.9 kB 656.4 kB/s eta 0:00:01\n",
      "   --------------------------------- ---- 112.6/128.9 kB 656.4 kB/s eta 0:00:01\n",
      "   --------------------------------- ---- 112.6/128.9 kB 656.4 kB/s eta 0:00:01\n",
      "   -------------------------------------- 128.9/128.9 kB 262.0 kB/s eta 0:00:00\n",
      "Installing collected packages: kt-legacy, keras-tuner\n",
      "Successfully installed keras-tuner-1.4.6 kt-legacy-1.0.5\n"
     ]
    }
   ],
   "source": [
    "# !pip install keras-tuner"
   ]
  }
 ],
 "metadata": {
  "kernelspec": {
   "display_name": "Python 3 (ipykernel)",
   "language": "python",
   "name": "python3"
  },
  "language_info": {
   "codemirror_mode": {
    "name": "ipython",
    "version": 3
   },
   "file_extension": ".py",
   "mimetype": "text/x-python",
   "name": "python",
   "nbconvert_exporter": "python",
   "pygments_lexer": "ipython3",
   "version": "3.10.0"
  }
 },
 "nbformat": 4,
 "nbformat_minor": 5
}
