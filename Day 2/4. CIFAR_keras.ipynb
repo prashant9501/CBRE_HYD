{
 "cells": [
  {
   "cell_type": "code",
   "execution_count": 2,
   "metadata": {
    "colab": {},
    "colab_type": "code",
    "id": "BHWkrH2s2Jif"
   },
   "outputs": [],
   "source": [
    "import tensorflow as tf\n",
    "# tf.compat.v1.disable_eager_execution()"
   ]
  },
  {
   "cell_type": "code",
   "execution_count": 3,
   "metadata": {
    "colab": {
     "base_uri": "https://localhost:8080/",
     "height": 34
    },
    "colab_type": "code",
    "executionInfo": {
     "elapsed": 1088,
     "status": "ok",
     "timestamp": 1590647770915,
     "user": {
      "displayName": "Prashant Sahu",
      "photoUrl": "https://lh3.googleusercontent.com/a-/AOh14GgpWHtnVqeOz3R8ZN_aCneM4Ys0mkXEOSqeXNpi7A=s64",
      "userId": "17861245123904241513"
     },
     "user_tz": -330
    },
    "id": "HGJJXDJZ2Jiv",
    "outputId": "55a811ca-d95c-4e4d-ea43-8a3ed144cb43"
   },
   "outputs": [
    {
     "data": {
      "text/plain": [
       "'2.4.1'"
      ]
     },
     "execution_count": 3,
     "metadata": {},
     "output_type": "execute_result"
    }
   ],
   "source": [
    "tf.__version__"
   ]
  },
  {
   "cell_type": "code",
   "execution_count": 4,
   "metadata": {
    "colab": {},
    "colab_type": "code",
    "id": "EjSGcBT1y4D8"
   },
   "outputs": [],
   "source": [
    "from keras.datasets import cifar10\n",
    "import matplotlib.pyplot as plt\n",
    "import numpy\n",
    "from keras import models,layers\n",
    "from keras.utils import to_categorical\n",
    "from keras import optimizers"
   ]
  },
  {
   "cell_type": "code",
   "execution_count": 5,
   "metadata": {
    "colab": {},
    "colab_type": "code",
    "id": "R3PnsOiqy4Ep"
   },
   "outputs": [],
   "source": [
    "# loading the dataset\n",
    "(xtrain, ytrain), (xtest, ytest) = cifar10.load_data()"
   ]
  },
  {
   "cell_type": "code",
   "execution_count": 6,
   "metadata": {
    "colab": {
     "base_uri": "https://localhost:8080/",
     "height": 84
    },
    "colab_type": "code",
    "executionInfo": {
     "elapsed": 2919,
     "status": "ok",
     "timestamp": 1590647774342,
     "user": {
      "displayName": "Prashant Sahu",
      "photoUrl": "https://lh3.googleusercontent.com/a-/AOh14GgpWHtnVqeOz3R8ZN_aCneM4Ys0mkXEOSqeXNpi7A=s64",
      "userId": "17861245123904241513"
     },
     "user_tz": -330
    },
    "id": "gv5NWnEPy4FQ",
    "outputId": "8d1ff511-ca77-410e-f58f-4ff05927812d"
   },
   "outputs": [
    {
     "name": "stdout",
     "output_type": "stream",
     "text": [
      "(50000, 32, 32, 3)\n",
      "(10000, 32, 32, 3)\n",
      "(50000, 1)\n",
      "(10000, 1)\n"
     ]
    }
   ],
   "source": [
    "print(xtrain.shape)\n",
    "print(xtest.shape)\n",
    "print(ytrain.shape)\n",
    "print(ytest.shape)"
   ]
  },
  {
   "cell_type": "code",
   "execution_count": 7,
   "metadata": {
    "colab": {},
    "colab_type": "code",
    "id": "ixQwYgs3y4F_"
   },
   "outputs": [],
   "source": [
    "labels=['airplane', 'automobile','bird', 'cat', 'deer', 'dog', 'frog', 'horse', 'ship', 'truck']"
   ]
  },
  {
   "cell_type": "code",
   "execution_count": 8,
   "metadata": {},
   "outputs": [
    {
     "data": {
      "text/plain": [
       "3"
      ]
     },
     "execution_count": 8,
     "metadata": {},
     "output_type": "execute_result"
    }
   ],
   "source": [
    "1+2"
   ]
  },
  {
   "cell_type": "code",
   "execution_count": 12,
   "metadata": {
    "colab": {
     "base_uri": "https://localhost:8080/",
     "height": 283
    },
    "colab_type": "code",
    "executionInfo": {
     "elapsed": 2699,
     "status": "ok",
     "timestamp": 1590647778690,
     "user": {
      "displayName": "Prashant Sahu",
      "photoUrl": "https://lh3.googleusercontent.com/a-/AOh14GgpWHtnVqeOz3R8ZN_aCneM4Ys0mkXEOSqeXNpi7A=s64",
      "userId": "17861245123904241513"
     },
     "user_tz": -330
    },
    "id": "mtn_1uyTy4GP",
    "outputId": "69cd2692-687e-4a11-c6a4-47368508ef55"
   },
   "outputs": [
    {
     "name": "stdout",
     "output_type": "stream",
     "text": [
      "[4]\n"
     ]
    },
    {
     "data": {
      "image/png": "[encoded data removed]",
      "text/plain": [
       "<Figure size 432x288 with 1 Axes>"
      ]
     },
     "metadata": {
      "needs_background": "light"
     },
     "output_type": "display_data"
    }
   ],
   "source": [
    "#explore data\n",
    "print(ytrain[9000])\n",
    "plt.imshow(xtrain[9000])\n",
    "plt.show()"
   ]
  },
  {
   "cell_type": "code",
   "execution_count": 13,
   "metadata": {
    "colab": {
     "base_uri": "https://localhost:8080/",
     "height": 34
    },
    "colab_type": "code",
    "executionInfo": {
     "elapsed": 2286,
     "status": "ok",
     "timestamp": 1590647778694,
     "user": {
      "displayName": "Prashant Sahu",
      "photoUrl": "https://lh3.googleusercontent.com/a-/AOh14GgpWHtnVqeOz3R8ZN_aCneM4Ys0mkXEOSqeXNpi7A=s64",
      "userId": "17861245123904241513"
     },
     "user_tz": -330
    },
    "id": "e974gsWBKJqe",
    "outputId": "741e860d-5420-49cb-da62-fe7e074ae503"
   },
   "outputs": [
    {
     "data": {
      "text/plain": [
       "dtype('uint8')"
      ]
     },
     "execution_count": 13,
     "metadata": {},
     "output_type": "execute_result"
    }
   ],
   "source": [
    "xtrain.dtype"
   ]
  },
  {
   "cell_type": "code",
   "execution_count": 14,
   "metadata": {
    "colab": {},
    "colab_type": "code",
    "id": "hz-Zx5SIy4HE"
   },
   "outputs": [],
   "source": [
    "# conver the pixel values in float\n",
    "xtrain = xtrain.astype('float32')\n",
    "xtest = xtest.astype('float32')\n",
    "# scale the images\n",
    "xtrain /= 255  # ths is eqvalent to xtrain = xtrain/255 \n",
    "xtest /= 255"
   ]
  },
  {
   "cell_type": "code",
   "execution_count": 15,
   "metadata": {
    "colab": {
     "base_uri": "https://localhost:8080/",
     "height": 50
    },
    "colab_type": "code",
    "executionInfo": {
     "elapsed": 1761,
     "status": "ok",
     "timestamp": 1590647779820,
     "user": {
      "displayName": "Prashant Sahu",
      "photoUrl": "https://lh3.googleusercontent.com/a-/AOh14GgpWHtnVqeOz3R8ZN_aCneM4Ys0mkXEOSqeXNpi7A=s64",
      "userId": "17861245123904241513"
     },
     "user_tz": -330
    },
    "id": "rZhGxFxNy4Hm",
    "outputId": "eb40ab2a-7399-461c-c74c-1ed97068254a"
   },
   "outputs": [
    {
     "name": "stdout",
     "output_type": "stream",
     "text": [
      "(50000, 10)\n",
      "(10000, 10)\n"
     ]
    }
   ],
   "source": [
    "# Convert class vectors to binary class matrices.\n",
    "ytrain = to_categorical(ytrain)\n",
    "ytest = to_categorical(ytest)\n",
    "print(ytrain.shape)\n",
    "print(ytest.shape)\n"
   ]
  },
  {
   "cell_type": "code",
   "execution_count": 16,
   "metadata": {
    "colab": {
     "base_uri": "https://localhost:8080/",
     "height": 34
    },
    "colab_type": "code",
    "executionInfo": {
     "elapsed": 1803,
     "status": "ok",
     "timestamp": 1590647782803,
     "user": {
      "displayName": "Prashant Sahu",
      "photoUrl": "https://lh3.googleusercontent.com/a-/AOh14GgpWHtnVqeOz3R8ZN_aCneM4Ys0mkXEOSqeXNpi7A=s64",
      "userId": "17861245123904241513"
     },
     "user_tz": -330
    },
    "id": "fHYavJnoJCN1",
    "outputId": "fab2945b-d747-4835-f411-7e3621ca96fe"
   },
   "outputs": [
    {
     "data": {
      "text/plain": [
       "array([0., 0., 0., 0., 0., 0., 0., 1., 0., 0.], dtype=float32)"
      ]
     },
     "execution_count": 16,
     "metadata": {},
     "output_type": "execute_result"
    }
   ],
   "source": [
    "ytrain[2000]"
   ]
  },
  {
   "cell_type": "code",
   "execution_count": 17,
   "metadata": {
    "colab": {
     "base_uri": "https://localhost:8080/",
     "height": 840
    },
    "colab_type": "code",
    "executionInfo": {
     "elapsed": 2065,
     "status": "ok",
     "timestamp": 1590647783642,
     "user": {
      "displayName": "Prashant Sahu",
      "photoUrl": "https://lh3.googleusercontent.com/a-/AOh14GgpWHtnVqeOz3R8ZN_aCneM4Ys0mkXEOSqeXNpi7A=s64",
      "userId": "17861245123904241513"
     },
     "user_tz": -330
    },
    "id": "uD2GMDhNpPNv",
    "outputId": "01a644a2-ad24-4b87-c7d7-05e1ef91389d"
   },
   "outputs": [
    {
     "name": "stdout",
     "output_type": "stream",
     "text": [
      "[[[0.20784314 0.25490198 0.20784314]\n",
      "  [0.21176471 0.24705882 0.20392157]\n",
      "  [0.21960784 0.23529412 0.19607843]\n",
      "  ...\n",
      "  [0.18431373 0.2        0.19607843]\n",
      "  [0.16078432 0.1764706  0.17254902]\n",
      "  [0.09411765 0.10980392 0.10588235]]\n",
      "\n",
      " [[0.18039216 0.23137255 0.16078432]\n",
      "  [0.20784314 0.24313726 0.1764706 ]\n",
      "  [0.21176471 0.23137255 0.17254902]\n",
      "  ...\n",
      "  [0.16470589 0.18039216 0.1764706 ]\n",
      "  [0.15294118 0.16862746 0.16470589]\n",
      "  [0.10980392 0.1254902  0.12156863]]\n",
      "\n",
      " [[0.1764706  0.23137255 0.14901961]\n",
      "  [0.19607843 0.23529412 0.16078432]\n",
      "  [0.18039216 0.20392157 0.13333334]\n",
      "  ...\n",
      "  [0.14901961 0.16470589 0.16078432]\n",
      "  [0.14117648 0.15686275 0.15294118]\n",
      "  [0.11372549 0.12941177 0.1254902 ]]\n",
      "\n",
      " ...\n",
      "\n",
      " [[0.2784314  0.3254902  0.25882354]\n",
      "  [0.2901961  0.3254902  0.25882354]\n",
      "  [0.3137255  0.33333334 0.2627451 ]\n",
      "  ...\n",
      "  [0.2        0.21176471 0.12941177]\n",
      "  [0.18039216 0.19215687 0.13333334]\n",
      "  [0.19215687 0.19607843 0.16078432]]\n",
      "\n",
      " [[0.29411766 0.32156864 0.2627451 ]\n",
      "  [0.30980393 0.33333334 0.27058825]\n",
      "  [0.31764707 0.33333334 0.2627451 ]\n",
      "  ...\n",
      "  [0.23921569 0.25490198 0.16078432]\n",
      "  [0.2509804  0.2627451  0.1882353 ]\n",
      "  [0.1882353  0.19607843 0.16078432]]\n",
      "\n",
      " [[0.33333334 0.3254902  0.2784314 ]\n",
      "  [0.33333334 0.32941177 0.2784314 ]\n",
      "  [0.3372549  0.3372549  0.27450982]\n",
      "  ...\n",
      "  [0.23921569 0.25490198 0.15294118]\n",
      "  [0.2509804  0.2627451  0.18039216]\n",
      "  [0.19215687 0.19607843 0.16078432]]]\n"
     ]
    }
   ],
   "source": [
    "print(xtrain[10])"
   ]
  },
  {
   "cell_type": "code",
   "execution_count": 18,
   "metadata": {
    "colab": {},
    "colab_type": "code",
    "id": "q5Z4em7tLJox"
   },
   "outputs": [],
   "source": [
    "model = models.Sequential()\n",
    "model.add(layers.Flatten(input_shape = (32,32,3)))  # it converts a 2D image (eg. 12,12) into a 1D vector (1,144)\n",
    "model.add(layers.Dense(512, activation='relu', kernel_initializer='glorot_uniform', \\\n",
    "                       bias_initializer='zeros', kernel_regularizer='l2')) # Adding a hidden layer with 512 neurons, fully connected layer\n",
    "\n",
    "model.add(layers.Dense(128, activation='relu', kernel_initializer='glorot_uniform', \\\n",
    "                       bias_initializer='zeros', kernel_regularizer='l2')) # Adding a hidden layer with 512 neurons, fully connected layer\n",
    "\n",
    "model.add(layers.Dense(64, activation='relu', kernel_initializer='glorot_uniform', \\\n",
    "                       bias_initializer='zeros', kernel_regularizer='l2')) # Adding a hidden layer with 512 neurons, fully connected layer\n",
    "\n",
    "model.add(layers.Dense(10, activation='softmax'))  # this is the actual output layer"
   ]
  },
  {
   "cell_type": "code",
   "execution_count": 43,
   "metadata": {
    "colab": {
     "base_uri": "https://localhost:8080/",
     "height": 319
    },
    "colab_type": "code",
    "executionInfo": {
     "elapsed": 1167,
     "status": "ok",
     "timestamp": 1590647784427,
     "user": {
      "displayName": "Prashant Sahu",
      "photoUrl": "https://lh3.googleusercontent.com/a-/AOh14GgpWHtnVqeOz3R8ZN_aCneM4Ys0mkXEOSqeXNpi7A=s64",
      "userId": "17861245123904241513"
     },
     "user_tz": -330
    },
    "id": "y_Tg79-yMxbi",
    "outputId": "f221d27a-803c-45c6-c42a-9df895eed059"
   },
   "outputs": [
    {
     "name": "stdout",
     "output_type": "stream",
     "text": [
      "Model: \"sequential_5\"\n",
      "_________________________________________________________________\n",
      "Layer (type)                 Output Shape              Param #   \n",
      "=================================================================\n",
      "conv2d_16 (Conv2D)           (None, 32, 32, 32)        896       \n",
      "_________________________________________________________________\n",
      "conv2d_17 (Conv2D)           (None, 30, 30, 32)        9248      \n",
      "_________________________________________________________________\n",
      "max_pooling2d_8 (MaxPooling2 (None, 15, 15, 32)        0         \n",
      "_________________________________________________________________\n",
      "conv2d_18 (Conv2D)           (None, 15, 15, 32)        9248      \n",
      "_________________________________________________________________\n",
      "conv2d_19 (Conv2D)           (None, 13, 13, 32)        9248      \n",
      "_________________________________________________________________\n",
      "max_pooling2d_9 (MaxPooling2 (None, 6, 6, 32)          0         \n",
      "_________________________________________________________________\n",
      "flatten_5 (Flatten)          (None, 1152)              0         \n",
      "_________________________________________________________________\n",
      "dense_16 (Dense)             (None, 64)                73792     \n",
      "_________________________________________________________________\n",
      "dense_17 (Dense)             (None, 64)                4160      \n",
      "_________________________________________________________________\n",
      "dense_18 (Dense)             (None, 10)                650       \n",
      "=================================================================\n",
      "Total params: 107,242\n",
      "Trainable params: 107,242\n",
      "Non-trainable params: 0\n",
      "_________________________________________________________________\n"
     ]
    }
   ],
   "source": [
    "model.summary()"
   ]
  },
  {
   "cell_type": "code",
   "execution_count": 22,
   "metadata": {},
   "outputs": [
    {
     "data": {
      "text/plain": [
       "1573376"
      ]
     },
     "execution_count": 22,
     "metadata": {},
     "output_type": "execute_result"
    }
   ],
   "source": [
    "3072*512 + 512"
   ]
  },
  {
   "cell_type": "code",
   "execution_count": 23,
   "metadata": {
    "colab": {},
    "colab_type": "code",
    "id": "hikJieFmM7ab"
   },
   "outputs": [],
   "source": [
    "# Let's train the model using RMSprop\n",
    "model.compile(loss='categorical_crossentropy', optimizer='adam', metrics=['accuracy'])"
   ]
  },
  {
   "cell_type": "code",
   "execution_count": 24,
   "metadata": {
    "colab": {
     "base_uri": "https://localhost:8080/",
     "height": 1000
    },
    "colab_type": "code",
    "executionInfo": {
     "elapsed": 41758,
     "status": "ok",
     "timestamp": 1590647828265,
     "user": {
      "displayName": "Prashant Sahu",
      "photoUrl": "https://lh3.googleusercontent.com/a-/AOh14GgpWHtnVqeOz3R8ZN_aCneM4Ys0mkXEOSqeXNpi7A=s64",
      "userId": "17861245123904241513"
     },
     "user_tz": -330
    },
    "id": "shroIOLFONP3",
    "outputId": "2a3d67c7-196c-4026-8110-3b34b02a402b"
   },
   "outputs": [
    {
     "name": "stdout",
     "output_type": "stream",
     "text": [
      "Epoch 1/50\n",
      "45/45 [==============================] - 8s 146ms/step - loss: 10.7747 - accuracy: 0.1695 - val_loss: 4.5534 - val_accuracy: 0.3008\n",
      "Epoch 2/50\n",
      "45/45 [==============================] - 4s 97ms/step - loss: 3.9244 - accuracy: 0.3080 - val_loss: 2.8402 - val_accuracy: 0.3186\n",
      "Epoch 3/50\n",
      "45/45 [==============================] - 4s 97ms/step - loss: 2.6998 - accuracy: 0.3250 - val_loss: 2.4200 - val_accuracy: 0.3262\n",
      "Epoch 4/50\n",
      "45/45 [==============================] - 4s 99ms/step - loss: 2.3640 - accuracy: 0.3390 - val_loss: 2.2535 - val_accuracy: 0.3428\n",
      "Epoch 5/50\n",
      "45/45 [==============================] - 5s 101ms/step - loss: 2.2170 - accuracy: 0.3547 - val_loss: 2.1645 - val_accuracy: 0.3460\n",
      "Epoch 6/50\n",
      "45/45 [==============================] - 5s 112ms/step - loss: 2.1352 - accuracy: 0.3672 - val_loss: 2.1146 - val_accuracy: 0.3644\n",
      "Epoch 7/50\n",
      "45/45 [==============================] - 5s 119ms/step - loss: 2.0784 - accuracy: 0.3722 - val_loss: 2.0705 - val_accuracy: 0.3692\n",
      "Epoch 8/50\n",
      "45/45 [==============================] - 5s 115ms/step - loss: 2.0579 - accuracy: 0.3670 - val_loss: 2.0531 - val_accuracy: 0.3684\n",
      "Epoch 9/50\n",
      "45/45 [==============================] - 5s 111ms/step - loss: 2.0293 - accuracy: 0.3744 - val_loss: 2.0011 - val_accuracy: 0.3850\n",
      "Epoch 10/50\n",
      "45/45 [==============================] - 5s 110ms/step - loss: 1.9982 - accuracy: 0.3824 - val_loss: 1.9650 - val_accuracy: 0.3940\n",
      "Epoch 11/50\n",
      "45/45 [==============================] - 5s 110ms/step - loss: 1.9607 - accuracy: 0.3885 - val_loss: 2.0131 - val_accuracy: 0.3776\n",
      "Epoch 12/50\n",
      "45/45 [==============================] - 5s 114ms/step - loss: 1.9666 - accuracy: 0.3892 - val_loss: 1.9662 - val_accuracy: 0.3804\n",
      "Epoch 13/50\n",
      "45/45 [==============================] - 5s 105ms/step - loss: 1.9304 - accuracy: 0.3986 - val_loss: 1.9636 - val_accuracy: 0.3842\n",
      "Epoch 14/50\n",
      "45/45 [==============================] - 5s 108ms/step - loss: 1.9186 - accuracy: 0.3992 - val_loss: 1.9224 - val_accuracy: 0.3944curacy: 0. - ETA: 0s - loss: 1.9187 - accuracy: \n",
      "Epoch 15/50\n",
      "45/45 [==============================] - 5s 115ms/step - loss: 1.8990 - accuracy: 0.4038 - val_loss: 1.9755 - val_accuracy: 0.3760\n",
      "Epoch 16/50\n",
      "45/45 [==============================] - 5s 114ms/step - loss: 1.9060 - accuracy: 0.3950 - val_loss: 1.9033 - val_accuracy: 0.4062\n",
      "Epoch 17/50\n",
      "45/45 [==============================] - 5s 110ms/step - loss: 1.8948 - accuracy: 0.3953 - val_loss: 1.9975 - val_accuracy: 0.3524\n",
      "Epoch 18/50\n",
      "45/45 [==============================] - 5s 109ms/step - loss: 1.9096 - accuracy: 0.3914 - val_loss: 1.8763 - val_accuracy: 0.4054\n",
      "Epoch 19/50\n",
      "45/45 [==============================] - 5s 111ms/step - loss: 1.8577 - accuracy: 0.4165 - val_loss: 1.8473 - val_accuracy: 0.4166\n",
      "Epoch 20/50\n",
      "45/45 [==============================] - 5s 109ms/step - loss: 1.8462 - accuracy: 0.4184 - val_loss: 1.8568 - val_accuracy: 0.4148\n",
      "Epoch 21/50\n",
      "45/45 [==============================] - 5s 110ms/step - loss: 1.8592 - accuracy: 0.4100 - val_loss: 1.8476 - val_accuracy: 0.4138\n",
      "Epoch 22/50\n",
      "45/45 [==============================] - 5s 108ms/step - loss: 1.8430 - accuracy: 0.4152 - val_loss: 1.8812 - val_accuracy: 0.3854\n",
      "Epoch 23/50\n",
      "45/45 [==============================] - 5s 106ms/step - loss: 1.9021 - accuracy: 0.3918 - val_loss: 1.8731 - val_accuracy: 0.3984130 - ac - ETA: 1s - - ETA: 0s - loss: 1.9025 - accuracy: 0.39\n",
      "Epoch 24/50\n",
      "45/45 [==============================] - 5s 111ms/step - loss: 1.8372 - accuracy: 0.4173 - val_loss: 1.8477 - val_accuracy: 0.4172\n",
      "Epoch 25/50\n",
      "45/45 [==============================] - 5s 114ms/step - loss: 1.8295 - accuracy: 0.4290 - val_loss: 1.8608 - val_accuracy: 0.4040\n",
      "Epoch 26/50\n",
      "45/45 [==============================] - 5s 112ms/step - loss: 1.8294 - accuracy: 0.4235 - val_loss: 1.8443 - val_accuracy: 0.4148\n",
      "Epoch 27/50\n",
      "45/45 [==============================] - 5s 117ms/step - loss: 1.8216 - accuracy: 0.4239 - val_loss: 1.8544 - val_accuracy: 0.4130\n",
      "Epoch 28/50\n",
      "45/45 [==============================] - 5s 103ms/step - loss: 1.8048 - accuracy: 0.4284 - val_loss: 1.8122 - val_accuracy: 0.4258\n",
      "Epoch 29/50\n",
      "45/45 [==============================] - 5s 110ms/step - loss: 1.8018 - accuracy: 0.4255 - val_loss: 1.8352 - val_accuracy: 0.4194\n",
      "Epoch 30/50\n",
      "45/45 [==============================] - 5s 118ms/step - loss: 1.7915 - accuracy: 0.4323 - val_loss: 1.8146 - val_accuracy: 0.4228\n",
      "Epoch 31/50\n",
      "45/45 [==============================] - 5s 119ms/step - loss: 1.8125 - accuracy: 0.4246 - val_loss: 1.8473 - val_accuracy: 0.4082\n",
      "Epoch 32/50\n",
      "45/45 [==============================] - 5s 112ms/step - loss: 1.7958 - accuracy: 0.4281 - val_loss: 1.8081 - val_accuracy: 0.4276\n",
      "Epoch 33/50\n",
      "45/45 [==============================] - 5s 104ms/step - loss: 1.7726 - accuracy: 0.4393 - val_loss: 1.7880 - val_accuracy: 0.43501s - l\n",
      "Epoch 34/50\n",
      "45/45 [==============================] - 5s 105ms/step - loss: 1.7715 - accuracy: 0.4399 - val_loss: 1.9216 - val_accuracy: 0.3798\n",
      "Epoch 35/50\n",
      "45/45 [==============================] - 5s 108ms/step - loss: 1.7887 - accuracy: 0.4299 - val_loss: 1.7774 - val_accuracy: 0.4376\n",
      "Epoch 36/50\n",
      "45/45 [==============================] - 5s 107ms/step - loss: 1.7545 - accuracy: 0.4459 - val_loss: 1.8003 - val_accuracy: 0.4284\n",
      "Epoch 37/50\n",
      "45/45 [==============================] - 5s 108ms/step - loss: 1.7719 - accuracy: 0.4366 - val_loss: 1.8441 - val_accuracy: 0.4178\n",
      "Epoch 38/50\n",
      "45/45 [==============================] - 5s 118ms/step - loss: 1.7673 - accuracy: 0.4381 - val_loss: 1.7708 - val_accuracy: 0.4412\n",
      "Epoch 39/50\n",
      "45/45 [==============================] - 5s 112ms/step - loss: 1.7507 - accuracy: 0.4485 - val_loss: 1.7633 - val_accuracy: 0.4356\n",
      "Epoch 40/50\n",
      "45/45 [==============================] - 5s 110ms/step - loss: 1.7361 - accuracy: 0.4513 - val_loss: 1.7482 - val_accuracy: 0.4470\n",
      "Epoch 41/50\n",
      "45/45 [==============================] - 5s 110ms/step - loss: 1.7558 - accuracy: 0.4449 - val_loss: 1.7740 - val_accuracy: 0.4362\n",
      "Epoch 42/50\n",
      "45/45 [==============================] - 5s 113ms/step - loss: 1.7569 - accuracy: 0.4417 - val_loss: 1.7726 - val_accuracy: 0.4244\n",
      "Epoch 43/50\n",
      "45/45 [==============================] - 5s 121ms/step - loss: 1.7471 - accuracy: 0.4436 - val_loss: 1.7948 - val_accuracy: 0.4232\n",
      "Epoch 44/50\n",
      "45/45 [==============================] - 5s 115ms/step - loss: 1.7539 - accuracy: 0.4409 - val_loss: 1.7538 - val_accuracy: 0.4428\n",
      "Epoch 45/50\n",
      "45/45 [==============================] - 5s 108ms/step - loss: 1.7371 - accuracy: 0.4490 - val_loss: 1.7941 - val_accuracy: 0.4330\n",
      "Epoch 46/50\n",
      "45/45 [==============================] - 5s 112ms/step - loss: 1.7539 - accuracy: 0.4414 - val_loss: 1.7946 - val_accuracy: 0.4176\n",
      "Epoch 47/50\n",
      "45/45 [==============================] - 5s 114ms/step - loss: 1.7347 - accuracy: 0.4503 - val_loss: 1.7504 - val_accuracy: 0.4454\n",
      "Epoch 48/50\n",
      "45/45 [==============================] - 5s 111ms/step - loss: 1.7288 - accuracy: 0.4530 - val_loss: 1.7388 - val_accuracy: 0.4460\n",
      "Epoch 49/50\n",
      "45/45 [==============================] - 5s 107ms/step - loss: 1.7294 - accuracy: 0.4525 - val_loss: 1.7402 - val_accuracy: 0.4516\n",
      "Epoch 50/50\n",
      "45/45 [==============================] - 5s 106ms/step - loss: 1.7399 - accuracy: 0.4487 - val_loss: 1.7437 - val_accuracy: 0.4496\n"
     ]
    }
   ],
   "source": [
    "history = model.fit(xtrain, ytrain, validation_split=0.1, verbose=True, epochs=50, batch_size=1000)"
   ]
  },
  {
   "cell_type": "code",
   "execution_count": 25,
   "metadata": {
    "colab": {},
    "colab_type": "code",
    "id": "NHT1E0hgww7h"
   },
   "outputs": [],
   "source": [
    "import matplotlib.pyplot as plt\n",
    "%matplotlib inline"
   ]
  },
  {
   "cell_type": "code",
   "execution_count": 26,
   "metadata": {
    "colab": {
     "base_uri": "https://localhost:8080/",
     "height": 265
    },
    "colab_type": "code",
    "executionInfo": {
     "elapsed": 1327,
     "status": "ok",
     "timestamp": 1590647834908,
     "user": {
      "displayName": "Prashant Sahu",
      "photoUrl": "https://lh3.googleusercontent.com/a-/AOh14GgpWHtnVqeOz3R8ZN_aCneM4Ys0mkXEOSqeXNpi7A=s64",
      "userId": "17861245123904241513"
     },
     "user_tz": -330
    },
    "id": "wa1TccWcwwrg",
    "outputId": "55bc91d1-da77-4f85-869e-d6e40c3678b5"
   },
   "outputs": [
    {
     "data": {
      "image/png": "[encoded data removed]",
      "text/plain": [
       "<Figure size 432x288 with 1 Axes>"
      ]
     },
     "metadata": {
      "needs_background": "light"
     },
     "output_type": "display_data"
    }
   ],
   "source": [
    "history.history.keys()\n",
    "plt.plot(history.epoch, history.history['loss'])\n",
    "plt.plot(history.epoch, history.history['val_loss'])\n",
    "plt.legend(['loss', 'val_loss'])\n",
    "plt.grid('on')\n",
    "plt.show()"
   ]
  },
  {
   "cell_type": "code",
   "execution_count": 27,
   "metadata": {
    "colab": {
     "base_uri": "https://localhost:8080/",
     "height": 265
    },
    "colab_type": "code",
    "executionInfo": {
     "elapsed": 1153,
     "status": "ok",
     "timestamp": 1590647837001,
     "user": {
      "displayName": "Prashant Sahu",
      "photoUrl": "https://lh3.googleusercontent.com/a-/AOh14GgpWHtnVqeOz3R8ZN_aCneM4Ys0mkXEOSqeXNpi7A=s64",
      "userId": "17861245123904241513"
     },
     "user_tz": -330
    },
    "id": "fQQHD94pxwqc",
    "outputId": "3fe8d238-25f2-45f1-aa7a-d64ac77d5f2f"
   },
   "outputs": [
    {
     "data": {
      "image/png": "[encoded data removed]",
      "text/plain": [
       "<Figure size 432x288 with 1 Axes>"
      ]
     },
     "metadata": {
      "needs_background": "light"
     },
     "output_type": "display_data"
    }
   ],
   "source": [
    "plt.plot(history.epoch, history.history['accuracy'])\n",
    "plt.plot(history.epoch, history.history['val_accuracy'])\n",
    "plt.legend(['accuracy', 'val_accuracy'])\n",
    "plt.grid('on')\n",
    "plt.show()"
   ]
  },
  {
   "cell_type": "code",
   "execution_count": 28,
   "metadata": {
    "colab": {
     "base_uri": "https://localhost:8080/",
     "height": 34
    },
    "colab_type": "code",
    "executionInfo": {
     "elapsed": 866,
     "status": "ok",
     "timestamp": 1590647838527,
     "user": {
      "displayName": "Prashant Sahu",
      "photoUrl": "https://lh3.googleusercontent.com/a-/AOh14GgpWHtnVqeOz3R8ZN_aCneM4Ys0mkXEOSqeXNpi7A=s64",
      "userId": "17861245123904241513"
     },
     "user_tz": -330
    },
    "id": "u0JDs9BdpgzM",
    "outputId": "59af4c3a-5762-4474-c9fc-899e85ffe222"
   },
   "outputs": [
    {
     "data": {
      "text/plain": [
       "array([0., 0., 0., 0., 1., 0., 0., 0., 0., 0.], dtype=float32)"
      ]
     },
     "execution_count": 28,
     "metadata": {},
     "output_type": "execute_result"
    }
   ],
   "source": [
    "ytrain[10]"
   ]
  },
  {
   "cell_type": "code",
   "execution_count": 39,
   "metadata": {
    "colab": {},
    "colab_type": "code",
    "id": "i3PGpIU7y4Hz"
   },
   "outputs": [],
   "source": [
    "model = models.Sequential()\n",
    "model.add(layers.Conv2D(32, (3, 3), padding='same', input_shape=xtrain.shape[1:], activation='relu', \\\n",
    "                        kernel_regularizer=None))\n",
    "model.add(layers.Conv2D(32, (3, 3), activation='relu', kernel_regularizer='my_regularizer'))\n",
    "model.add(layers.MaxPooling2D(pool_size=(2, 2)))\n",
    "\n",
    "# model.add(layers.Dropout(0.25)) # Drops 25% pixels, which are not important.\n",
    "\n",
    "model.add(layers.Conv2D(32, (3, 3), padding='same', activation='relu', kernel_regularizer=None))\n",
    "model.add(layers.Conv2D(32, (3, 3), activation='relu', kernel_regularizer=None))\n",
    "model.add(layers.MaxPooling2D(pool_size=(2, 2)))\n",
    "\n",
    "# model.add(layers.Dropout(0.25))\n",
    "\n",
    "model.add(layers.Flatten())  # it converts a 2D image (eg. 12,12) into a 1D vector (1,144)\n",
    "\n",
    "model.add(layers.Dense(64, activation='relu')) # Adding a hidden layer with 512 neurons, fully connected layer\n",
    "model.add(layers.Dense(64, activation='relu')) # Adding a hidden layer with 512 neurons, fully connected layer\n",
    "# model.add(layers.Dropout(0.25))\n",
    "\n",
    "model.add(layers.Dense(10, activation='softmax'))  # this is the actual output layer\n",
    "\n",
    "# initiate RMSprop optimizer\n",
    "opt = optimizers.RMSprop(lr=0.0001, decay=1e-6)\n",
    "\n",
    "# Let's train the model using RMSprop\n",
    "model.compile(loss='categorical_crossentropy',\n",
    "              optimizer=opt,\n",
    "              metrics=['accuracy'])\n"
   ]
  },
  {
   "cell_type": "code",
   "execution_count": 41,
   "metadata": {
    "colab": {
     "base_uri": "https://localhost:8080/",
     "height": 454
    },
    "colab_type": "code",
    "executionInfo": {
     "elapsed": 4444,
     "status": "ok",
     "timestamp": 1590647844054,
     "user": {
      "displayName": "Prashant Sahu",
      "photoUrl": "https://lh3.googleusercontent.com/a-/AOh14GgpWHtnVqeOz3R8ZN_aCneM4Ys0mkXEOSqeXNpi7A=s64",
      "userId": "17861245123904241513"
     },
     "user_tz": -330
    },
    "id": "EbtZUD0MJCOs",
    "outputId": "67374e9c-3525-41bc-db3e-69792e79ffbf"
   },
   "outputs": [
    {
     "name": "stdout",
     "output_type": "stream",
     "text": [
      "Model: \"sequential_5\"\n",
      "_________________________________________________________________\n",
      "Layer (type)                 Output Shape              Param #   \n",
      "=================================================================\n",
      "conv2d_16 (Conv2D)           (None, 32, 32, 32)        896       \n",
      "_________________________________________________________________\n",
      "conv2d_17 (Conv2D)           (None, 30, 30, 32)        9248      \n",
      "_________________________________________________________________\n",
      "max_pooling2d_8 (MaxPooling2 (None, 15, 15, 32)        0         \n",
      "_________________________________________________________________\n",
      "conv2d_18 (Conv2D)           (None, 15, 15, 32)        9248      \n",
      "_________________________________________________________________\n",
      "conv2d_19 (Conv2D)           (None, 13, 13, 32)        9248      \n",
      "_________________________________________________________________\n",
      "max_pooling2d_9 (MaxPooling2 (None, 6, 6, 32)          0         \n",
      "_________________________________________________________________\n",
      "flatten_5 (Flatten)          (None, 1152)              0         \n",
      "_________________________________________________________________\n",
      "dense_16 (Dense)             (None, 64)                73792     \n",
      "_________________________________________________________________\n",
      "dense_17 (Dense)             (None, 64)                4160      \n",
      "_________________________________________________________________\n",
      "dense_18 (Dense)             (None, 10)                650       \n",
      "=================================================================\n",
      "Total params: 107,242\n",
      "Trainable params: 107,242\n",
      "Non-trainable params: 0\n",
      "_________________________________________________________________\n"
     ]
    }
   ],
   "source": [
    "model.summary()"
   ]
  },
  {
   "cell_type": "code",
   "execution_count": 42,
   "metadata": {
    "colab": {
     "base_uri": "https://localhost:8080/",
     "height": 1000
    },
    "colab_type": "code",
    "executionInfo": {
     "elapsed": 630581,
     "status": "ok",
     "timestamp": 1590648477156,
     "user": {
      "displayName": "Prashant Sahu",
      "photoUrl": "https://lh3.googleusercontent.com/a-/AOh14GgpWHtnVqeOz3R8ZN_aCneM4Ys0mkXEOSqeXNpi7A=s64",
      "userId": "17861245123904241513"
     },
     "user_tz": -330
    },
    "id": "uQkjg8bty4Ip",
    "outputId": "0430bd54-e330-4ac1-a572-26a030cc106f"
   },
   "outputs": [
    {
     "name": "stdout",
     "output_type": "stream",
     "text": [
      "Epoch 1/50\n",
      "45/45 [==============================] - 135s 3s/step - loss: 2.2863 - accuracy: 0.1333 - val_loss: 2.1975 - val_accuracy: 0.2044\n",
      "Epoch 2/50\n",
      "45/45 [==============================] - 102s 2s/step - loss: 2.1589 - accuracy: 0.2111 - val_loss: 2.0591 - val_accuracy: 0.2650\n",
      "Epoch 3/50\n",
      "45/45 [==============================] - 94s 2s/step - loss: 2.0447 - accuracy: 0.2685 - val_loss: 1.9821 - val_accuracy: 0.2928\n",
      "Epoch 4/50\n",
      "45/45 [==============================] - 92s 2s/step - loss: 1.9790 - accuracy: 0.2958 - val_loss: 1.9281 - val_accuracy: 0.3144\n",
      "Epoch 5/50\n",
      "45/45 [==============================] - 97s 2s/step - loss: 1.9286 - accuracy: 0.3133 - val_loss: 1.8799 - val_accuracy: 0.3302\n",
      "Epoch 6/50\n",
      "45/45 [==============================] - 104s 2s/step - loss: 1.8725 - accuracy: 0.3328 - val_loss: 1.8296 - val_accuracy: 0.3508\n",
      "Epoch 7/50\n",
      " 9/45 [=====>........................] - ETA: 1:09 - loss: 1.8385 - accuracy: 0.3461"
     ]
    },
    {
     "ename": "KeyboardInterrupt",
     "evalue": "",
     "output_type": "error",
     "traceback": [
      "\u001b[1;31m---------------------------------------------------------------------------\u001b[0m",
      "\u001b[1;31mKeyboardInterrupt\u001b[0m                         Traceback (most recent call last)",
      "\u001b[1;32m<ipython-input-42-8756b1cea82c>\u001b[0m in \u001b[0;36m<module>\u001b[1;34m\u001b[0m\n\u001b[1;32m----> 1\u001b[1;33m \u001b[0mhistory\u001b[0m \u001b[1;33m=\u001b[0m \u001b[0mmodel\u001b[0m\u001b[1;33m.\u001b[0m\u001b[0mfit\u001b[0m\u001b[1;33m(\u001b[0m\u001b[0mxtrain\u001b[0m\u001b[1;33m,\u001b[0m \u001b[0mytrain\u001b[0m\u001b[1;33m,\u001b[0m \u001b[0mvalidation_split\u001b[0m\u001b[1;33m=\u001b[0m\u001b[1;36m0.1\u001b[0m\u001b[1;33m,\u001b[0m \u001b[0mverbose\u001b[0m\u001b[1;33m=\u001b[0m\u001b[1;36m1\u001b[0m\u001b[1;33m,\u001b[0m \u001b[0mepochs\u001b[0m\u001b[1;33m=\u001b[0m\u001b[1;36m50\u001b[0m\u001b[1;33m,\u001b[0m\u001b[0mbatch_size\u001b[0m\u001b[1;33m=\u001b[0m\u001b[1;36m1000\u001b[0m\u001b[1;33m)\u001b[0m\u001b[1;33m\u001b[0m\u001b[1;33m\u001b[0m\u001b[0m\n\u001b[0m",
      "\u001b[1;32mc:\\users\\prashant\\anaconda3\\envs\\dl38\\lib\\site-packages\\tensorflow\\python\\keras\\engine\\training.py\u001b[0m in \u001b[0;36mfit\u001b[1;34m(self, x, y, batch_size, epochs, verbose, callbacks, validation_split, validation_data, shuffle, class_weight, sample_weight, initial_epoch, steps_per_epoch, validation_steps, validation_batch_size, validation_freq, max_queue_size, workers, use_multiprocessing)\u001b[0m\n\u001b[0;32m   1098\u001b[0m                 _r=1):\n\u001b[0;32m   1099\u001b[0m               \u001b[0mcallbacks\u001b[0m\u001b[1;33m.\u001b[0m\u001b[0mon_train_batch_begin\u001b[0m\u001b[1;33m(\u001b[0m\u001b[0mstep\u001b[0m\u001b[1;33m)\u001b[0m\u001b[1;33m\u001b[0m\u001b[1;33m\u001b[0m\u001b[0m\n\u001b[1;32m-> 1100\u001b[1;33m               \u001b[0mtmp_logs\u001b[0m \u001b[1;33m=\u001b[0m \u001b[0mself\u001b[0m\u001b[1;33m.\u001b[0m\u001b[0mtrain_function\u001b[0m\u001b[1;33m(\u001b[0m\u001b[0miterator\u001b[0m\u001b[1;33m)\u001b[0m\u001b[1;33m\u001b[0m\u001b[1;33m\u001b[0m\u001b[0m\n\u001b[0m\u001b[0;32m   1101\u001b[0m               \u001b[1;32mif\u001b[0m \u001b[0mdata_handler\u001b[0m\u001b[1;33m.\u001b[0m\u001b[0mshould_sync\u001b[0m\u001b[1;33m:\u001b[0m\u001b[1;33m\u001b[0m\u001b[1;33m\u001b[0m\u001b[0m\n\u001b[0;32m   1102\u001b[0m                 \u001b[0mcontext\u001b[0m\u001b[1;33m.\u001b[0m\u001b[0masync_wait\u001b[0m\u001b[1;33m(\u001b[0m\u001b[1;33m)\u001b[0m\u001b[1;33m\u001b[0m\u001b[1;33m\u001b[0m\u001b[0m\n",
      "\u001b[1;32mc:\\users\\prashant\\anaconda3\\envs\\dl38\\lib\\site-packages\\tensorflow\\python\\eager\\def_function.py\u001b[0m in \u001b[0;36m__call__\u001b[1;34m(self, *args, **kwds)\u001b[0m\n\u001b[0;32m    826\u001b[0m     \u001b[0mtracing_count\u001b[0m \u001b[1;33m=\u001b[0m \u001b[0mself\u001b[0m\u001b[1;33m.\u001b[0m\u001b[0mexperimental_get_tracing_count\u001b[0m\u001b[1;33m(\u001b[0m\u001b[1;33m)\u001b[0m\u001b[1;33m\u001b[0m\u001b[1;33m\u001b[0m\u001b[0m\n\u001b[0;32m    827\u001b[0m     \u001b[1;32mwith\u001b[0m \u001b[0mtrace\u001b[0m\u001b[1;33m.\u001b[0m\u001b[0mTrace\u001b[0m\u001b[1;33m(\u001b[0m\u001b[0mself\u001b[0m\u001b[1;33m.\u001b[0m\u001b[0m_name\u001b[0m\u001b[1;33m)\u001b[0m \u001b[1;32mas\u001b[0m \u001b[0mtm\u001b[0m\u001b[1;33m:\u001b[0m\u001b[1;33m\u001b[0m\u001b[1;33m\u001b[0m\u001b[0m\n\u001b[1;32m--> 828\u001b[1;33m       \u001b[0mresult\u001b[0m \u001b[1;33m=\u001b[0m \u001b[0mself\u001b[0m\u001b[1;33m.\u001b[0m\u001b[0m_call\u001b[0m\u001b[1;33m(\u001b[0m\u001b[1;33m*\u001b[0m\u001b[0margs\u001b[0m\u001b[1;33m,\u001b[0m \u001b[1;33m**\u001b[0m\u001b[0mkwds\u001b[0m\u001b[1;33m)\u001b[0m\u001b[1;33m\u001b[0m\u001b[1;33m\u001b[0m\u001b[0m\n\u001b[0m\u001b[0;32m    829\u001b[0m       \u001b[0mcompiler\u001b[0m \u001b[1;33m=\u001b[0m \u001b[1;34m\"xla\"\u001b[0m \u001b[1;32mif\u001b[0m \u001b[0mself\u001b[0m\u001b[1;33m.\u001b[0m\u001b[0m_experimental_compile\u001b[0m \u001b[1;32melse\u001b[0m \u001b[1;34m\"nonXla\"\u001b[0m\u001b[1;33m\u001b[0m\u001b[1;33m\u001b[0m\u001b[0m\n\u001b[0;32m    830\u001b[0m       \u001b[0mnew_tracing_count\u001b[0m \u001b[1;33m=\u001b[0m \u001b[0mself\u001b[0m\u001b[1;33m.\u001b[0m\u001b[0mexperimental_get_tracing_count\u001b[0m\u001b[1;33m(\u001b[0m\u001b[1;33m)\u001b[0m\u001b[1;33m\u001b[0m\u001b[1;33m\u001b[0m\u001b[0m\n",
      "\u001b[1;32mc:\\users\\prashant\\anaconda3\\envs\\dl38\\lib\\site-packages\\tensorflow\\python\\eager\\def_function.py\u001b[0m in \u001b[0;36m_call\u001b[1;34m(self, *args, **kwds)\u001b[0m\n\u001b[0;32m    853\u001b[0m       \u001b[1;31m# In this case we have created variables on the first call, so we run the\u001b[0m\u001b[1;33m\u001b[0m\u001b[1;33m\u001b[0m\u001b[1;33m\u001b[0m\u001b[0m\n\u001b[0;32m    854\u001b[0m       \u001b[1;31m# defunned version which is guaranteed to never create variables.\u001b[0m\u001b[1;33m\u001b[0m\u001b[1;33m\u001b[0m\u001b[1;33m\u001b[0m\u001b[0m\n\u001b[1;32m--> 855\u001b[1;33m       \u001b[1;32mreturn\u001b[0m \u001b[0mself\u001b[0m\u001b[1;33m.\u001b[0m\u001b[0m_stateless_fn\u001b[0m\u001b[1;33m(\u001b[0m\u001b[1;33m*\u001b[0m\u001b[0margs\u001b[0m\u001b[1;33m,\u001b[0m \u001b[1;33m**\u001b[0m\u001b[0mkwds\u001b[0m\u001b[1;33m)\u001b[0m  \u001b[1;31m# pylint: disable=not-callable\u001b[0m\u001b[1;33m\u001b[0m\u001b[1;33m\u001b[0m\u001b[0m\n\u001b[0m\u001b[0;32m    856\u001b[0m     \u001b[1;32melif\u001b[0m \u001b[0mself\u001b[0m\u001b[1;33m.\u001b[0m\u001b[0m_stateful_fn\u001b[0m \u001b[1;32mis\u001b[0m \u001b[1;32mnot\u001b[0m \u001b[1;32mNone\u001b[0m\u001b[1;33m:\u001b[0m\u001b[1;33m\u001b[0m\u001b[1;33m\u001b[0m\u001b[0m\n\u001b[0;32m    857\u001b[0m       \u001b[1;31m# Release the lock early so that multiple threads can perform the call\u001b[0m\u001b[1;33m\u001b[0m\u001b[1;33m\u001b[0m\u001b[1;33m\u001b[0m\u001b[0m\n",
      "\u001b[1;32mc:\\users\\prashant\\anaconda3\\envs\\dl38\\lib\\site-packages\\tensorflow\\python\\eager\\function.py\u001b[0m in \u001b[0;36m__call__\u001b[1;34m(self, *args, **kwargs)\u001b[0m\n\u001b[0;32m   2940\u001b[0m       (graph_function,\n\u001b[0;32m   2941\u001b[0m        filtered_flat_args) = self._maybe_define_function(args, kwargs)\n\u001b[1;32m-> 2942\u001b[1;33m     return graph_function._call_flat(\n\u001b[0m\u001b[0;32m   2943\u001b[0m         filtered_flat_args, captured_inputs=graph_function.captured_inputs)  # pylint: disable=protected-access\n\u001b[0;32m   2944\u001b[0m \u001b[1;33m\u001b[0m\u001b[0m\n",
      "\u001b[1;32mc:\\users\\prashant\\anaconda3\\envs\\dl38\\lib\\site-packages\\tensorflow\\python\\eager\\function.py\u001b[0m in \u001b[0;36m_call_flat\u001b[1;34m(self, args, captured_inputs, cancellation_manager)\u001b[0m\n\u001b[0;32m   1916\u001b[0m         and executing_eagerly):\n\u001b[0;32m   1917\u001b[0m       \u001b[1;31m# No tape is watching; skip to running the function.\u001b[0m\u001b[1;33m\u001b[0m\u001b[1;33m\u001b[0m\u001b[1;33m\u001b[0m\u001b[0m\n\u001b[1;32m-> 1918\u001b[1;33m       return self._build_call_outputs(self._inference_function.call(\n\u001b[0m\u001b[0;32m   1919\u001b[0m           ctx, args, cancellation_manager=cancellation_manager))\n\u001b[0;32m   1920\u001b[0m     forward_backward = self._select_forward_and_backward_functions(\n",
      "\u001b[1;32mc:\\users\\prashant\\anaconda3\\envs\\dl38\\lib\\site-packages\\tensorflow\\python\\eager\\function.py\u001b[0m in \u001b[0;36mcall\u001b[1;34m(self, ctx, args, cancellation_manager)\u001b[0m\n\u001b[0;32m    553\u001b[0m       \u001b[1;32mwith\u001b[0m \u001b[0m_InterpolateFunctionError\u001b[0m\u001b[1;33m(\u001b[0m\u001b[0mself\u001b[0m\u001b[1;33m)\u001b[0m\u001b[1;33m:\u001b[0m\u001b[1;33m\u001b[0m\u001b[1;33m\u001b[0m\u001b[0m\n\u001b[0;32m    554\u001b[0m         \u001b[1;32mif\u001b[0m \u001b[0mcancellation_manager\u001b[0m \u001b[1;32mis\u001b[0m \u001b[1;32mNone\u001b[0m\u001b[1;33m:\u001b[0m\u001b[1;33m\u001b[0m\u001b[1;33m\u001b[0m\u001b[0m\n\u001b[1;32m--> 555\u001b[1;33m           outputs = execute.execute(\n\u001b[0m\u001b[0;32m    556\u001b[0m               \u001b[0mstr\u001b[0m\u001b[1;33m(\u001b[0m\u001b[0mself\u001b[0m\u001b[1;33m.\u001b[0m\u001b[0msignature\u001b[0m\u001b[1;33m.\u001b[0m\u001b[0mname\u001b[0m\u001b[1;33m)\u001b[0m\u001b[1;33m,\u001b[0m\u001b[1;33m\u001b[0m\u001b[1;33m\u001b[0m\u001b[0m\n\u001b[0;32m    557\u001b[0m               \u001b[0mnum_outputs\u001b[0m\u001b[1;33m=\u001b[0m\u001b[0mself\u001b[0m\u001b[1;33m.\u001b[0m\u001b[0m_num_outputs\u001b[0m\u001b[1;33m,\u001b[0m\u001b[1;33m\u001b[0m\u001b[1;33m\u001b[0m\u001b[0m\n",
      "\u001b[1;32mc:\\users\\prashant\\anaconda3\\envs\\dl38\\lib\\site-packages\\tensorflow\\python\\eager\\execute.py\u001b[0m in \u001b[0;36mquick_execute\u001b[1;34m(op_name, num_outputs, inputs, attrs, ctx, name)\u001b[0m\n\u001b[0;32m     57\u001b[0m   \u001b[1;32mtry\u001b[0m\u001b[1;33m:\u001b[0m\u001b[1;33m\u001b[0m\u001b[1;33m\u001b[0m\u001b[0m\n\u001b[0;32m     58\u001b[0m     \u001b[0mctx\u001b[0m\u001b[1;33m.\u001b[0m\u001b[0mensure_initialized\u001b[0m\u001b[1;33m(\u001b[0m\u001b[1;33m)\u001b[0m\u001b[1;33m\u001b[0m\u001b[1;33m\u001b[0m\u001b[0m\n\u001b[1;32m---> 59\u001b[1;33m     tensors = pywrap_tfe.TFE_Py_Execute(ctx._handle, device_name, op_name,\n\u001b[0m\u001b[0;32m     60\u001b[0m                                         inputs, attrs, num_outputs)\n\u001b[0;32m     61\u001b[0m   \u001b[1;32mexcept\u001b[0m \u001b[0mcore\u001b[0m\u001b[1;33m.\u001b[0m\u001b[0m_NotOkStatusException\u001b[0m \u001b[1;32mas\u001b[0m \u001b[0me\u001b[0m\u001b[1;33m:\u001b[0m\u001b[1;33m\u001b[0m\u001b[1;33m\u001b[0m\u001b[0m\n",
      "\u001b[1;31mKeyboardInterrupt\u001b[0m: "
     ]
    }
   ],
   "source": [
    "history = model.fit(xtrain, ytrain, validation_split=0.1, verbose=1, epochs=50,batch_size=1000)"
   ]
  },
  {
   "cell_type": "code",
   "execution_count": 48,
   "metadata": {
    "colab": {
     "base_uri": "https://localhost:8080/",
     "height": 67
    },
    "colab_type": "code",
    "executionInfo": {
     "elapsed": 3336,
     "status": "ok",
     "timestamp": 1590648961932,
     "user": {
      "displayName": "Prashant Sahu",
      "photoUrl": "https://lh3.googleusercontent.com/a-/AOh14GgpWHtnVqeOz3R8ZN_aCneM4Ys0mkXEOSqeXNpi7A=s64",
      "userId": "17861245123904241513"
     },
     "user_tz": -330
    },
    "id": "03Ie9M5Ky4JS",
    "outputId": "059c185f-15b4-482b-a15d-1c165a8eac99"
   },
   "outputs": [
    {
     "name": "stdout",
     "output_type": "stream",
     "text": [
      "10000/10000 [==============================] - 2s 187us/step\n",
      "Test loss: 0.9802896227836609\n",
      "Test accuracy: 0.6547999978065491\n"
     ]
    }
   ],
   "source": [
    "# check performance on test\n",
    "scores = model.evaluate(xtest, ytest, verbose=1) \n",
    "print('Test loss:', scores[0])\n",
    "print('Test accuracy:', scores[1])"
   ]
  },
  {
   "cell_type": "code",
   "execution_count": null,
   "metadata": {
    "colab": {},
    "colab_type": "code",
    "id": "-qJQmdpjy4Jv"
   },
   "outputs": [],
   "source": []
  },
  {
   "cell_type": "markdown",
   "metadata": {
    "colab_type": "text",
    "id": "072onwh75dkX"
   },
   "source": [
    "So the model's final accuracy on the TEST data is 69%"
   ]
  },
  {
   "cell_type": "code",
   "execution_count": null,
   "metadata": {
    "colab": {},
    "colab_type": "code",
    "id": "6HTAD2_t5i_3"
   },
   "outputs": [],
   "source": []
  }
 ],
 "metadata": {
  "accelerator": "GPU",
  "colab": {
   "collapsed_sections": [],
   "name": "CIFAR_keras (1).ipynb",
   "provenance": []
  },
  "kernelspec": {
   "display_name": "Python 3 (ipykernel)",
   "language": "python",
   "name": "python3"
  },
  "language_info": {
   "codemirror_mode": {
    "name": "ipython",
    "version": 3
   },
   "file_extension": ".py",
   "mimetype": "text/x-python",
   "name": "python",
   "nbconvert_exporter": "python",
   "pygments_lexer": "ipython3",
   "version": "3.10.0"
  }
 },
 "nbformat": 4,
 "nbformat_minor": 4
}
