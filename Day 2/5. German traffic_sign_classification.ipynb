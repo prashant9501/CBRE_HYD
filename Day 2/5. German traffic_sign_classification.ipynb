{
 "cells": [
  {
   "cell_type": "markdown",
   "metadata": {
    "colab_type": "text",
    "id": "HmRAX2GJiWL9"
   },
   "source": [
    "# Traffic Sign Classification with Keras\n",
    "\n"
   ]
  },
  {
   "cell_type": "markdown",
   "metadata": {
    "colab_type": "text",
    "id": "N9zs1i7XiWMD"
   },
   "source": [
    "## Dataset\n",
    "\n",
    "The network you'll build with Keras is similar to the example in Keras’s GitHub repository that builds out a [convolutional neural network for MNIST](https://github.com/fchollet/keras/blob/master/examples/mnist_cnn.py). \n",
    "\n",
    "However, instead of using the [MNIST](http://yann.lecun.com/exdb/mnist/) dataset, you're going to use the [German Traffic Sign Recognition Benchmark](http://benchmark.ini.rub.de/?section=gtsrb&subsection=news) dataset that you've used previously.\n",
    "\n",
    "You can download pickle files with sanitized traffic sign data here:"
   ]
  },
  {
   "cell_type": "code",
   "execution_count": 1,
   "metadata": {
    "colab": {
     "base_uri": "https://localhost:8080/",
     "height": 67
    },
    "colab_type": "code",
    "executionInfo": {
     "elapsed": 4960,
     "status": "ok",
     "timestamp": 1590703684122,
     "user": {
      "displayName": "Prashant Sahu",
      "photoUrl": "https://lh3.googleusercontent.com/a-/AOh14GgpWHtnVqeOz3R8ZN_aCneM4Ys0mkXEOSqeXNpi7A=s64",
      "userId": "17861245123904241513"
     },
     "user_tz": -330
    },
    "id": "yYOwSaC6iWMK",
    "outputId": "2fd02a8a-f3d5-4bb7-fc52-d438c9b564ee"
   },
   "outputs": [
    {
     "name": "stdout",
     "output_type": "stream",
     "text": [
      "Training and Test data downloaded.\n"
     ]
    }
   ],
   "source": [
    "from urllib.request import urlretrieve\n",
    "from os.path import isfile\n",
    "from tqdm import tqdm\n",
    "\n",
    "class DLProgress(tqdm):\n",
    "    last_block = 0\n",
    "\n",
    "    def hook(self, block_num=1, block_size=1, total_size=None):\n",
    "        self.total = total_size\n",
    "        self.update((block_num - self.last_block) * block_size)\n",
    "        self.last_block = block_num\n",
    "\n",
    "if not isfile('train.p'):\n",
    "    with DLProgress(unit='B', unit_scale=True, miniters=1, desc='Train Dataset') as pbar:\n",
    "        urlretrieve(\n",
    "            'https://s3.amazonaws.com/udacity-sdc/datasets/german_traffic_sign_benchmark/train.p',\n",
    "            'train.p',\n",
    "            pbar.hook)\n",
    "\n",
    "if not isfile('test.p'):\n",
    "    with DLProgress(unit='B', unit_scale=True, miniters=1, desc='Test Dataset') as pbar:\n",
    "        urlretrieve(\n",
    "            'https://s3.amazonaws.com/udacity-sdc/datasets/german_traffic_sign_benchmark/test.p',\n",
    "            'test.p',\n",
    "            pbar.hook)\n",
    "\n",
    "print('Training and Test data downloaded.')"
   ]
  },
  {
   "cell_type": "markdown",
   "metadata": {
    "colab_type": "text",
    "id": "6VOF9K3-iWM9"
   },
   "source": [
    "## Overview\n",
    "\n",
    "Here are the steps you'll take to build the network:\n",
    "\n",
    "1. Load the training data.\n",
    "2. Preprocess the data.\n",
    "3. Build a feedforward neural network to classify traffic signs.\n",
    "4. Build a convolutional neural network to classify traffic signs.\n",
    "5. Evaluate the final neural network on testing data.\n"
   ]
  },
  {
   "cell_type": "code",
   "execution_count": 2,
   "metadata": {
    "colab": {},
    "colab_type": "code",
    "id": "ucpK74jfiWNA"
   },
   "outputs": [],
   "source": [
    "import pickle\n",
    "import numpy as np\n",
    "import math"
   ]
  },
  {
   "cell_type": "markdown",
   "metadata": {
    "colab_type": "text",
    "id": "RKYG2116iWNm"
   },
   "source": [
    "## Load the Data\n",
    "\n",
    "Start by importing the data from the pickle file."
   ]
  },
  {
   "cell_type": "code",
   "execution_count": 4,
   "metadata": {
    "colab": {
     "base_uri": "https://localhost:8080/",
     "height": 34
    },
    "colab_type": "code",
    "executionInfo": {
     "elapsed": 1729,
     "status": "ok",
     "timestamp": 1590703691419,
     "user": {
      "displayName": "Prashant Sahu",
      "photoUrl": "https://lh3.googleusercontent.com/a-/AOh14GgpWHtnVqeOz3R8ZN_aCneM4Ys0mkXEOSqeXNpi7A=s64",
      "userId": "17861245123904241513"
     },
     "user_tz": -330
    },
    "id": "JRNls9WhiWNo",
    "outputId": "697bc76e-39d5-4743-92a4-5ca352785fce"
   },
   "outputs": [
    {
     "data": {
      "text/plain": [
       "dict"
      ]
     },
     "execution_count": 4,
     "metadata": {},
     "output_type": "execute_result"
    }
   ],
   "source": [
    "with open('train.p', 'rb') as f:\n",
    "    data = pickle.load(f)\n",
    "type(data)"
   ]
  },
  {
   "cell_type": "code",
   "execution_count": 5,
   "metadata": {
    "colab": {
     "base_uri": "https://localhost:8080/",
     "height": 34
    },
    "colab_type": "code",
    "executionInfo": {
     "elapsed": 2229,
     "status": "ok",
     "timestamp": 1590703694201,
     "user": {
      "displayName": "Prashant Sahu",
      "photoUrl": "https://lh3.googleusercontent.com/a-/AOh14GgpWHtnVqeOz3R8ZN_aCneM4Ys0mkXEOSqeXNpi7A=s64",
      "userId": "17861245123904241513"
     },
     "user_tz": -330
    },
    "id": "3jvvZfXS5ChS",
    "outputId": "6e1de809-0733-457c-9973-fc3114708fb8"
   },
   "outputs": [
    {
     "name": "stdout",
     "output_type": "stream",
     "text": [
      "dict_keys(['features', 'labels'])\n"
     ]
    }
   ],
   "source": [
    "print(data.keys())"
   ]
  },
  {
   "cell_type": "code",
   "execution_count": 8,
   "metadata": {
    "colab": {
     "base_uri": "https://localhost:8080/",
     "height": 84
    },
    "colab_type": "code",
    "executionInfo": {
     "elapsed": 2428,
     "status": "ok",
     "timestamp": 1590703695102,
     "user": {
      "displayName": "Prashant Sahu",
      "photoUrl": "https://lh3.googleusercontent.com/a-/AOh14GgpWHtnVqeOz3R8ZN_aCneM4Ys0mkXEOSqeXNpi7A=s64",
      "userId": "17861245123904241513"
     },
     "user_tz": -330
    },
    "id": "yzspuoof5Njs",
    "outputId": "c2488f4f-5c91-4c8a-e05c-072fbf52b8be"
   },
   "outputs": [
    {
     "name": "stdout",
     "output_type": "stream",
     "text": [
      "(39209, 32, 32, 3)\n",
      "(39209,)\n",
      "42\n"
     ]
    },
    {
     "data": {
      "text/plain": [
       "numpy.ndarray"
      ]
     },
     "execution_count": 8,
     "metadata": {},
     "output_type": "execute_result"
    }
   ],
   "source": [
    "# Load the feature data to the variable X_train\n",
    "X_train = data['features']\n",
    "# Load the label data to the variable y_train\n",
    "y_train = data['labels']\n",
    "\n",
    "print(X_train.shape)\n",
    "print(y_train.shape)\n",
    "print(y_train[-1])\n",
    "type(X_train)"
   ]
  },
  {
   "cell_type": "markdown",
   "metadata": {
    "colab_type": "text",
    "id": "ipKB7hRxiWOM"
   },
   "source": [
    "## Preprocess the Data\n",
    "\n",
    "1. Shuffle the data\n",
    "2. Normalize the features using Min-Max scaling between -0.5 and 0.5\n",
    "3. One-Hot Encode the labels\n",
    "\n",
    "### Shuffle the data\n",
    "Hint: You can use the [scikit-learn shuffle](http://scikit-learn.org/stable/modules/generated/sklearn.utils.shuffle.html) function to shuffle the data."
   ]
  },
  {
   "cell_type": "code",
   "execution_count": 9,
   "metadata": {
    "colab": {},
    "colab_type": "code",
    "id": "mvDsurqQiWOQ"
   },
   "outputs": [],
   "source": [
    "# Shuffle the data\n",
    "from sklearn.utils import shuffle                                                                                          \n",
    "X_train, y_train = shuffle(X_train, y_train)"
   ]
  },
  {
   "cell_type": "code",
   "execution_count": 10,
   "metadata": {
    "colab": {
     "base_uri": "https://localhost:8080/",
     "height": 50
    },
    "colab_type": "code",
    "executionInfo": {
     "elapsed": 2721,
     "status": "ok",
     "timestamp": 1590703703408,
     "user": {
      "displayName": "Prashant Sahu",
      "photoUrl": "https://lh3.googleusercontent.com/a-/AOh14GgpWHtnVqeOz3R8ZN_aCneM4Ys0mkXEOSqeXNpi7A=s64",
      "userId": "17861245123904241513"
     },
     "user_tz": -330
    },
    "id": "jmWzxc5W7JvV",
    "outputId": "d9971f35-da7b-4dc6-cc98-a49577552c11",
    "scrolled": true
   },
   "outputs": [
    {
     "name": "stdout",
     "output_type": "stream",
     "text": [
      "5\n",
      "11\n"
     ]
    }
   ],
   "source": [
    "print(y_train[ 0]) # label for the 1st image\n",
    "print(y_train[-1])  # label for the last image"
   ]
  },
  {
   "cell_type": "markdown",
   "metadata": {
    "colab_type": "text",
    "id": "TK-uxRWYiWPA"
   },
   "source": [
    "### Normalize the features\n"
   ]
  },
  {
   "cell_type": "code",
   "execution_count": 11,
   "metadata": {
    "colab": {
     "base_uri": "https://localhost:8080/",
     "height": 34
    },
    "colab_type": "code",
    "executionInfo": {
     "elapsed": 3056,
     "status": "ok",
     "timestamp": 1590703710882,
     "user": {
      "displayName": "Prashant Sahu",
      "photoUrl": "https://lh3.googleusercontent.com/a-/AOh14GgpWHtnVqeOz3R8ZN_aCneM4Ys0mkXEOSqeXNpi7A=s64",
      "userId": "17861245123904241513"
     },
     "user_tz": -330
    },
    "id": "I1VwXX8iEutI",
    "outputId": "ad5b38ec-8e52-4977-9a78-ed9fd3dffae5"
   },
   "outputs": [
    {
     "data": {
      "text/plain": [
       "dtype('uint8')"
      ]
     },
     "execution_count": 11,
     "metadata": {},
     "output_type": "execute_result"
    }
   ],
   "source": [
    "X_train.dtype"
   ]
  },
  {
   "cell_type": "code",
   "execution_count": 12,
   "metadata": {
    "colab": {
     "base_uri": "https://localhost:8080/",
     "height": 266
    },
    "colab_type": "code",
    "executionInfo": {
     "elapsed": 2662,
     "status": "ok",
     "timestamp": 1590703710884,
     "user": {
      "displayName": "Prashant Sahu",
      "photoUrl": "https://lh3.googleusercontent.com/a-/AOh14GgpWHtnVqeOz3R8ZN_aCneM4Ys0mkXEOSqeXNpi7A=s64",
      "userId": "17861245123904241513"
     },
     "user_tz": -330
    },
    "id": "-eUhCi1jEutN",
    "outputId": "11f38525-7caa-4eac-edc5-d45fa39dafae"
   },
   "outputs": [
    {
     "data": {
      "image/png": "[encoded data removed]",
      "text/plain": [
       "<Figure size 432x288 with 1 Axes>"
      ]
     },
     "metadata": {
      "needs_background": "light"
     },
     "output_type": "display_data"
    }
   ],
   "source": [
    "import matplotlib.pyplot as plt\n",
    "plt.imshow(X_train[-1].astype('uint8'))\n",
    "plt.axis('off')\n",
    "plt.show()"
   ]
  },
  {
   "cell_type": "code",
   "execution_count": 13,
   "metadata": {
    "colab": {
     "base_uri": "https://localhost:8080/",
     "height": 840
    },
    "colab_type": "code",
    "executionInfo": {
     "elapsed": 2399,
     "status": "ok",
     "timestamp": 1590703724130,
     "user": {
      "displayName": "Prashant Sahu",
      "photoUrl": "https://lh3.googleusercontent.com/a-/AOh14GgpWHtnVqeOz3R8ZN_aCneM4Ys0mkXEOSqeXNpi7A=s64",
      "userId": "17861245123904241513"
     },
     "user_tz": -330
    },
    "id": "NipfH_gGEutS",
    "outputId": "39b2ef81-7224-4643-cb3e-0b4b09738cbf"
   },
   "outputs": [
    {
     "data": {
      "text/plain": [
       "array([[[ 75,  91,  87],\n",
       "        [ 91, 104, 100],\n",
       "        [ 85, 102, 101],\n",
       "        ...,\n",
       "        [ 89, 102, 103],\n",
       "        [ 80,  94, 101],\n",
       "        [ 86,  97,  98]],\n",
       "\n",
       "       [[ 88, 102,  97],\n",
       "        [100, 106, 101],\n",
       "        [ 94, 110, 107],\n",
       "        ...,\n",
       "        [ 83,  97,  99],\n",
       "        [ 82,  95, 101],\n",
       "        [ 81,  92,  93]],\n",
       "\n",
       "       [[ 89, 102,  97],\n",
       "        [ 96, 102,  98],\n",
       "        [ 92, 106, 104],\n",
       "        ...,\n",
       "        [ 83,  94,  96],\n",
       "        [ 88,  99,  98],\n",
       "        [ 87,  98, 101]],\n",
       "\n",
       "       ...,\n",
       "\n",
       "       [[ 93, 108,  99],\n",
       "        [ 86, 106,  98],\n",
       "        [ 83, 100,  94],\n",
       "        ...,\n",
       "        [ 67,  81,  83],\n",
       "        [ 70,  83,  82],\n",
       "        [ 74,  87,  88]],\n",
       "\n",
       "       [[ 90, 100,  91],\n",
       "        [ 86, 104,  94],\n",
       "        [ 86, 100,  92],\n",
       "        ...,\n",
       "        [ 64,  76,  78],\n",
       "        [ 72,  84,  83],\n",
       "        [ 77,  90,  90]],\n",
       "\n",
       "       [[ 69,  80,  76],\n",
       "        [ 74,  85,  78],\n",
       "        [ 75,  87,  81],\n",
       "        ...,\n",
       "        [ 62,  74,  76],\n",
       "        [ 65,  78,  78],\n",
       "        [ 64,  75,  78]]], dtype=uint8)"
      ]
     },
     "execution_count": 13,
     "metadata": {},
     "output_type": "execute_result"
    }
   ],
   "source": [
    "X_train[0]"
   ]
  },
  {
   "cell_type": "code",
   "execution_count": 15,
   "metadata": {
    "colab": {},
    "colab_type": "code",
    "id": "PKV32XB8EutZ"
   },
   "outputs": [
    {
     "data": {
      "text/plain": [
       "(32, 32, 3)"
      ]
     },
     "execution_count": 15,
     "metadata": {},
     "output_type": "execute_result"
    }
   ],
   "source": [
    "X_train[0].shape"
   ]
  },
  {
   "cell_type": "code",
   "execution_count": null,
   "metadata": {
    "colab": {},
    "colab_type": "code",
    "id": "biKE7JAZEute"
   },
   "outputs": [],
   "source": []
  },
  {
   "cell_type": "code",
   "execution_count": 22,
   "metadata": {
    "colab": {},
    "colab_type": "code",
    "id": "bUxhfrIpiWPC"
   },
   "outputs": [],
   "source": [
    "# TODO: Normalize the data features to the variable X_normalized\n",
    "X_min = 0\n",
    "X_max = 255\n",
    "X_train = X_train.astype('float32')\n",
    "X_normalized = X_train/255"
   ]
  },
  {
   "cell_type": "code",
   "execution_count": 23,
   "metadata": {
    "colab": {},
    "colab_type": "code",
    "id": "uvgfwSmK8Rym"
   },
   "outputs": [],
   "source": [
    "first_image = X_train[0].reshape(1,-1)"
   ]
  },
  {
   "cell_type": "code",
   "execution_count": 24,
   "metadata": {
    "colab": {
     "base_uri": "https://localhost:8080/",
     "height": 33
    },
    "colab_type": "code",
    "executionInfo": {
     "elapsed": 766,
     "status": "ok",
     "timestamp": 1591717551647,
     "user": {
      "displayName": "Prashant Sahu",
      "photoUrl": "https://lh3.googleusercontent.com/a-/AOh14GgpWHtnVqeOz3R8ZN_aCneM4Ys0mkXEOSqeXNpi7A=s64",
      "userId": "17861245123904241513"
     },
     "user_tz": -330
    },
    "id": "eVlJcc3REutu",
    "outputId": "7f1c825d-a738-4faf-d0a1-d605ef9ba833"
   },
   "outputs": [
    {
     "data": {
      "text/plain": [
       "3072"
      ]
     },
     "execution_count": 24,
     "metadata": {},
     "output_type": "execute_result"
    }
   ],
   "source": [
    "32*32*3"
   ]
  },
  {
   "cell_type": "code",
   "execution_count": 25,
   "metadata": {
    "colab": {
     "base_uri": "https://localhost:8080/",
     "height": 34
    },
    "colab_type": "code",
    "executionInfo": {
     "elapsed": 895,
     "status": "ok",
     "timestamp": 1590703730414,
     "user": {
      "displayName": "Prashant Sahu",
      "photoUrl": "https://lh3.googleusercontent.com/a-/AOh14GgpWHtnVqeOz3R8ZN_aCneM4Ys0mkXEOSqeXNpi7A=s64",
      "userId": "17861245123904241513"
     },
     "user_tz": -330
    },
    "id": "RaN0qUTcEutz",
    "outputId": "bb43a605-70a2-4fd3-d375-91150d99f26a"
   },
   "outputs": [
    {
     "data": {
      "text/plain": [
       "(1, 3072)"
      ]
     },
     "execution_count": 25,
     "metadata": {},
     "output_type": "execute_result"
    }
   ],
   "source": [
    "first_image.shape"
   ]
  },
  {
   "cell_type": "markdown",
   "metadata": {
    "colab_type": "text",
    "id": "jaKe_6y6iWP3"
   },
   "source": [
    "### One-Hot Encode the labels\n",
    "Hint: You can use the [scikit-learn LabelBinarizer](http://scikit-learn.org/stable/modules/generated/sklearn.preprocessing.LabelBinarizer.html) function to one-hot encode the labels."
   ]
  },
  {
   "cell_type": "code",
   "execution_count": 16,
   "metadata": {
    "colab": {},
    "colab_type": "code",
    "id": "I-Pg60_hiWP_"
   },
   "outputs": [],
   "source": [
    "# TODO: One Hot encode the labels to the variable y_one_hot\n",
    "from sklearn import preprocessing \n",
    "lb = preprocessing.LabelBinarizer()\n",
    "lb.fit(y_train)\n",
    "y_one_hot =lb.transform(y_train)\n",
    "# y_one_hot =lb.fit_transform(y_train)"
   ]
  },
  {
   "cell_type": "code",
   "execution_count": 17,
   "metadata": {
    "colab": {
     "base_uri": "https://localhost:8080/",
     "height": 50
    },
    "colab_type": "code",
    "executionInfo": {
     "elapsed": 844,
     "status": "ok",
     "timestamp": 1590703734660,
     "user": {
      "displayName": "Prashant Sahu",
      "photoUrl": "https://lh3.googleusercontent.com/a-/AOh14GgpWHtnVqeOz3R8ZN_aCneM4Ys0mkXEOSqeXNpi7A=s64",
      "userId": "17861245123904241513"
     },
     "user_tz": -330
    },
    "id": "4c9JtSfr90Zq",
    "outputId": "323ba67d-1705-420c-d996-a606535de71f"
   },
   "outputs": [
    {
     "data": {
      "text/plain": [
       "array([0, 0, 0, 0, 0, 0, 0, 0, 0, 0, 0, 1, 0, 0, 0, 0, 0, 0, 0, 0, 0, 0,\n",
       "       0, 0, 0, 0, 0, 0, 0, 0, 0, 0, 0, 0, 0, 0, 0, 0, 0, 0, 0, 0, 0])"
      ]
     },
     "execution_count": 17,
     "metadata": {},
     "output_type": "execute_result"
    }
   ],
   "source": [
    "y_one_hot[-1]"
   ]
  },
  {
   "cell_type": "markdown",
   "metadata": {
    "colab_type": "text",
    "id": "Y4JUdA05iWQX"
   },
   "source": [
    "## Keras Sequential Model\n",
    "```python\n",
    "from keras.models import Sequential\n",
    "\n",
    "# Create the Sequential model\n",
    "model = Sequential()\n",
    "```\n",
    "The `keras.models.Sequential` class is a wrapper for the neural network model. Just like many of the class models in scikit-learn, it provides common functions like `fit()`, `evaluate()`, and `compile()`.  We'll cover these functions as we get to them.  Let's start looking at the layers of the model.\n",
    "\n",
    "## Keras Layer\n",
    "A Keras layer is just like a neural network layer.  It can be fully connected, max pool, activation, etc.  You can add a layer to the model using the model's `add()` function.  For example, a simple model would look like this:\n",
    "```python\n",
    "from keras.models import Sequential\n",
    "from keras.layers.core import Dense, Activation, Flatten\n",
    "\n",
    "# Create the Sequential model\n",
    "model = Sequential()\n",
    "\n",
    "# 1st Layer - Add a flatten layer\n",
    "model.add(Flatten(input_shape=(32, 32, 3)))\n",
    "\n",
    "# 2nd Layer - Add a fully connected layer\n",
    "model.add(Dense(100))\n",
    "\n",
    "# 3rd Layer - Add a ReLU activation layer\n",
    "model.add(Activation('relu'))\n",
    "\n",
    "# 4th Layer - Add a fully connected layer\n",
    "model.add(Dense(60))\n",
    "\n",
    "# 5th Layer - Add a ReLU activation layer\n",
    "model.add(Activation('relu'))\n",
    "```\n",
    "Keras will automatically infer the shape of all layers after the first layer.  This means you only have to set the input dimensions for the first layer.\n",
    "\n",
    "The first layer from above, `model.add(Flatten(input_shape=(32, 32, 3)))`, sets the input dimension to (32, 32, 3) and output dimension to (3072=32\\*32\\*3).  The second layer takes in the output of the first layer and sets the output dimenions to (100).  This chain of passing output to the next layer continues until the last layer, which is the output of the model."
   ]
  },
  {
   "cell_type": "markdown",
   "metadata": {
    "colab_type": "text",
    "id": "FrrWu3t1iWQY"
   },
   "source": [
    "## Build a Multi-Layer Feedforward Network\n",
    "\n",
    "Build a multi-layer feedforward neural network to classify the traffic sign images.\n",
    "\n",
    "1. Set the first layer to a `Flatten` layer with the `input_shape` set to (32, 32, 3)\n",
    "2. Set the second layer to `Dense` layer width to 128 output. \n",
    "3. Use a ReLU activation function after the second layer.\n",
    "4. Set the output layer width to 43, since there are 43 classes in the dataset.\n",
    "5. Use a softmax activation function after the output layer.\n",
    "\n",
    "To get started, review the Keras documentation about [models](https://keras.io/models/sequential/) and [layers](https://keras.io/layers/core/).\n",
    "\n",
    "The Keras example of a [Multi-Layer Perceptron](https://github.com/fchollet/keras/blob/master/examples/mnist_mlp.py) network is similar to what you need to do here. Use that as a guide, but keep in mind that there are a number of differences."
   ]
  },
  {
   "cell_type": "code",
   "execution_count": null,
   "metadata": {
    "colab": {},
    "colab_type": "code",
    "id": "QJVyAnKYEuuI",
    "outputId": "1da9e070-81d9-44fe-f1e6-c5fe021c86f2"
   },
   "outputs": [
    {
     "data": {
      "text/plain": [
       "398891"
      ]
     },
     "execution_count": 17,
     "metadata": {
      "tags": []
     },
     "output_type": "execute_result"
    }
   ],
   "source": [
    "32*32*3*128 + 128 + (128*43 + 43)"
   ]
  },
  {
   "cell_type": "code",
   "execution_count": null,
   "metadata": {
    "colab": {},
    "colab_type": "code",
    "id": "vlyswywdEuuM",
    "outputId": "a522b15e-a2e6-4c84-b9fa-a1510334c299"
   },
   "outputs": [
    {
     "ename": "SyntaxError",
     "evalue": "invalid syntax (<ipython-input-18-81d95af0560b>, line 1)",
     "output_type": "error",
     "traceback": [
      "\u001b[1;36m  File \u001b[1;32m\"<ipython-input-18-81d95af0560b>\"\u001b[1;36m, line \u001b[1;32m1\u001b[0m\n\u001b[1;33m    32*32*3 >> pixels in each image\u001b[0m\n\u001b[1;37m                                  ^\u001b[0m\n\u001b[1;31mSyntaxError\u001b[0m\u001b[1;31m:\u001b[0m invalid syntax\n"
     ]
    }
   ],
   "source": [
    "32*32*3 >> pixels in each image"
   ]
  },
  {
   "cell_type": "code",
   "execution_count": 23,
   "metadata": {
    "colab": {
     "base_uri": "https://localhost:8080/",
     "height": 34
    },
    "colab_type": "code",
    "executionInfo": {
     "elapsed": 2911,
     "status": "ok",
     "timestamp": 1590703774539,
     "user": {
      "displayName": "Prashant Sahu",
      "photoUrl": "https://lh3.googleusercontent.com/a-/AOh14GgpWHtnVqeOz3R8ZN_aCneM4Ys0mkXEOSqeXNpi7A=s64",
      "userId": "17861245123904241513"
     },
     "user_tz": -330
    },
    "id": "MsYGHqXbiWQZ",
    "outputId": "069ee989-2ea4-4a6b-a84b-8ef876e9c250"
   },
   "outputs": [],
   "source": [
    "# TODO: Build a Multi-layer feedforward neural network with Keras here.\n",
    "from keras.models import Sequential\n",
    "from keras.layers.core import Dense, Activation, Flatten \n",
    "\n",
    "model = Sequential()\n",
    "model.add(Flatten(input_shape = (32,32,3)))  # This is the input layer\n",
    "\n",
    "model.add(Dense(128,kernel_initializer='lecun_uniform',\\\n",
    "          bias_initializer='zeros', activation='relu'))        # This is the hidden layer with 128 neurons\n",
    "\n",
    "model.add(Dense(43, activation='softmax'))         # This is the output layer"
   ]
  },
  {
   "cell_type": "code",
   "execution_count": 24,
   "metadata": {
    "colab": {
     "base_uri": "https://localhost:8080/",
     "height": 252
    },
    "colab_type": "code",
    "executionInfo": {
     "elapsed": 834,
     "status": "ok",
     "timestamp": 1590703778847,
     "user": {
      "displayName": "Prashant Sahu",
      "photoUrl": "https://lh3.googleusercontent.com/a-/AOh14GgpWHtnVqeOz3R8ZN_aCneM4Ys0mkXEOSqeXNpi7A=s64",
      "userId": "17861245123904241513"
     },
     "user_tz": -330
    },
    "id": "ZSBietgEEuue",
    "outputId": "418873b8-f9d0-4059-d61e-e950bd5602a3"
   },
   "outputs": [
    {
     "name": "stdout",
     "output_type": "stream",
     "text": [
      "Model: \"sequential_2\"\n",
      "_________________________________________________________________\n",
      "Layer (type)                 Output Shape              Param #   \n",
      "=================================================================\n",
      "flatten_2 (Flatten)          (None, 3072)              0         \n",
      "_________________________________________________________________\n",
      "dense_4 (Dense)              (None, 128)               393344    \n",
      "_________________________________________________________________\n",
      "dense_5 (Dense)              (None, 43)                5547      \n",
      "=================================================================\n",
      "Total params: 398,891\n",
      "Trainable params: 398,891\n",
      "Non-trainable params: 0\n",
      "_________________________________________________________________\n"
     ]
    }
   ],
   "source": [
    "model.summary()"
   ]
  },
  {
   "cell_type": "markdown",
   "metadata": {
    "colab_type": "text",
    "id": "FI0oetxSiWQn"
   },
   "source": [
    ",## Training a Sequential Model\n",
    "You built a multi-layer neural network in Keras, now let's look at training a neural network.\n",
    "```python\n",
    "from keras.models import Sequential\n",
    "from keras.layers.core import Dense, Activation\n",
    "\n",
    "model = Sequential()\n",
    "...\n",
    "\n",
    "# Configures the learning process and metrics\n",
    "model.compile('sgd', 'mean_squared_error', ['accuracy'])\n",
    "\n",
    "# Train the model\n",
    "# History is a record of training loss and metrics\n",
    "history = model.fit(x_train_data, Y_train_data, batch_size=128, nb_epoch=2, validation_split=0.2)\n",
    "\n",
    "# Calculate test score\n",
    "test_score = model.evaluate(x_test_data, Y_test_data)\n",
    "```\n",
    "The code above configures, trains, and tests the model.  The line `model.compile('sgd', 'mean_squared_error', ['accuracy'])` configures the model's optimizer to `'sgd'`(stochastic gradient descent), the loss to `'mean_squared_error'`, and the metric to `'accuracy'`.  \n",
    "\n",
    "You can find more optimizers [here](https://keras.io/optimizers/), loss functions [here](https://keras.io/objectives/#available-objectives), and more metrics [here](https://keras.io/metrics/#available-metrics).\n",
    "\n",
    "To train the model, use the `fit()` function as shown in `model.fit(x_train_data, Y_train_data, batch_size=128, nb_epoch=2, validation_split=0.2)`.  The `validation_split` parameter will split a percentage of the training dataset to be used to validate the model.  The model can be further tested with the test dataset using the `evaluate()` function as shown in the last line."
   ]
  },
  {
   "cell_type": "markdown",
   "metadata": {
    "colab_type": "text",
    "id": "RIziY98OiWQo"
   },
   "source": [
    "## Train the Network\n",
    "\n",
    "1. Compile the network using adam optimizer and categorical_crossentropy loss function.\n",
    "2. Train the network for ten epochs and validate with 20% of the training data."
   ]
  },
  {
   "cell_type": "code",
   "execution_count": 25,
   "metadata": {
    "colab": {
     "base_uri": "https://localhost:8080/",
     "height": 442
    },
    "colab_type": "code",
    "executionInfo": {
     "elapsed": 44331,
     "status": "ok",
     "timestamp": 1554308205516,
     "user": {
      "displayName": "Prashant Sahu",
      "photoUrl": "https://lh3.googleusercontent.com/-ompx6lyKrkc/AAAAAAAAAAI/AAAAAAAAALk/kbQk9IjXg44/s64/photo.jpg",
      "userId": "17861245123904241513"
     },
     "user_tz": -330
    },
    "id": "KtrjxlghiWQp",
    "outputId": "6ccbad51-e273-4d35-b359-6d7f03dfab39"
   },
   "outputs": [
    {
     "name": "stdout",
     "output_type": "stream",
     "text": [
      "Epoch 1/10\n",
      "262/262 [==============================] - 4s 17ms/step - loss: 2.4942 - accuracy: 0.4048 - val_loss: 1.7624 - val_accuracy: 0.5843\n",
      "Epoch 2/10\n",
      "262/262 [==============================] - 3s 12ms/step - loss: 1.4611 - accuracy: 0.6634 - val_loss: 1.2063 - val_accuracy: 0.7114\n",
      "Epoch 3/10\n",
      "262/262 [==============================] - 4s 15ms/step - loss: 1.0445 - accuracy: 0.7628 - val_loss: 0.8703 - val_accuracy: 0.8230\n",
      "Epoch 4/10\n",
      "262/262 [==============================] - 3s 12ms/step - loss: 0.8135 - accuracy: 0.8222 - val_loss: 0.7483 - val_accuracy: 0.8284\n",
      "Epoch 5/10\n",
      "262/262 [==============================] - 3s 11ms/step - loss: 0.6822 - accuracy: 0.8476 - val_loss: 0.6032 - val_accuracy: 0.8766\n",
      "Epoch 6/10\n",
      "262/262 [==============================] - 3s 11ms/step - loss: 0.5777 - accuracy: 0.8744 - val_loss: 0.5597 - val_accuracy: 0.8725\n",
      "Epoch 7/10\n",
      "262/262 [==============================] - 3s 10ms/step - loss: 0.5122 - accuracy: 0.8881 - val_loss: 0.5121 - val_accuracy: 0.8806\n",
      "Epoch 8/10\n",
      "262/262 [==============================] - 3s 11ms/step - loss: 0.4549 - accuracy: 0.8987 - val_loss: 0.4937 - val_accuracy: 0.8800\n",
      "Epoch 9/10\n",
      "262/262 [==============================] - 3s 10ms/step - loss: 0.4197 - accuracy: 0.9050 - val_loss: 0.3968 - val_accuracy: 0.9151\n",
      "Epoch 10/10\n",
      "262/262 [==============================] - 3s 10ms/step - loss: 0.3805 - accuracy: 0.9171 - val_loss: 0.3844 - val_accuracy: 0.9133\n"
     ]
    }
   ],
   "source": [
    "# TODO: Compile and train the model here.\n",
    "\n",
    "model.compile('adam', 'categorical_crossentropy', ['accuracy'])\n",
    "history = model.fit(X_normalized, y_one_hot, batch_size=120, \\\n",
    "                    epochs=10, validation_split= 0.2)"
   ]
  },
  {
   "cell_type": "code",
   "execution_count": 34,
   "metadata": {
    "colab": {},
    "colab_type": "code",
    "id": "B9WYMiTBEuux"
   },
   "outputs": [],
   "source": [
    "import matplotlib.pyplot as plt\n",
    "%matplotlib inline "
   ]
  },
  {
   "cell_type": "code",
   "execution_count": 35,
   "metadata": {
    "colab": {},
    "colab_type": "code",
    "id": "lSg3txTEEuu0",
    "outputId": "febe16e1-50af-475d-fc9a-af68985644a1"
   },
   "outputs": [
    {
     "data": {
      "text/plain": [
       "dict_keys(['loss', 'accuracy', 'val_loss', 'val_accuracy'])"
      ]
     },
     "execution_count": 35,
     "metadata": {},
     "output_type": "execute_result"
    }
   ],
   "source": [
    "history.history.keys()"
   ]
  },
  {
   "cell_type": "code",
   "execution_count": 36,
   "metadata": {
    "colab": {},
    "colab_type": "code",
    "id": "ZW-9a6TjEuu7",
    "outputId": "6281f14f-2b1d-45f5-d8af-7940291bddbe"
   },
   "outputs": [
    {
     "data": {
      "text/plain": [
       "<matplotlib.legend.Legend at 0x2b810b28508>"
      ]
     },
     "execution_count": 36,
     "metadata": {},
     "output_type": "execute_result"
    },
    {
     "data": {
      "image/png": "[encoded data removed]",
      "text/plain": [
       "<Figure size 432x288 with 1 Axes>"
      ]
     },
     "metadata": {
      "needs_background": "light"
     },
     "output_type": "display_data"
    }
   ],
   "source": [
    "plt.plot(range(0,10), history.history['val_loss'], 'b-o')\n",
    "plt.plot(range(0,10), history.history['loss'], 'g-o')\n",
    "plt.legend(['Validation Loss', 'Training Loss'])"
   ]
  },
  {
   "cell_type": "code",
   "execution_count": 37,
   "metadata": {
    "colab": {},
    "colab_type": "code",
    "id": "vy-NuLqvEuu-",
    "outputId": "66b99125-9ed0-427e-9e0e-7b953dfbe7c8"
   },
   "outputs": [
    {
     "data": {
      "text/plain": [
       "<matplotlib.legend.Legend at 0x2b8104b2b08>"
      ]
     },
     "execution_count": 37,
     "metadata": {},
     "output_type": "execute_result"
    },
    {
     "data": {
      "image/png": "[encoded data removed]",
      "text/plain": [
       "<Figure size 432x288 with 1 Axes>"
      ]
     },
     "metadata": {
      "needs_background": "light"
     },
     "output_type": "display_data"
    }
   ],
   "source": [
    "plt.plot(range(0,10), history.history['val_accuracy'], 'b-o')\n",
    "plt.plot(range(0,10), history.history['accuracy'], 'g-o')\n",
    "plt.ylabel('Accuracy')\n",
    "plt.title('Accuracy')\n",
    "plt.legend(['Val_accuracy','Train accuracy' ])"
   ]
  },
  {
   "cell_type": "code",
   "execution_count": 26,
   "metadata": {
    "colab": {
     "base_uri": "https://localhost:8080/",
     "height": 72
    },
    "colab_type": "code",
    "executionInfo": {
     "elapsed": 1322,
     "status": "ok",
     "timestamp": 1554308983472,
     "user": {
      "displayName": "Prashant Sahu",
      "photoUrl": "https://lh3.googleusercontent.com/-ompx6lyKrkc/AAAAAAAAAAI/AAAAAAAAALk/kbQk9IjXg44/s64/photo.jpg",
      "userId": "17861245123904241513"
     },
     "user_tz": -330
    },
    "id": "3oH6BohWiWRj",
    "outputId": "8454e67f-a027-4641-f058-ce173fafe10c"
   },
   "outputs": [
    {
     "name": "stdout",
     "output_type": "stream",
     "text": [
      "Model: \"sequential_3\"\n",
      "_________________________________________________________________\n",
      "Layer (type)                 Output Shape              Param #   \n",
      "=================================================================\n",
      "conv2d_2 (Conv2D)            (None, 32, 32, 64)        1792      \n",
      "_________________________________________________________________\n",
      "max_pooling2d_2 (MaxPooling2 (None, 16, 16, 64)        0         \n",
      "_________________________________________________________________\n",
      "conv2d_3 (Conv2D)            (None, 16, 16, 32)        18464     \n",
      "_________________________________________________________________\n",
      "max_pooling2d_3 (MaxPooling2 (None, 8, 8, 32)          0         \n",
      "_________________________________________________________________\n",
      "flatten_3 (Flatten)          (None, 2048)              0         \n",
      "_________________________________________________________________\n",
      "dense_6 (Dense)              (None, 128)               262272    \n",
      "_________________________________________________________________\n",
      "dense_7 (Dense)              (None, 43)                5547      \n",
      "=================================================================\n",
      "Total params: 288,075\n",
      "Trainable params: 288,075\n",
      "Non-trainable params: 0\n",
      "_________________________________________________________________\n"
     ]
    }
   ],
   "source": [
    "# TODO: Re-construct the network and add dropout after the pooling layer.\n",
    "from keras.models import Sequential\n",
    "from keras.layers.core import Dense, Flatten, Activation, Dropout\n",
    "from keras.layers import Conv2D, pooling\n",
    "from keras import models,layers\n",
    "\n",
    "model = Sequential()\n",
    "model.add(Conv2D(64, (3,3), padding='same', input_shape=(32,32,3), activation = 'relu'))\n",
    "model.add(layers.MaxPool2D(pool_size=(2,2)))\n",
    "# model.add(Dropout(0.2))\n",
    "\n",
    "model.add(Conv2D(32, (3,3), padding='same', activation = 'relu'))\n",
    "model.add(layers.MaxPool2D(pool_size=(2,2)))\n",
    "# model.add(Dropout(0.2))\n",
    "\n",
    "model.add(Flatten()) \n",
    "model.add(Dense(128, activation='relu'))\n",
    "# model.add(Dropout(0.2)) \n",
    "# model.add(Dense(64, activation='relu'))\n",
    "# model.add(Dropout(0.2))\n",
    "\n",
    "model.add(Dense(43, activation='softmax'))\n",
    "model.summary()"
   ]
  },
  {
   "cell_type": "code",
   "execution_count": 27,
   "metadata": {
    "colab": {
     "base_uri": "https://localhost:8080/",
     "height": 459
    },
    "colab_type": "code",
    "executionInfo": {
     "elapsed": 396194,
     "status": "ok",
     "timestamp": 1554309440474,
     "user": {
      "displayName": "Prashant Sahu",
      "photoUrl": "https://lh3.googleusercontent.com/-ompx6lyKrkc/AAAAAAAAAAI/AAAAAAAAALk/kbQk9IjXg44/s64/photo.jpg",
      "userId": "17861245123904241513"
     },
     "user_tz": -330
    },
    "id": "AS5IRRjDEuvf",
    "outputId": "ccc556a5-a6e6-4fad-a4cd-65e5b29500b6"
   },
   "outputs": [
    {
     "name": "stdout",
     "output_type": "stream",
     "text": [
      "Epoch 1/10\n",
      "262/262 [==============================] - 77s 295ms/step - loss: 1.8782 - accuracy: 0.4886 - val_loss: 0.7670 - val_accuracy: 0.7610\n",
      "Epoch 2/10\n",
      "262/262 [==============================] - 71s 271ms/step - loss: 0.4375 - accuracy: 0.8767 - val_loss: 0.2806 - val_accuracy: 0.9259\n",
      "Epoch 3/10\n",
      "262/262 [==============================] - 71s 273ms/step - loss: 0.2121 - accuracy: 0.9436 - val_loss: 0.2217 - val_accuracy: 0.9364\n",
      "Epoch 4/10\n",
      "262/262 [==============================] - 72s 274ms/step - loss: 0.1333 - accuracy: 0.9651 - val_loss: 0.1596 - val_accuracy: 0.9550\n",
      "Epoch 5/10\n",
      "262/262 [==============================] - 73s 277ms/step - loss: 0.0925 - accuracy: 0.9750 - val_loss: 0.0976 - val_accuracy: 0.9758\n",
      "Epoch 6/10\n",
      "262/262 [==============================] - 85s 324ms/step - loss: 0.0744 - accuracy: 0.9799 - val_loss: 0.0919 - val_accuracy: 0.9760\n",
      "Epoch 7/10\n",
      "262/262 [==============================] - 66s 251ms/step - loss: 0.0475 - accuracy: 0.9877 - val_loss: 0.0799 - val_accuracy: 0.9809\n",
      "Epoch 8/10\n",
      "262/262 [==============================] - 68s 260ms/step - loss: 0.0431 - accuracy: 0.9886 - val_loss: 0.0945 - val_accuracy: 0.9791\n",
      "Epoch 9/10\n",
      "262/262 [==============================] - 74s 282ms/step - loss: 0.0326 - accuracy: 0.9913 - val_loss: 0.1020 - val_accuracy: 0.9759\n",
      "Epoch 10/10\n",
      "262/262 [==============================] - 69s 265ms/step - loss: 0.0351 - accuracy: 0.9907 - val_loss: 0.0873 - val_accuracy: 0.9799\n"
     ]
    }
   ],
   "source": [
    "# TODO: Compile and train the model\n",
    "model.compile('adam', 'categorical_crossentropy', ['accuracy'])\n",
    "history = model.fit(X_normalized, y_one_hot, batch_size=120, \\\n",
    "                    epochs=10, validation_split= 0.2)"
   ]
  },
  {
   "cell_type": "markdown",
   "metadata": {
    "colab_type": "text",
    "id": "dtbr0R-piWSI"
   },
   "source": [
    "**Best Validation Accuracy:** 98.07%"
   ]
  },
  {
   "cell_type": "code",
   "execution_count": 28,
   "metadata": {
    "colab": {},
    "colab_type": "code",
    "id": "LoRZ3UZtEuvj",
    "outputId": "33ac45aa-15fe-4cf8-a157-864bbdea5c6e"
   },
   "outputs": [
    {
     "data": {
      "text/plain": [
       "dict_keys(['loss', 'accuracy', 'val_loss', 'val_accuracy'])"
      ]
     },
     "execution_count": 28,
     "metadata": {},
     "output_type": "execute_result"
    }
   ],
   "source": [
    "history.history.keys()"
   ]
  },
  {
   "cell_type": "code",
   "execution_count": 29,
   "metadata": {
    "colab": {},
    "colab_type": "code",
    "id": "tXPgD99gEuvn",
    "outputId": "d891a17a-971c-4d3d-d2f3-c2ec5a99a3cf"
   },
   "outputs": [
    {
     "data": {
      "text/plain": [
       "<matplotlib.legend.Legend at 0x210fa40c548>"
      ]
     },
     "execution_count": 29,
     "metadata": {},
     "output_type": "execute_result"
    },
    {
     "data": {
      "image/png": "[encoded data removed]",
      "text/plain": [
       "<Figure size 432x288 with 1 Axes>"
      ]
     },
     "metadata": {
      "needs_background": "light"
     },
     "output_type": "display_data"
    }
   ],
   "source": [
    "plt.plot(history.history['loss'], 'b-')\n",
    "plt.plot(history.history['val_loss'], 'r-')\n",
    "plt.legend(['train_loss','val_loss'])"
   ]
  },
  {
   "cell_type": "code",
   "execution_count": 30,
   "metadata": {
    "colab": {},
    "colab_type": "code",
    "id": "KR9xMYFMEuvr",
    "outputId": "efa0829e-c4e6-428b-c557-e0637bba294c"
   },
   "outputs": [
    {
     "data": {
      "text/plain": [
       "<matplotlib.legend.Legend at 0x210fa434a48>"
      ]
     },
     "execution_count": 30,
     "metadata": {},
     "output_type": "execute_result"
    },
    {
     "data": {
      "image/png": "[encoded data removed]",
      "text/plain": [
       "<Figure size 432x288 with 1 Axes>"
      ]
     },
     "metadata": {
      "needs_background": "light"
     },
     "output_type": "display_data"
    }
   ],
   "source": [
    "plt.plot(history.epoch, history.history['accuracy'], 'b-')\n",
    "plt.plot(history.epoch, history.history['val_accuracy'], 'r-')\n",
    "plt.legend(['train_accuracy','val_accuracy'])\n"
   ]
  },
  {
   "cell_type": "markdown",
   "metadata": {
    "colab_type": "text",
    "id": "5fOVgo94iWSJ"
   },
   "source": [
    "## Testing\n",
    "Once you've picked out your best model, it's time to test it.\n",
    "\n",
    "Load up the test data and use the [`evaluate()` method](https://keras.io/models/model/#evaluate) to see how well it does.\n",
    "\n",
    "Hint 1: The `evaluate()` method should return an array of numbers. Use the [`metrics_names`](https://keras.io/models/model/) property to get the labels."
   ]
  },
  {
   "cell_type": "code",
   "execution_count": 31,
   "metadata": {
    "colab": {},
    "colab_type": "code",
    "id": "aRydySRQiWSJ"
   },
   "outputs": [],
   "source": [
    "# TODO: Load test data\n",
    "with open('test.p', 'rb') as f:\n",
    "    data = pickle.load(f)\n",
    "X_test = data['features']\n",
    "y_test = data['labels']"
   ]
  },
  {
   "cell_type": "code",
   "execution_count": 32,
   "metadata": {
    "colab": {},
    "colab_type": "code",
    "id": "mBUUJlxzEuvx"
   },
   "outputs": [],
   "source": [
    "# TODO: Normalize the data features to the variable X_normalized\n",
    "X_test = X_test.astype('float32')\n",
    "X_test_normalized = X_test/255"
   ]
  },
  {
   "cell_type": "code",
   "execution_count": 33,
   "metadata": {
    "colab": {},
    "colab_type": "code",
    "id": "4v2vKjyXEuv3"
   },
   "outputs": [],
   "source": [
    "# TODO: Preprocess data & one-hot encode the labels\n",
    "y_test_one_hot =lb.transform(y_test)"
   ]
  },
  {
   "cell_type": "code",
   "execution_count": 34,
   "metadata": {
    "colab": {
     "base_uri": "https://localhost:8080/",
     "height": 70
    },
    "colab_type": "code",
    "executionInfo": {
     "elapsed": 8187,
     "status": "ok",
     "timestamp": 1554309510625,
     "user": {
      "displayName": "Prashant Sahu",
      "photoUrl": "https://lh3.googleusercontent.com/-ompx6lyKrkc/AAAAAAAAAAI/AAAAAAAAALk/kbQk9IjXg44/s64/photo.jpg",
      "userId": "17861245123904241513"
     },
     "user_tz": -330
    },
    "id": "ZWoqPbegEuv6",
    "outputId": "bcfb5c3f-e446-4170-a375-46058b738f9c"
   },
   "outputs": [
    {
     "name": "stdout",
     "output_type": "stream",
     "text": [
      "395/395 [==============================] - 8s 21ms/step - loss: 0.5732 - accuracy: 0.9063\n"
     ]
    }
   ],
   "source": [
    "# TODO: Evaluate model on test data\n",
    "metrics = model.evaluate(X_test_normalized, y_test_one_hot)"
   ]
  },
  {
   "cell_type": "code",
   "execution_count": 35,
   "metadata": {
    "colab": {},
    "colab_type": "code",
    "id": "cjkbeHujEuv-",
    "outputId": "9b30d71a-720f-48bf-ef07-69d3731b6036"
   },
   "outputs": [
    {
     "data": {
      "text/plain": [
       "[0.5732498168945312, 0.9063341021537781]"
      ]
     },
     "execution_count": 35,
     "metadata": {},
     "output_type": "execute_result"
    }
   ],
   "source": [
    "metrics"
   ]
  },
  {
   "cell_type": "code",
   "execution_count": null,
   "metadata": {
    "colab": {},
    "colab_type": "code",
    "id": "jIXbrUL9EuwB"
   },
   "outputs": [],
   "source": []
  },
  {
   "cell_type": "code",
   "execution_count": null,
   "metadata": {
    "colab": {},
    "colab_type": "code",
    "id": "Pi6Jo-fKEuwF"
   },
   "outputs": [],
   "source": []
  },
  {
   "cell_type": "markdown",
   "metadata": {
    "colab_type": "text",
    "id": "f138guYGiWSM"
   },
   "source": [
    "model.summary()"
   ]
  },
  {
   "cell_type": "markdown",
   "metadata": {
    "colab_type": "text",
    "id": "JW71LiY9iWSN"
   },
   "source": []
  }
 ],
 "metadata": {
  "accelerator": "TPU",
  "colab": {
   "collapsed_sections": [],
   "name": "traffic_sign_classification_with_keras (1).ipynb",
   "provenance": []
  },
  "kernelspec": {
   "display_name": "Python 3 (ipykernel)",
   "language": "python",
   "name": "python3"
  },
  "language_info": {
   "codemirror_mode": {
    "name": "ipython",
    "version": 3
   },
   "file_extension": ".py",
   "mimetype": "text/x-python",
   "name": "python",
   "nbconvert_exporter": "python",
   "pygments_lexer": "ipython3",
   "version": "3.10.0"
  }
 },
 "nbformat": 4,
 "nbformat_minor": 4
}
