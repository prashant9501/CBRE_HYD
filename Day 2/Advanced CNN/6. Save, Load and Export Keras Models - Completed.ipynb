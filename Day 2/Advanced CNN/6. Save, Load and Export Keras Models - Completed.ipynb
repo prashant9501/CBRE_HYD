{
 "cells": [
  {
   "cell_type": "markdown",
   "metadata": {},
   "source": [
    "# Save, Load and Export Models in Keras"
   ]
  },
  {
   "cell_type": "markdown",
   "metadata": {},
   "source": [
    "## Task 1: Import Libraries"
   ]
  },
  {
   "cell_type": "code",
   "execution_count": 1,
   "metadata": {},
   "outputs": [
    {
     "name": "stdout",
     "output_type": "stream",
     "text": [
      "This notebook works with TensorFlow version: 2.4.1\n"
     ]
    }
   ],
   "source": [
    "import tensorflow as tf\n",
    "import numpy as np\n",
    "import os\n",
    "\n",
    "print('This notebook works with TensorFlow version:', tf.__version__)"
   ]
  },
  {
   "cell_type": "code",
   "execution_count": 2,
   "metadata": {},
   "outputs": [
    {
     "name": "stdout",
     "output_type": "stream",
     "text": [
      "['Keras Tuner.ipynb', 'Creating a Custom Callback in Keras - Complete.ipynb', 'Checkpointing Models and Early Stopping.ipynb', '.ipynb_checkpoints', 'Save, Load and Export Keras Models - Completed.ipynb', 'log.txt', '2. Data Augmentation', \"1. Visualizing What CNNs 'see' & Filter Visualization\", 'Faster_RCNN_for_Open_Images', 'output', 'models', 'tmp', 'model_name', 'weights', 'Trained Models', 'desktop.ini']\n"
     ]
    }
   ],
   "source": [
    "folders = ['tmp', 'models', 'model_name', 'weights']\n",
    "for folder in folders:\n",
    "    if not os.path.isdir(folder):\n",
    "        os.mkdir(folder)\n",
    "\n",
    "print(os.listdir('.'))"
   ]
  },
  {
   "cell_type": "markdown",
   "metadata": {},
   "source": [
    "## Task 2: Create Model"
   ]
  },
  {
   "cell_type": "code",
   "execution_count": 3,
   "metadata": {},
   "outputs": [
    {
     "name": "stdout",
     "output_type": "stream",
     "text": [
      "Model: \"sequential\"\n",
      "_________________________________________________________________\n",
      "Layer (type)                 Output Shape              Param #   \n",
      "=================================================================\n",
      "dense (Dense)                (None, 128)               100480    \n",
      "_________________________________________________________________\n",
      "dense_1 (Dense)              (None, 128)               16512     \n",
      "_________________________________________________________________\n",
      "dense_2 (Dense)              (None, 10)                1290      \n",
      "=================================================================\n",
      "Total params: 118,282\n",
      "Trainable params: 118,282\n",
      "Non-trainable params: 0\n",
      "_________________________________________________________________\n"
     ]
    }
   ],
   "source": [
    "def create_model():\n",
    "    model = tf.keras.models.Sequential([\n",
    "        tf.keras.layers.Dense(128, activation='relu', input_shape=(784,)),\n",
    "        tf.keras.layers.Dense(128, activation='relu'),\n",
    "        tf.keras.layers.Dense(10, activation='softmax')\n",
    "    ])\n",
    "    model.compile(loss='categorical_crossentropy', optimizer='adam', metrics=['acc'])\n",
    "    return model\n",
    "\n",
    "model = create_model()\n",
    "model.summary()"
   ]
  },
  {
   "cell_type": "markdown",
   "metadata": {},
   "source": [
    "## Task 3: Data Preprocessing"
   ]
  },
  {
   "cell_type": "code",
   "execution_count": 4,
   "metadata": {},
   "outputs": [],
   "source": [
    "(x_train, y_train), (x_test, y_test) = tf.keras.datasets.fashion_mnist.load_data()\n",
    "\n",
    "x_train = np.reshape(x_train, (x_train.shape[0], 784))/255.\n",
    "x_test = np.reshape(x_test, (x_test.shape[0], 784))/255.\n",
    "\n",
    "y_train = tf.keras.utils.to_categorical(y_train)\n",
    "y_test = tf.keras.utils.to_categorical(y_test)"
   ]
  },
  {
   "cell_type": "markdown",
   "metadata": {},
   "source": [
    "## Task 4: Model Checkpoint During Training"
   ]
  },
  {
   "cell_type": "code",
   "execution_count": 10,
   "metadata": {},
   "outputs": [
    {
     "name": "stdout",
     "output_type": "stream",
     "text": [
      "Epoch 1/5\n",
      "118/118 [==============================] - 2s 13ms/step - loss: 0.3379 - acc: 0.8784 - val_loss: 0.3772 - val_acc: 0.8640\n",
      "Epoch 2/5\n",
      "118/118 [==============================] - 2s 14ms/step - loss: 0.3201 - acc: 0.8841 - val_loss: 0.3709 - val_acc: 0.8646\n",
      "Epoch 3/5\n",
      "118/118 [==============================] - 2s 16ms/step - loss: 0.3090 - acc: 0.8873 - val_loss: 0.3703 - val_acc: 0.8670\n",
      "Epoch 4/5\n",
      "118/118 [==============================] - 2s 16ms/step - loss: 0.3007 - acc: 0.8896 - val_loss: 0.3573 - val_acc: 0.8708\n",
      "Epoch 5/5\n",
      "118/118 [==============================] - 2s 17ms/step - loss: 0.2864 - acc: 0.8951 - val_loss: 0.3477 - val_acc: 0.8754\n"
     ]
    }
   ],
   "source": [
    "checkpoint_dir = 'weights/'\n",
    "\n",
    "h = model.fit(\n",
    "    x_train, y_train,\n",
    "    validation_data=(x_test, y_test),\n",
    "    epochs=5,\n",
    "    batch_size=512,\n",
    "    callbacks=[\n",
    "        tf.keras.callbacks.ModelCheckpoint(\n",
    "            os.path.join(checkpoint_dir, 'epoch_{epoch:02d}_acc_{val_acc:.4f}'),\n",
    "            monitor='val_acc', save_weights_only=True, save_best_only=True\n",
    "        )\n",
    "    ]\n",
    ")"
   ]
  },
  {
   "cell_type": "code",
   "execution_count": 11,
   "metadata": {},
   "outputs": [
    {
     "data": {
      "text/plain": [
       "['checkpoint',\n",
       " 'epoch_01_acc_0.8525.data-00000-of-00001',\n",
       " 'epoch_01_acc_0.8525.index',\n",
       " 'epoch_01_acc_0.8640.data-00000-of-00001',\n",
       " 'epoch_01_acc_0.8640.index',\n",
       " 'epoch_02_acc_0.8646.data-00000-of-00001',\n",
       " 'epoch_02_acc_0.8646.index',\n",
       " 'epoch_03_acc_0.8670.data-00000-of-00001',\n",
       " 'epoch_03_acc_0.8670.index',\n",
       " 'epoch_04_acc_0.8708.data-00000-of-00001',\n",
       " 'epoch_04_acc_0.8708.index',\n",
       " 'epoch_05_acc_0.8754.data-00000-of-00001',\n",
       " 'epoch_05_acc_0.8754.index']"
      ]
     },
     "execution_count": 11,
     "metadata": {},
     "output_type": "execute_result"
    }
   ],
   "source": [
    "os.listdir(checkpoint_dir)"
   ]
  },
  {
   "cell_type": "markdown",
   "metadata": {},
   "source": [
    "## Task 5: Load Weights"
   ]
  },
  {
   "cell_type": "code",
   "execution_count": 12,
   "metadata": {},
   "outputs": [],
   "source": [
    "del model"
   ]
  },
  {
   "cell_type": "code",
   "execution_count": 13,
   "metadata": {},
   "outputs": [
    {
     "name": "stdout",
     "output_type": "stream",
     "text": [
      "[2.3784847259521484, 0.04129999876022339]\n"
     ]
    }
   ],
   "source": [
    "model = create_model()\n",
    "print(model.evaluate(x_test, y_test, verbose=False))  # Evaluate the model without training!! Ofcourse goves a BAD accuracy"
   ]
  },
  {
   "cell_type": "code",
   "execution_count": 14,
   "metadata": {},
   "outputs": [
    {
     "name": "stdout",
     "output_type": "stream",
     "text": [
      "[0.3476857542991638, 0.8754000067710876]\n"
     ]
    }
   ],
   "source": [
    "model.load_weights('weights/epoch_05_acc_0.8754')\n",
    "print(model.evaluate(x_test, y_test, verbose=False))"
   ]
  },
  {
   "cell_type": "markdown",
   "metadata": {},
   "source": [
    "## Task 6: Saving Complete Model During Training"
   ]
  },
  {
   "cell_type": "code",
   "execution_count": 15,
   "metadata": {},
   "outputs": [
    {
     "name": "stdout",
     "output_type": "stream",
     "text": [
      "Epoch 1/15\n",
      "118/118 [==============================] - 2s 16ms/step - loss: 1.0072 - acc: 0.6642 - val_loss: 0.4929 - val_acc: 0.8261\n",
      "Epoch 2/15\n",
      "118/118 [==============================] - 2s 14ms/step - loss: 0.4468 - acc: 0.8441 - val_loss: 0.4605 - val_acc: 0.8392\n",
      "Epoch 3/15\n",
      "118/118 [==============================] - 2s 16ms/step - loss: 0.4089 - acc: 0.8533 - val_loss: 0.3994 - val_acc: 0.8604\n",
      "Epoch 4/15\n",
      "118/118 [==============================] - 2s 15ms/step - loss: 0.3624 - acc: 0.8707 - val_loss: 0.4203 - val_acc: 0.8517\n",
      "Epoch 5/15\n",
      "118/118 [==============================] - 2s 18ms/step - loss: 0.3439 - acc: 0.8757 - val_loss: 0.3908 - val_acc: 0.8596\n",
      "Epoch 6/15\n",
      "118/118 [==============================] - 2s 19ms/step - loss: 0.3224 - acc: 0.8816 - val_loss: 0.3721 - val_acc: 0.8682\n",
      "Epoch 7/15\n",
      "118/118 [==============================] - 2s 17ms/step - loss: 0.3093 - acc: 0.8883 - val_loss: 0.3817 - val_acc: 0.8633\n",
      "Epoch 8/15\n",
      "118/118 [==============================] - 2s 17ms/step - loss: 0.2980 - acc: 0.8909 - val_loss: 0.3457 - val_acc: 0.8779\n",
      "Epoch 9/15\n",
      "118/118 [==============================] - 2s 15ms/step - loss: 0.2788 - acc: 0.8979 - val_loss: 0.3409 - val_acc: 0.8792\n",
      "Epoch 10/15\n",
      "118/118 [==============================] - 2s 15ms/step - loss: 0.2747 - acc: 0.8995 - val_loss: 0.3472 - val_acc: 0.8772\n",
      "Epoch 11/15\n",
      "118/118 [==============================] - 1s 11ms/step - loss: 0.2620 - acc: 0.9039 - val_loss: 0.3322 - val_acc: 0.8805\n",
      "Epoch 12/15\n",
      "118/118 [==============================] - 2s 16ms/step - loss: 0.2540 - acc: 0.9072 - val_loss: 0.3494 - val_acc: 0.8768ss: 0.2540 - acc: 0.90\n",
      "Epoch 13/15\n",
      "118/118 [==============================] - 2s 15ms/step - loss: 0.2567 - acc: 0.9052 - val_loss: 0.3421 - val_acc: 0.8817\n",
      "Epoch 14/15\n",
      "118/118 [==============================] - 2s 16ms/step - loss: 0.2379 - acc: 0.9129 - val_loss: 0.3257 - val_acc: 0.8827\n",
      "Epoch 15/15\n",
      "118/118 [==============================] - 2s 18ms/step - loss: 0.2294 - acc: 0.9149 - val_loss: 0.3280 - val_acc: 0.8830\n"
     ]
    }
   ],
   "source": [
    "models_dir = 'models'\n",
    "\n",
    "model = create_model()\n",
    "\n",
    "h = model.fit(\n",
    "    x_train, y_train,\n",
    "    validation_data=(x_test, y_test),\n",
    "    epochs=15,\n",
    "    batch_size=512,\n",
    "    callbacks=[\n",
    "        tf.keras.callbacks.ModelCheckpoint(\n",
    "            os.path.join(models_dir, 'epoch_{epoch:02d}_acc_{val_acc:.4f}.h5'),\n",
    "            monitor='val_acc', save_weights_only=False, save_best_only=True\n",
    "        )\n",
    "    ]\n",
    ")"
   ]
  },
  {
   "cell_type": "code",
   "execution_count": 16,
   "metadata": {},
   "outputs": [
    {
     "data": {
      "text/plain": [
       "['epoch_01_acc_0.8140.h5',\n",
       " 'epoch_02_acc_0.8479.h5',\n",
       " 'epoch_03_acc_0.8574.h5',\n",
       " 'epoch_04_acc_0.8642.h5',\n",
       " 'epoch_05_acc_0.8646.h5',\n",
       " 'epoch_06_acc_0.8650.h5',\n",
       " 'epoch_07_acc_0.8677.h5',\n",
       " 'epoch_08_acc_0.8758.h5',\n",
       " 'epoch_10_acc_0.8785.h5',\n",
       " 'epoch_11_acc_0.8809.h5',\n",
       " 'epoch_15_acc_0.8850.h5',\n",
       " 'epoch_01_acc_0.8261.h5',\n",
       " 'epoch_02_acc_0.8392.h5',\n",
       " 'epoch_03_acc_0.8604.h5',\n",
       " 'epoch_06_acc_0.8682.h5',\n",
       " 'epoch_08_acc_0.8779.h5',\n",
       " 'epoch_09_acc_0.8792.h5',\n",
       " 'epoch_11_acc_0.8805.h5',\n",
       " 'epoch_13_acc_0.8817.h5',\n",
       " 'epoch_14_acc_0.8827.h5',\n",
       " 'epoch_15_acc_0.8830.h5',\n",
       " 'desktop.ini']"
      ]
     },
     "execution_count": 16,
     "metadata": {},
     "output_type": "execute_result"
    }
   ],
   "source": [
    "os.listdir(models_dir)"
   ]
  },
  {
   "cell_type": "markdown",
   "metadata": {},
   "source": [
    "## Task 7: Load Models"
   ]
  },
  {
   "cell_type": "code",
   "execution_count": 17,
   "metadata": {},
   "outputs": [],
   "source": [
    "del model"
   ]
  },
  {
   "cell_type": "code",
   "execution_count": 18,
   "metadata": {},
   "outputs": [
    {
     "name": "stdout",
     "output_type": "stream",
     "text": [
      "[2.4643423557281494, 0.10620000213384628]\n"
     ]
    }
   ],
   "source": [
    "model = create_model()\n",
    "print(model.evaluate(x_test, y_test, verbose=False)) # Evaluate the model without training!! Ofcourse goves a BAD accuracy"
   ]
  },
  {
   "cell_type": "code",
   "execution_count": 19,
   "metadata": {},
   "outputs": [
    {
     "name": "stdout",
     "output_type": "stream",
     "text": [
      "Model: \"sequential_2\"\n",
      "_________________________________________________________________\n",
      "Layer (type)                 Output Shape              Param #   \n",
      "=================================================================\n",
      "dense_6 (Dense)              (None, 128)               100480    \n",
      "_________________________________________________________________\n",
      "dense_7 (Dense)              (None, 128)               16512     \n",
      "_________________________________________________________________\n",
      "dense_8 (Dense)              (None, 10)                1290      \n",
      "=================================================================\n",
      "Total params: 118,282\n",
      "Trainable params: 118,282\n",
      "Non-trainable params: 0\n",
      "_________________________________________________________________\n",
      "[0.32802867889404297, 0.8830000162124634]\n"
     ]
    }
   ],
   "source": [
    "model = tf.keras.models.load_model('models/epoch_15_acc_0.8830.h5')\n",
    "model.summary()\n",
    "\n",
    "print(model.evaluate(x_test, y_test, verbose=False))"
   ]
  },
  {
   "cell_type": "markdown",
   "metadata": {},
   "source": [
    "## Task 8: Manually Saving Weights and Models"
   ]
  },
  {
   "cell_type": "code",
   "execution_count": 20,
   "metadata": {},
   "outputs": [
    {
     "name": "stdout",
     "output_type": "stream",
     "text": [
      "['manually_saved.data-00000-of-00001', 'manually_saved.index', 'checkpoint', 'manually_saved_model.h5', 'desktop.ini']\n"
     ]
    }
   ],
   "source": [
    "model.save_weights('tmp/manually_saved')\n",
    "print(os.listdir('tmp'))"
   ]
  },
  {
   "cell_type": "code",
   "execution_count": 16,
   "metadata": {},
   "outputs": [
    {
     "name": "stdout",
     "output_type": "stream",
     "text": [
      "['checkpoint', 'desktop.ini', 'manually_saved.data-00000-of-00001', 'manually_saved.index', 'manually_saved_model.h5']\n"
     ]
    }
   ],
   "source": [
    "model.save('tmp/manually_saved_model.h5')\n",
    "print(os.listdir('tmp'))"
   ]
  },
  {
   "cell_type": "markdown",
   "metadata": {},
   "source": [
    "## Task 9: Exporting and Restoring SavedModel Format"
   ]
  },
  {
   "cell_type": "code",
   "execution_count": 21,
   "metadata": {},
   "outputs": [
    {
     "name": "stdout",
     "output_type": "stream",
     "text": [
      "WARNING:tensorflow:Unresolved object in checkpoint: (root).optimizer.iter\n",
      "WARNING:tensorflow:Unresolved object in checkpoint: (root).optimizer.beta_1\n",
      "WARNING:tensorflow:Unresolved object in checkpoint: (root).optimizer.beta_2\n",
      "WARNING:tensorflow:Unresolved object in checkpoint: (root).optimizer.decay\n",
      "WARNING:tensorflow:Unresolved object in checkpoint: (root).optimizer.learning_rate\n",
      "WARNING:tensorflow:A checkpoint was restored (e.g. tf.train.Checkpoint.restore or tf.keras.Model.load_weights) but not all checkpointed values were used. See above for specific issues. Use expect_partial() on the load status object, e.g. tf.train.Checkpoint.restore(...).expect_partial(), to silence these warnings, or use assert_consumed() to make the check explicit. See https://www.tensorflow.org/guide/checkpoint#loading_mechanics for details.\n",
      "INFO:tensorflow:Assets written to: model_name\\assets\n",
      "['variables', 'assets', 'saved_model.pb', 'desktop.ini']\n"
     ]
    }
   ],
   "source": [
    "model.save('model_name')\n",
    "print(os.listdir('model_name'))"
   ]
  },
  {
   "cell_type": "code",
   "execution_count": 22,
   "metadata": {},
   "outputs": [
    {
     "name": "stdout",
     "output_type": "stream",
     "text": [
      "[0.32802867889404297, 0.8830000162124634]\n"
     ]
    }
   ],
   "source": [
    "model = tf.keras.models.load_model('model_name')\n",
    "print(model.evaluate(x_test, y_test, verbose=False))"
   ]
  },
  {
   "cell_type": "code",
   "execution_count": null,
   "metadata": {},
   "outputs": [],
   "source": []
  }
 ],
 "metadata": {
  "kernelspec": {
   "display_name": "Python 3 (ipykernel)",
   "language": "python",
   "name": "python3"
  },
  "language_info": {
   "codemirror_mode": {
    "name": "ipython",
    "version": 3
   },
   "file_extension": ".py",
   "mimetype": "text/x-python",
   "name": "python",
   "nbconvert_exporter": "python",
   "pygments_lexer": "ipython3",
   "version": "3.10.0"
  }
 },
 "nbformat": 4,
 "nbformat_minor": 4
}
